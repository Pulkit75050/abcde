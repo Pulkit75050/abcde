{
 "cells": [
  {
   "cell_type": "code",
   "execution_count": null,
   "id": "e3b79a22-689f-4a3c-b84a-ce7a46ab7c6e",
   "metadata": {},
   "outputs": [],
   "source": [
    "# function is a reusable named block of code that perform a specific task or returns a value.\n",
    "# it is of two type i.e. built-in and user defined.\n",
    "# user defined function: Functions that we define ourselves to do certain specific task.\n",
    "# built-in functions: function that are available by the python itself."
   ]
  },
  {
   "cell_type": "code",
   "execution_count": 17,
   "id": "9fe4fb59-9beb-45a9-a8bf-fdc20a7cb443",
   "metadata": {},
   "outputs": [],
   "source": [
    "# user defined functions\n",
    "## void function: that have no value written or empty.\n",
    "def greeting():\n",
    "    print(\"Hello , How are you?\")"
   ]
  },
  {
   "cell_type": "code",
   "execution_count": 11,
   "id": "306e5b1b-54d1-4f2c-81ef-f7c891492c85",
   "metadata": {},
   "outputs": [
    {
     "name": "stdout",
     "output_type": "stream",
     "text": [
      "Hello, How are you?\n"
     ]
    }
   ],
   "source": [
    "greeting()"
   ]
  },
  {
   "cell_type": "code",
   "execution_count": 10,
   "id": "6facb2ff-5159-454f-bf8d-a6b6747c0023",
   "metadata": {},
   "outputs": [],
   "source": [
    "def greeting(name, des):\n",
    "    print(f\"Hello {name}, How are you {des}?\")      # f is known as format for making statement dynamic.  "
   ]
  },
  {
   "cell_type": "code",
   "execution_count": 11,
   "id": "2d2eff03-969a-4de2-bf54-ced5173439c8",
   "metadata": {},
   "outputs": [
    {
     "name": "stdout",
     "output_type": "stream",
     "text": [
      "Hello Pulkit, How are you Mr.?\n"
     ]
    }
   ],
   "source": [
    "greet = greeting(\"Pulkit\",\"Mr.\")"
   ]
  },
  {
   "cell_type": "code",
   "execution_count": 12,
   "id": "6967dc8f-e101-44d3-ade2-a4e6997b41a2",
   "metadata": {},
   "outputs": [],
   "source": [
    "greet # it shows no value and if we print(greet) then we get none in the result."
   ]
  },
  {
   "cell_type": "code",
   "execution_count": 2,
   "id": "9da7af96-793d-4d7c-afb1-4317541edc65",
   "metadata": {},
   "outputs": [],
   "source": [
    "# non void function : that can have some value and store in the new variable. \n",
    "def multiplication(x,y):\n",
    "    return x*y"
   ]
  },
  {
   "cell_type": "code",
   "execution_count": 7,
   "id": "5a4bda07-ab1e-48a5-81f1-45af1efc3fb9",
   "metadata": {},
   "outputs": [
    {
     "data": {
      "text/plain": [
       "30"
      ]
     },
     "execution_count": 7,
     "metadata": {},
     "output_type": "execute_result"
    }
   ],
   "source": [
    "multiple = multiplication(5,6)\n",
    "multiple"
   ]
  },
  {
   "cell_type": "code",
   "execution_count": 16,
   "id": "3ba88c9d-8c8b-4c9f-a058-4dfa3a760292",
   "metadata": {},
   "outputs": [],
   "source": [
    "# for multiple values   (*) shows unlimited arguments\n",
    "def argment(*args):\n",
    "    for arg in args:\n",
    "        print(arg) "
   ]
  },
  {
   "cell_type": "code",
   "execution_count": 17,
   "id": "769e1504-5a01-47f0-a93e-511e51f845dc",
   "metadata": {},
   "outputs": [
    {
     "name": "stdout",
     "output_type": "stream",
     "text": [
      "1\n",
      "2\n",
      "3\n",
      "4\n",
      "5\n",
      "6\n",
      "7\n",
      "8\n",
      "9\n"
     ]
    }
   ],
   "source": [
    "argment(1,2,3,4,5,6,7,8,9)"
   ]
  },
  {
   "cell_type": "code",
   "execution_count": 18,
   "id": "9cd4fa83-28dd-46de-a271-626ce4cfc219",
   "metadata": {},
   "outputs": [],
   "source": [
    "def namess(name , message, *bags):\n",
    "    print(name)\n",
    "    print(message)\n",
    "    for bag in bags:\n",
    "        print(bag)"
   ]
  },
  {
   "cell_type": "code",
   "execution_count": 19,
   "id": "006dd08d-7485-406a-8c33-b0c2ae4e6487",
   "metadata": {},
   "outputs": [
    {
     "name": "stdout",
     "output_type": "stream",
     "text": [
      "Pulkit\n",
      "messages\n",
      "1\n",
      "2\n",
      "3\n",
      "4\n",
      "5\n",
      "6\n"
     ]
    }
   ],
   "source": [
    "namess(\"Pulkit\", \"messages\",1,2,3,4,5,6)"
   ]
  },
  {
   "cell_type": "code",
   "execution_count": null,
   "id": "19102776-31d9-4e22-8520-8f635a5c9144",
   "metadata": {},
   "outputs": [],
   "source": [
    "# lambda function - anonymous function because it can be used anywhere."
   ]
  },
  {
   "cell_type": "code",
   "execution_count": 20,
   "id": "e644cd56-2cf0-4e17-bd06-7713a4537948",
   "metadata": {},
   "outputs": [],
   "source": [
    "add= lambda x,y :x+y"
   ]
  },
  {
   "cell_type": "code",
   "execution_count": 21,
   "id": "6f0cc822-7515-4dba-8ff1-8de411a636f6",
   "metadata": {},
   "outputs": [
    {
     "data": {
      "text/plain": [
       "13"
      ]
     },
     "execution_count": 21,
     "metadata": {},
     "output_type": "execute_result"
    }
   ],
   "source": [
    "add(5,8)"
   ]
  },
  {
   "cell_type": "code",
   "execution_count": 22,
   "id": "1bc176a8-e206-4bb7-b85a-63110eb05a24",
   "metadata": {},
   "outputs": [],
   "source": [
    "sq = lambda x: x**2"
   ]
  },
  {
   "cell_type": "code",
   "execution_count": 23,
   "id": "37684f9c-6fbc-4931-a7f3-8b9bb1fe3f17",
   "metadata": {},
   "outputs": [
    {
     "data": {
      "text/plain": [
       "81"
      ]
     },
     "execution_count": 23,
     "metadata": {},
     "output_type": "execute_result"
    }
   ],
   "source": [
    "sq(9)"
   ]
  },
  {
   "cell_type": "code",
   "execution_count": 26,
   "id": "f6ec6c04-c2d9-47a8-a4f4-7e7473b0d8e2",
   "metadata": {},
   "outputs": [
    {
     "data": {
      "text/plain": [
       "98.6"
      ]
     },
     "execution_count": 26,
     "metadata": {},
     "output_type": "execute_result"
    }
   ],
   "source": [
    "# Ques. -- create a lambda function converter celsius to farh.\n",
    "temp = lambda x: x*9/5 +32 # or x*1.8 +32\n",
    "temp(37)"
   ]
  },
  {
   "cell_type": "code",
   "execution_count": null,
   "id": "13c0cd2b-49ff-43cb-9b4d-244287def332",
   "metadata": {},
   "outputs": [],
   "source": [
    "# list comprehension: is a simple way to create a new list by applying operations."
   ]
  },
  {
   "cell_type": "code",
   "execution_count": 51,
   "id": "574bdc86-1ea8-4fbd-b20b-361a6ac56419",
   "metadata": {},
   "outputs": [],
   "source": [
    "even_num =[(i**2) for i in range(15) if i%2 == 1 ]"
   ]
  },
  {
   "cell_type": "code",
   "execution_count": 52,
   "id": "3db7362b-d4a6-4946-99f1-25deefeba7d0",
   "metadata": {},
   "outputs": [
    {
     "data": {
      "text/plain": [
       "[1, 9, 25, 49, 81, 121, 169]"
      ]
     },
     "execution_count": 52,
     "metadata": {},
     "output_type": "execute_result"
    }
   ],
   "source": [
    "even_num"
   ]
  },
  {
   "cell_type": "code",
   "execution_count": 50,
   "id": "221d753b-e482-4720-8fc0-1e33a0ed870e",
   "metadata": {},
   "outputs": [
    {
     "data": {
      "text/plain": [
       "[100, 144, 196, 256, 324]"
      ]
     },
     "execution_count": 50,
     "metadata": {},
     "output_type": "execute_result"
    }
   ],
   "source": [
    "lll= [(lambda x: x**2)(i) for i in range(10,20) if i%2 ==0]\n",
    "lll"
   ]
  },
  {
   "cell_type": "code",
   "execution_count": 68,
   "id": "8f7f6293-1dee-4a2e-a565-b7f70c067fe0",
   "metadata": {},
   "outputs": [
    {
     "data": {
      "text/plain": [
       "['user2@example.com', 'user4@example.com']"
      ]
     },
     "execution_count": 68,
     "metadata": {},
     "output_type": "execute_result"
    }
   ],
   "source": [
    "# Ques. -- collecting emails only of @example.com\n",
    "email_addresses = [\"user1@gmail.com\", \"user2@example.com\",\"user3@okaxis.com\",\"user4@example.com\"]\n",
    "email = []\n",
    "email1= [email for email in email_addresses if \"@example.com\" in email]\n",
    "email1                                 # or if email.endswith(\"@example.com\")"
   ]
  },
  {
   "cell_type": "code",
   "execution_count": null,
   "id": "0a0422ca-597f-49c9-a2c9-5a6879ae5064",
   "metadata": {},
   "outputs": [],
   "source": [
    "# map and filter "
   ]
  },
  {
   "cell_type": "code",
   "execution_count": 71,
   "id": "7274d1fe-b51f-4ed7-96a3-2dce38bae19a",
   "metadata": {},
   "outputs": [
    {
     "data": {
      "text/plain": [
       "[0, 1, 4, 9, 16, 25, 36, 49, 64, 81]"
      ]
     },
     "execution_count": 71,
     "metadata": {},
     "output_type": "execute_result"
    }
   ],
   "source": [
    "number= [i for i in range(10)]\n",
    "number_map = list(map(lambda x : x**2, number))\n",
    "number_map"
   ]
  },
  {
   "cell_type": "code",
   "execution_count": 73,
   "id": "eb1a3224-d1c9-4522-8e1a-a9227cfc63f3",
   "metadata": {},
   "outputs": [
    {
     "data": {
      "text/plain": [
       "[0, 2, 4, 6, 8]"
      ]
     },
     "execution_count": 73,
     "metadata": {},
     "output_type": "execute_result"
    }
   ],
   "source": [
    "even= list(filter(lambda x: x%2 ==0, number))\n",
    "even       # filter is like if and else condition."
   ]
  },
  {
   "cell_type": "code",
   "execution_count": null,
   "id": "fd0790ad-eaf9-4c36-a0a8-82955a5ea7e5",
   "metadata": {},
   "outputs": [],
   "source": []
  },
  {
   "cell_type": "code",
   "execution_count": 3,
   "id": "a55e9a4c-aaf1-4c7b-ad7e-2b307ed26ad9",
   "metadata": {},
   "outputs": [],
   "source": [
    "# OOPs concepts: object orientated programming"
   ]
  },
  {
   "cell_type": "code",
   "execution_count": 4,
   "id": "5bbf1b62-b2b5-4a07-ab52-4d73f4f1c179",
   "metadata": {},
   "outputs": [],
   "source": [
    "class clas_name:\n",
    "    \"\"\"\" doc string\"\"\"\n",
    "    #statement1\n",
    "    #statement2"
   ]
  },
  {
   "cell_type": "code",
   "execution_count": 1,
   "id": "1e97fdc6-5f62-40a6-a9ae-d44c7c95a06d",
   "metadata": {},
   "outputs": [],
   "source": [
    "# parameterized construction\n",
    "class student:\n",
    "    \"\"\"creating students details object\"\"\"\n",
    "    \n",
    "    def __init__(self,name , rollno):\n",
    "        self.name = name \n",
    "        self.rollno = rollno\n",
    "        \n",
    "    def show(self):\n",
    "        print(f\"name: {self.name} has roll number = {self.rollno}\")"
   ]
  },
  {
   "cell_type": "code",
   "execution_count": 4,
   "id": "80316819-fbd5-4a02-9f25-497a10bdd164",
   "metadata": {},
   "outputs": [],
   "source": [
    "student1 = student(\"Sahil\",'123456')"
   ]
  },
  {
   "cell_type": "code",
   "execution_count": 3,
   "id": "06ba895d-1ae4-4717-8c5d-7b376f301730",
   "metadata": {},
   "outputs": [],
   "source": [
    "student2 = student(\"Pulkit\", '147896')"
   ]
  },
  {
   "cell_type": "code",
   "execution_count": 14,
   "id": "660b2ed0-7d64-47b5-8eaa-684284700aaf",
   "metadata": {},
   "outputs": [],
   "source": [
    "a = \"abc\""
   ]
  },
  {
   "cell_type": "code",
   "execution_count": 15,
   "id": "146fba40-ca59-436c-8002-4dfa8937092d",
   "metadata": {},
   "outputs": [
    {
     "data": {
      "text/plain": [
       "str"
      ]
     },
     "execution_count": 15,
     "metadata": {},
     "output_type": "execute_result"
    }
   ],
   "source": [
    "type(a)"
   ]
  },
  {
   "cell_type": "code",
   "execution_count": 5,
   "id": "2b9f966f-16b6-420a-ad95-3ed68280390c",
   "metadata": {},
   "outputs": [
    {
     "name": "stdout",
     "output_type": "stream",
     "text": [
      "name: Pulkit has roll number = 147896\n"
     ]
    }
   ],
   "source": [
    "student2.show()"
   ]
  },
  {
   "cell_type": "code",
   "execution_count": 32,
   "id": "40ce524c-fe5b-4611-8ddb-d17bcfc77503",
   "metadata": {},
   "outputs": [],
   "source": [
    "# default construction\n",
    "class person:\n",
    "    def display(self):\n",
    "        print ('inside display')"
   ]
  },
  {
   "cell_type": "code",
   "execution_count": 34,
   "id": "c3cc87b5-e658-4cea-8ce0-521a4c00c1da",
   "metadata": {},
   "outputs": [],
   "source": [
    "man = person()"
   ]
  },
  {
   "cell_type": "code",
   "execution_count": 35,
   "id": "fc258ccf-da0e-4128-ad06-7f8c6d5a676a",
   "metadata": {},
   "outputs": [
    {
     "data": {
      "text/plain": [
       "__main__.person"
      ]
     },
     "execution_count": 35,
     "metadata": {},
     "output_type": "execute_result"
    }
   ],
   "source": [
    "type(man)"
   ]
  },
  {
   "cell_type": "code",
   "execution_count": 44,
   "id": "14dca5e2-9e68-429c-ab0e-9a3df7610fb7",
   "metadata": {},
   "outputs": [],
   "source": [
    "# parameterized construction\n",
    "class student:\n",
    "    \"\"\"creating students details object\"\"\"\n",
    "    \n",
    "    company =\"pwskills\"\n",
    "    \n",
    "    def __init__(self,name , rollno):   # self is object's variable\n",
    "        self.name = name \n",
    "        self.rollno = rollno\n",
    "        \n",
    "    def show(self):\n",
    "        print(f\"name: {self.name} has rollnumber = {self.rollno}\")\n",
    "    \n",
    "    def upper_case(self):\n",
    "        print(f\"name in capital: {self.name.upper()}\")\n",
    "    \n",
    "    def company_name(cls):  # cls is template's variable\n",
    "        print(f\"name in capital:{cls.company.upper()}\")"
   ]
  },
  {
   "cell_type": "code",
   "execution_count": 42,
   "id": "9bc2cead-8175-4704-9e9e-ae77d89be7e5",
   "metadata": {},
   "outputs": [],
   "source": [
    "student3 = student(\"ravi\", 15645)"
   ]
  },
  {
   "cell_type": "code",
   "execution_count": null,
   "id": "f2ca2054-66a7-4971-a897-522a619b842a",
   "metadata": {},
   "outputs": [],
   "source": [
    "student3.company_name()"
   ]
  },
  {
   "cell_type": "code",
   "execution_count": 1,
   "id": "ec1fca2a-9657-407b-bed4-388988d2ee91",
   "metadata": {},
   "outputs": [],
   "source": [
    "class vehicle:\n",
    "    def __init__(self, speed):\n",
    "        self.speed = speed\n",
    "        \n",
    "    def display_speed(self):\n",
    "        print(f\"speed of vehicle{self.speed}\")\n",
    "    \n",
    "class car(vehicle):\n",
    "    def __init__(self,speed,brand):\n",
    "        super().__init__(speed)\n",
    "        self.brand = brand\n",
    "        \n",
    "    def display_brand(self):\n",
    "        print(f\"display {self.brand}\")\n",
    "        \n",
    "class Type(car):\n",
    "    def __init__(self, speed, brand,type):\n",
    "        super().__init__(speed, brand)\n",
    "        self.type = type\n",
    "    \n",
    "    def display_type(self):\n",
    "        print(f\"display {self.type}\")"
   ]
  },
  {
   "cell_type": "code",
   "execution_count": 22,
   "id": "761fefbc-79f0-4fc5-bad2-9123c2360598",
   "metadata": {},
   "outputs": [],
   "source": [
    "mahindra = car(120,\"Mahindra\")"
   ]
  },
  {
   "cell_type": "code",
   "execution_count": 16,
   "id": "a7ab2169-c809-4fe9-89b0-9a0d67c9caf6",
   "metadata": {},
   "outputs": [],
   "source": [
    "mahindra_hatchback = Type(120, \"mahindra\", \"hatchback\")"
   ]
  },
  {
   "cell_type": "code",
   "execution_count": 18,
   "id": "9c66db83-2cd8-44ba-929e-26c40be52161",
   "metadata": {},
   "outputs": [
    {
     "data": {
      "text/plain": [
       "'hatchback'"
      ]
     },
     "execution_count": 18,
     "metadata": {},
     "output_type": "execute_result"
    }
   ],
   "source": [
    "mahindra_hatchback.type"
   ]
  },
  {
   "cell_type": "code",
   "execution_count": 24,
   "id": "490fb46e-b540-4f7a-a734-244bc897e12a",
   "metadata": {},
   "outputs": [
    {
     "data": {
      "text/plain": [
       "'Mahindra'"
      ]
     },
     "execution_count": 24,
     "metadata": {},
     "output_type": "execute_result"
    }
   ],
   "source": [
    "mahindra.brand"
   ]
  },
  {
   "cell_type": "code",
   "execution_count": null,
   "id": "477bca17-bc88-42c2-a058-5fbcd355244c",
   "metadata": {},
   "outputs": [],
   "source": []
  },
  {
   "cell_type": "code",
   "execution_count": null,
   "id": "229f5db6-2046-439a-ae14-1c9c1e22cf93",
   "metadata": {},
   "outputs": [],
   "source": []
  },
  {
   "cell_type": "code",
   "execution_count": null,
   "id": "244b9665-3cbf-4774-90d4-be7400057bfa",
   "metadata": {},
   "outputs": [],
   "source": [
    "#shradha oops"
   ]
  },
  {
   "cell_type": "code",
   "execution_count": 4,
   "id": "174c879b-7ef0-4253-b878-941874c5133e",
   "metadata": {},
   "outputs": [
    {
     "name": "stdout",
     "output_type": "stream",
     "text": [
      "karan\n"
     ]
    }
   ],
   "source": [
    "# class is a blueprint for creating objects.\n",
    "# class is form from two elements i.e. attributes and methods(or functions)\n",
    "# creating class\n",
    "class Student:\n",
    "    name =\"karan\"\n",
    "    \n",
    "# creating objects\n",
    "s1 = Student()\n",
    "print(s1.name)"
   ]
  },
  {
   "cell_type": "code",
   "execution_count": 5,
   "id": "a529b59f-ff73-4e30-a939-f14f226e2d32",
   "metadata": {},
   "outputs": [
    {
     "name": "stdout",
     "output_type": "stream",
     "text": [
      "karan\n"
     ]
    }
   ],
   "source": [
    "s2 = Student()\n",
    "print(s2.name)"
   ]
  },
  {
   "cell_type": "code",
   "execution_count": 10,
   "id": "71bd0f20-1720-44ad-97cf-71a09217b50d",
   "metadata": {},
   "outputs": [],
   "source": [
    "class Car:\n",
    "    color = \"blue\"\n",
    "    brand = \"mercedes\""
   ]
  },
  {
   "cell_type": "code",
   "execution_count": 11,
   "id": "3c53b39c-d361-4337-b3c9-6ea237f708e6",
   "metadata": {},
   "outputs": [
    {
     "name": "stdout",
     "output_type": "stream",
     "text": [
      "blue\n",
      "mercedes\n"
     ]
    }
   ],
   "source": [
    "car1 = Car()\n",
    "print(car1.color)\n",
    "print(car1.brand)"
   ]
  },
  {
   "cell_type": "code",
   "execution_count": 47,
   "id": "f818a410-5f9e-40b7-965c-f0aa3fe0ea08",
   "metadata": {},
   "outputs": [],
   "source": [
    "# __init__ function (\"Constructor\") it is compulsary if we don't create it python automatically creates it.\n",
    "# all classes have a function called init function which is always executed when the class is being initiated.\n",
    "# attributes: the data\\variables inside the class is known as attribute.\n",
    "# attribute are of two type \n",
    "#class attribute : which is same for every elements.\n",
    "# instances attributes: which are different for every objects.\n",
    "\n",
    "class Student:\n",
    "    \n",
    "    college_name = \"ABC college\"   # class attribute\n",
    "    \n",
    "    def __init__(self):    # default constructors.\n",
    "        pass\n",
    "\n",
    "    def __init__(self, name, marks):      # parameterized constructor: more data other than self.\n",
    "        self.name = name                  # these name and marks are instances attributes.\n",
    "        self.marks = marks\n",
    "        print(\"adding new student in database..\")\n",
    "    \n",
    "    def welcome(self):\n",
    "        print(\"welcome student\", self.name)\n",
    "        \n",
    "    def get_marks(self):\n",
    "        print(\"marks\", self.marks)"
   ]
  },
  {
   "cell_type": "code",
   "execution_count": 49,
   "id": "bcaedcd6-68cc-432d-a268-69e756003e38",
   "metadata": {},
   "outputs": [
    {
     "name": "stdout",
     "output_type": "stream",
     "text": [
      "adding new student in database..\n",
      "karan 95 ABC college\n"
     ]
    }
   ],
   "source": [
    "s1 = Student(\"karan\",\"95\")\n",
    "print(s1.name, s1.marks, s1.college_name)"
   ]
  },
  {
   "cell_type": "code",
   "execution_count": 37,
   "id": "90763801-317c-4133-9030-b6d088f81266",
   "metadata": {},
   "outputs": [
    {
     "name": "stdout",
     "output_type": "stream",
     "text": [
      "adding new student in database..\n",
      "arjun 89\n"
     ]
    }
   ],
   "source": [
    "s2= Student(\"arjun\", \"89\")\n",
    "print(s2.name, s2.marks)"
   ]
  },
  {
   "cell_type": "code",
   "execution_count": 41,
   "id": "4ca2a3da-1152-4fc2-b45a-34d098df8b68",
   "metadata": {},
   "outputs": [
    {
     "data": {
      "text/plain": [
       "'ABC college'"
      ]
     },
     "execution_count": 41,
     "metadata": {},
     "output_type": "execute_result"
    }
   ],
   "source": [
    "Student.college_name    # class atribute"
   ]
  },
  {
   "cell_type": "code",
   "execution_count": null,
   "id": "aa320700-775e-4438-82b9-aa93e84af7de",
   "metadata": {},
   "outputs": [],
   "source": [
    "# methods: are the functions that belong to objects."
   ]
  },
  {
   "cell_type": "code",
   "execution_count": 50,
   "id": "3502bf0c-19b9-46ef-862c-a0dab51c27b8",
   "metadata": {},
   "outputs": [
    {
     "name": "stdout",
     "output_type": "stream",
     "text": [
      "marks 95\n"
     ]
    }
   ],
   "source": [
    "s1.get_marks()"
   ]
  },
  {
   "cell_type": "code",
   "execution_count": 53,
   "id": "0e252826-9827-4392-8b11-8c687ba85f23",
   "metadata": {},
   "outputs": [
    {
     "name": "stdout",
     "output_type": "stream",
     "text": [
      "welcome student karan\n"
     ]
    }
   ],
   "source": [
    "s1.welcome()"
   ]
  },
  {
   "cell_type": "code",
   "execution_count": 23,
   "id": "ae18c86b-120f-4dc7-874d-4d246fd32618",
   "metadata": {},
   "outputs": [
    {
     "name": "stdout",
     "output_type": "stream",
     "text": [
      "Have a look\n"
     ]
    },
    {
     "data": {
      "text/plain": [
       "'Pulkit'"
      ]
     },
     "execution_count": 23,
     "metadata": {},
     "output_type": "execute_result"
    }
   ],
   "source": [
    "\"\"\"\n",
    "Q. create class that takes name and marks of three subjects as arguments in constructor.\n",
    "   then create a method to print the average.(use list)\n",
    "   \"\"\"\n",
    "lists = [\"MATHS\",\"SST\",\"EVS\"]\n",
    "lists1= [96,89,97]\n",
    "class Stud:\n",
    "    def __init__(self, Names, lists1, lists):\n",
    "        self.Names = Names\n",
    "        self.lists1 = lists1\n",
    "        self.lists = lists\n",
    "        print(\"Have a look\")\n",
    "        \n",
    "    def avg_marks(self):\n",
    "        sum=0\n",
    "        for val in self.lists:\n",
    "            sum += val\n",
    "        print(\"Hello\", self.Names , \"your avrage score is\", sum/3)\n",
    "\n",
    "T1= Stud(\"Pulkit\", lists , lists1)\n",
    "T1.Names"
   ]
  },
  {
   "cell_type": "code",
   "execution_count": 83,
   "id": "51449045-6ae8-4e02-bead-7d9adba9575b",
   "metadata": {},
   "outputs": [
    {
     "name": "stdout",
     "output_type": "stream",
     "text": [
      "Hello Ram your avrage score is 94.0\n"
     ]
    }
   ],
   "source": [
    "T1.Names = \"Ram\"    # want to change name.\n",
    "T1.avg_marks()"
   ]
  },
  {
   "cell_type": "code",
   "execution_count": 26,
   "id": "bccf4442-9b18-4b72-abdd-061303956904",
   "metadata": {},
   "outputs": [
    {
     "name": "stdout",
     "output_type": "stream",
     "text": [
      "Have a look\n"
     ]
    }
   ],
   "source": [
    "lists = [\"MATHS\",\"SST\",\"EVS\"]\n",
    "lists1= [96,89,97]\n",
    "class Studs:\n",
    "    def __init__(self, Names, lists1, lists):\n",
    "        self.Names = Names\n",
    "        self.lists1 = lists1\n",
    "        self.lists = lists\n",
    "        print(\"Have a look\")\n",
    "T8= Studs(\"Pulkit\", lists , lists1)"
   ]
  },
  {
   "cell_type": "code",
   "execution_count": 22,
   "id": "772b749b-6f0b-4cc8-9a03-fcaa52884f32",
   "metadata": {},
   "outputs": [
    {
     "data": {
      "text/plain": [
       "[__main__.studs, object]"
      ]
     },
     "execution_count": 22,
     "metadata": {},
     "output_type": "execute_result"
    }
   ],
   "source": [
    "t8."
   ]
  },
  {
   "cell_type": "code",
   "execution_count": null,
   "id": "81b6a535-dca8-4850-af99-5b9126302303",
   "metadata": {},
   "outputs": [],
   "source": []
  },
  {
   "cell_type": "code",
   "execution_count": null,
   "id": "896c474e-b808-4e47-bac2-51f743643d74",
   "metadata": {},
   "outputs": [],
   "source": []
  }
 ],
 "metadata": {
  "kernelspec": {
   "display_name": "Python 3 (ipykernel)",
   "language": "python",
   "name": "python3"
  },
  "language_info": {
   "codemirror_mode": {
    "name": "ipython",
    "version": 3
   },
   "file_extension": ".py",
   "mimetype": "text/x-python",
   "name": "python",
   "nbconvert_exporter": "python",
   "pygments_lexer": "ipython3",
   "version": "3.10.8"
  }
 },
 "nbformat": 4,
 "nbformat_minor": 5
}
