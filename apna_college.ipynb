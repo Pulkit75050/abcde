{
 "cells": [
  {
   "cell_type": "code",
   "execution_count": 1,
   "id": "96f7470b-dacf-45bd-9bb6-003ed55e191d",
   "metadata": {},
   "outputs": [],
   "source": []
  },
  {
   "cell_type": "code",
   "execution_count": null,
   "id": "4d1dac26-bda7-4856-98aa-50f541d9f5e6",
   "metadata": {},
   "outputs": [],
   "source": []
  },
  {
   "cell_type": "code",
   "execution_count": null,
   "id": "882741bd-def3-4d1d-bf70-032d203e7600",
   "metadata": {},
   "outputs": [],
   "source": []
  },
  {
   "cell_type": "code",
   "execution_count": null,
   "id": "b57f2e4f-a0e8-4b5b-a9c8-c488bb386b60",
   "metadata": {},
   "outputs": [],
   "source": []
  },
  {
   "cell_type": "code",
   "execution_count": null,
   "id": "03979f2e-730f-4bb3-8950-efab8d3f1948",
   "metadata": {},
   "outputs": [],
   "source": []
  },
  {
   "cell_type": "code",
   "execution_count": null,
   "id": "03245878-0f4d-40de-8930-36916bb9585f",
   "metadata": {},
   "outputs": [],
   "source": []
  },
  {
   "cell_type": "code",
   "execution_count": null,
   "id": "1bc67db4-7e49-4e8c-bcbd-47a7e2599dd5",
   "metadata": {},
   "outputs": [],
   "source": []
  },
  {
   "cell_type": "code",
   "execution_count": null,
   "id": "6de63a27-3614-4bf1-969d-ca945fc670cf",
   "metadata": {},
   "outputs": [],
   "source": []
  },
  {
   "cell_type": "code",
   "execution_count": null,
   "id": "2277c48d-e852-4730-9516-c405a9017823",
   "metadata": {},
   "outputs": [],
   "source": []
  },
  {
   "cell_type": "code",
   "execution_count": null,
   "id": "6894dc9f-f51b-4478-a972-15fad32132af",
   "metadata": {},
   "outputs": [],
   "source": [
    "# loops: are used to repeat instruction."
   ]
  },
  {
   "cell_type": "code",
   "execution_count": 3,
   "id": "8cb93f24-8e0d-41ed-a92c-739f6c248543",
   "metadata": {},
   "outputs": [
    {
     "name": "stdout",
     "output_type": "stream",
     "text": [
      "hello\n",
      "hello\n",
      "hello\n",
      "hello\n",
      "hello\n"
     ]
    }
   ],
   "source": [
    "i = 1     # here i is known as iteration\n",
    "while i <= 5:\n",
    "    print(\"hello\")\n",
    "    i = i +1"
   ]
  },
  {
   "cell_type": "code",
   "execution_count": 1,
   "id": "33023d61-0c18-4351-92eb-2722bf8c5125",
   "metadata": {},
   "outputs": [
    {
     "name": "stdout",
     "output_type": "stream",
     "text": [
      "1\n",
      "2\n",
      "3\n",
      "4\n",
      "5\n",
      "6\n",
      "7\n",
      "8\n",
      "9\n",
      "10\n",
      "11\n",
      "12\n",
      "13\n",
      "14\n",
      "15\n",
      "16\n",
      "17\n",
      "18\n",
      "19\n",
      "20\n"
     ]
    }
   ],
   "source": [
    "\"\"\"Q. print number from 1 to 20\"\"\"\n",
    "i=1\n",
    "while i<= 20:\n",
    "    print(i)\n",
    "    i= i+1"
   ]
  },
  {
   "cell_type": "code",
   "execution_count": 2,
   "id": "1167b7c8-e272-486e-b61b-6dd84d0c59e9",
   "metadata": {},
   "outputs": [
    {
     "name": "stdout",
     "output_type": "stream",
     "text": [
      "20\n",
      "19\n",
      "18\n",
      "17\n",
      "16\n",
      "15\n",
      "14\n",
      "13\n",
      "12\n",
      "11\n",
      "10\n",
      "9\n",
      "8\n",
      "7\n",
      "6\n",
      "5\n",
      "4\n",
      "3\n",
      "2\n",
      "1\n"
     ]
    }
   ],
   "source": [
    "\"\"\"Q. print number 20 to 1\"\"\"\n",
    "i = 20\n",
    "while i >= 1:\n",
    "    print(i)\n",
    "    i= i-1\n"
   ]
  },
  {
   "cell_type": "code",
   "execution_count": 22,
   "id": "33e18149-d155-4e59-b241-906c45d3a680",
   "metadata": {},
   "outputs": [
    {
     "name": "stdin",
     "output_type": "stream",
     "text": [
      "enter the value: 58\n"
     ]
    },
    {
     "name": "stdout",
     "output_type": "stream",
     "text": [
      "58\n",
      "116\n",
      "174\n",
      "232\n",
      "290\n",
      "348\n",
      "406\n",
      "464\n",
      "522\n",
      "580\n"
     ]
    }
   ],
   "source": [
    "\"\"\"print the multiplication table of a number n. \"\"\"\n",
    "i=1\n",
    "n= int(input(\"enter the value:\"))\n",
    "while i<=10:\n",
    "    print(n*i)\n",
    "    i= i+1"
   ]
  },
  {
   "cell_type": "code",
   "execution_count": 30,
   "id": "2a47180c-3793-41fb-b969-effdad0bdd0f",
   "metadata": {},
   "outputs": [
    {
     "name": "stdout",
     "output_type": "stream",
     "text": [
      "1\n",
      "4\n",
      "9\n",
      "16\n",
      "25\n",
      "36\n",
      "49\n",
      "64\n",
      "81\n",
      "100\n"
     ]
    }
   ],
   "source": [
    "\"\"\"Q. print the elements of the list using loop [1,4,9,16,25,36,49,64,81,100]\"\"\"\n",
    "h=[1,4,9,16,25,36,49,64,81,100]\n",
    "idx=0\n",
    "while idx < len(h):\n",
    "    print(h[idx])\n",
    "    idx= idx+1"
   ]
  },
  {
   "cell_type": "code",
   "execution_count": 16,
   "id": "25b4f6e6-ae76-4b5c-a069-26bb684e6654",
   "metadata": {},
   "outputs": [
    {
     "name": "stdout",
     "output_type": "stream",
     "text": [
      "found at idx 5\n"
     ]
    }
   ],
   "source": [
    "\"\"\"search for a number x in this tuple using loop. (1,4,9,16,25,36,49,64,81,100)\"\"\"\n",
    "k=(1,4,9,16,25,36,49,64,81,100)\n",
    "x=36\n",
    "i=0\n",
    "while i<len(k):\n",
    "    if x==k[i]:\n",
    "        print(\"found at idx\", i)\n",
    "    i = i+1"
   ]
  },
  {
   "cell_type": "code",
   "execution_count": 8,
   "id": "d0b65fa2-0cf0-4763-a011-a5caad388d5a",
   "metadata": {},
   "outputs": [
    {
     "name": "stdout",
     "output_type": "stream",
     "text": [
      "0\n",
      "1\n",
      "2\n",
      "3\n",
      "4\n",
      "5\n",
      "6\n",
      "till here only\n"
     ]
    }
   ],
   "source": [
    "# break: used to terminate the loop when encountered.\n",
    "i= 0\n",
    "while i <10:\n",
    "    print(i)\n",
    "    if i == 6 :\n",
    "        print(\"till here only\")\n",
    "        break\n",
    "    i = i+1    "
   ]
  },
  {
   "cell_type": "code",
   "execution_count": 3,
   "id": "7ac8411b-3aef-4319-bcd0-8c38db1d4c94",
   "metadata": {},
   "outputs": [
    {
     "name": "stdout",
     "output_type": "stream",
     "text": [
      "0\n",
      "1\n",
      "2\n",
      "3\n",
      "4\n",
      "5\n",
      "7\n",
      "8\n",
      "9\n",
      "10\n"
     ]
    }
   ],
   "source": [
    "#continue: terminates execution in the current iterartion and continues execution of the loop with the nrxt iteration.\n",
    "i= 0\n",
    "while i <= 10:\n",
    "    if i == 6 :\n",
    "        i = i+1\n",
    "        continue\n",
    "    print(i)\n",
    "    i = i+1  \n",
    "\n"
   ]
  },
  {
   "cell_type": "code",
   "execution_count": 4,
   "id": "773cd0ba-2c96-4d5f-89ed-60149455def8",
   "metadata": {},
   "outputs": [
    {
     "name": "stdout",
     "output_type": "stream",
     "text": [
      "1\n",
      "2\n",
      "3\n",
      "4\n",
      "5\n",
      "6\n"
     ]
    }
   ],
   "source": [
    "# for loop\n",
    "kkk= [1,2,3,4,5,6]\n",
    "for i in kkk:\n",
    "    print(i)"
   ]
  },
  {
   "cell_type": "code",
   "execution_count": 7,
   "id": "047914bc-4a32-46ef-bac5-91167e789189",
   "metadata": {},
   "outputs": [
    {
     "name": "stdout",
     "output_type": "stream",
     "text": [
      "ALOO\n",
      "GOBI\n",
      "PAALAK\n",
      "GAAZAR\n",
      "LOOKI\n"
     ]
    }
   ],
   "source": [
    "veggies= ['aloo','gobi','paalak','gaazar','looki']\n",
    "for i in veggies:\n",
    "    print(i.upper())"
   ]
  },
  {
   "cell_type": "code",
   "execution_count": 2,
   "id": "248ddadf-4e59-45a1-8422-308cb13f62de",
   "metadata": {},
   "outputs": [
    {
     "name": "stdout",
     "output_type": "stream",
     "text": [
      "H\n",
      "A\n",
      "T\n",
      "H\n",
      "R\n",
      "A\n",
      "S\n"
     ]
    }
   ],
   "source": [
    "strr = \"HATHRAS\"\n",
    "for i in strr:\n",
    "    print(i)"
   ]
  },
  {
   "cell_type": "code",
   "execution_count": 7,
   "id": "14b119e1-ba2e-4048-931b-820e2aad67a4",
   "metadata": {},
   "outputs": [
    {
     "name": "stdout",
     "output_type": "stream",
     "text": [
      "H\n",
      "hello\n",
      "T\n",
      "H\n",
      "R\n",
      "hello\n",
      "S\n",
      "hhh\n"
     ]
    }
   ],
   "source": [
    "strr = \"HATHRAS\"\n",
    "for i in strr:\n",
    "    if i == \"A\":\n",
    "        print(\"hello\")\n",
    "    else:\n",
    "        print(i)\n",
    "print(\"hhh\")"
   ]
  },
  {
   "cell_type": "code",
   "execution_count": 9,
   "id": "c8292397-d384-416d-a164-b1ab7c434ee1",
   "metadata": {},
   "outputs": [
    {
     "name": "stdout",
     "output_type": "stream",
     "text": [
      "1\n",
      "4\n",
      "9\n",
      "16\n",
      "25\n",
      "36\n",
      "49\n",
      "64\n",
      "81\n",
      "100\n"
     ]
    }
   ],
   "source": [
    "\"\"\" Q. print the elemnts of the following list using a loop: [1,4,9,16,25,36,49,64,81,100]\"\"\"\n",
    "AA = [1,4,9,16,25,36,49,64,81,100]\n",
    "for i in AA:\n",
    "    print(i)\n"
   ]
  },
  {
   "cell_type": "code",
   "execution_count": 24,
   "id": "2f4525a8-c753-4be6-87d3-9de36196c8a3",
   "metadata": {},
   "outputs": [
    {
     "name": "stdout",
     "output_type": "stream",
     "text": [
      "x founded 7\n"
     ]
    }
   ],
   "source": [
    "\"\"\"search for a number x in this tuple using loop. (1,4,9,16,25,36,49,64,81,100)\"\"\"\n",
    "aa = (1,4,9,16,25,36,49,64,81,100)\n",
    "x = 64\n",
    "p= 0\n",
    "for i in aa:\n",
    "    if x == i:\n",
    "        print(\"x founded\", p)\n",
    "    p = p+1"
   ]
  },
  {
   "cell_type": "code",
   "execution_count": 26,
   "id": "4aa0ebdf-5ff4-4ce3-a140-1bb1bf4f1997",
   "metadata": {},
   "outputs": [
    {
     "name": "stdout",
     "output_type": "stream",
     "text": [
      "0\n",
      "1\n",
      "2\n",
      "3\n",
      "4\n",
      "5\n",
      "6\n",
      "7\n",
      "8\n",
      "9\n"
     ]
    }
   ],
   "source": [
    "# range : is a function that return sequence of number from 0 to where we end less 1.\n",
    "for i in range(10):\n",
    "    print(i)"
   ]
  },
  {
   "cell_type": "code",
   "execution_count": 29,
   "id": "2d896daf-0e1a-4158-bd95-ac285373d639",
   "metadata": {},
   "outputs": [
    {
     "name": "stdout",
     "output_type": "stream",
     "text": [
      "1\n",
      "2\n",
      "3\n",
      "4\n",
      "5\n",
      "6\n",
      "7\n",
      "8\n",
      "9\n",
      "10\n"
     ]
    }
   ],
   "source": [
    "\"\"\"Q. print numbers from 1 to 10 by using for and range\"\"\"\n",
    "\n",
    "for i in range(1,11):\n",
    "    print(i)"
   ]
  },
  {
   "cell_type": "code",
   "execution_count": 32,
   "id": "63ff73aa-a79f-434b-979d-2f4bab021a9c",
   "metadata": {},
   "outputs": [
    {
     "name": "stdout",
     "output_type": "stream",
     "text": [
      "10\n",
      "9\n",
      "8\n",
      "7\n",
      "6\n",
      "5\n",
      "4\n",
      "3\n",
      "2\n",
      "1\n"
     ]
    }
   ],
   "source": [
    "\"\"\" Q. print numbers from 10 to 1.\"\"\"\n",
    "\n",
    "for i in range (10,0,-1):\n",
    "    print(i)\n"
   ]
  },
  {
   "cell_type": "code",
   "execution_count": 35,
   "id": "76ada3b0-1d13-44dc-9e62-2b63083b8acb",
   "metadata": {},
   "outputs": [
    {
     "name": "stdin",
     "output_type": "stream",
     "text": [
      "Enter any value:  58558\n"
     ]
    },
    {
     "name": "stdout",
     "output_type": "stream",
     "text": [
      "58558\n",
      "117116\n",
      "175674\n",
      "234232\n",
      "292790\n",
      "351348\n",
      "409906\n",
      "468464\n",
      "527022\n",
      "585580\n"
     ]
    }
   ],
   "source": [
    "\"\"\"Q. print multiplication table of a number n\"\"\"\n",
    "\n",
    "n = int(input(\"Enter any value: \"))\n",
    "for i in range (1,11):\n",
    "    print(n*i)"
   ]
  },
  {
   "cell_type": "code",
   "execution_count": 12,
   "id": "30b084d5-24e7-4b69-88f7-95cc55b944f6",
   "metadata": {},
   "outputs": [
    {
     "name": "stdin",
     "output_type": "stream",
     "text": [
      "Enter the value:  36\n"
     ]
    },
    {
     "name": "stdout",
     "output_type": "stream",
     "text": [
      "666\n"
     ]
    }
   ],
   "source": [
    "\"\"\" Q. find the sum of first n numbers.\"\"\"\n",
    "n= int(input(\"Enter the value: \"))\n",
    "sum= 0\n",
    "for i in range(n+1):\n",
    "    sum= sum+i\n",
    "print(sum)"
   ]
  },
  {
   "cell_type": "code",
   "execution_count": 2,
   "id": "96141d61-9eca-4c4c-ad7f-10a29b9e3fdb",
   "metadata": {},
   "outputs": [
    {
     "name": "stdout",
     "output_type": "stream",
     "text": [
      "28\n"
     ]
    }
   ],
   "source": [
    "#  by while loop\n",
    "n = int(input(\"Enter the value: \"))\n",
    "sum = 0\n",
    "i=1\n",
    "while i < n+1:\n",
    "    sum = sum+i\n",
    "    i = i +1\n",
    "print(sum)"
   ]
  },
  {
   "cell_type": "code",
   "execution_count": 43,
   "id": "932340a6-e334-46d0-8be1-514860482b66",
   "metadata": {},
   "outputs": [
    {
     "name": "stdout",
     "output_type": "stream",
     "text": [
      "120\n"
     ]
    }
   ],
   "source": [
    "\"\"\" Q. write a program to find factorial of first n numbers\"\"\"\n",
    "n = int(input(\"Enter the value: \"))\n",
    "p=1\n",
    "for i in range(1,n+1):\n",
    "    p = p*i\n",
    "print(p)"
   ]
  },
  {
   "cell_type": "code",
   "execution_count": 9,
   "id": "a8f9095d-ecd9-4a9b-8160-05cb408f6b55",
   "metadata": {},
   "outputs": [
    {
     "name": "stdin",
     "output_type": "stream",
     "text": [
      "Enter the value:  8\n"
     ]
    },
    {
     "name": "stdout",
     "output_type": "stream",
     "text": [
      "40320\n"
     ]
    }
   ],
   "source": [
    "#using while\n",
    "n = int(input(\"Enter the value: \"))\n",
    "p= 1\n",
    "i= 1\n",
    "while i <= n:\n",
    "    p = p*i\n",
    "    i = i+1\n",
    "print(p)"
   ]
  },
  {
   "cell_type": "code",
   "execution_count": 24,
   "id": "6b25c379-d2b2-452d-bc9d-56ed99b2f0b4",
   "metadata": {},
   "outputs": [],
   "source": [
    "#function : are the block of statements that performs a specific task.\n",
    "\n",
    "def cal_sum(a,b):\n",
    "    sum = a + b\n",
    "    return sum"
   ]
  },
  {
   "cell_type": "code",
   "execution_count": 25,
   "id": "ae1c4ad6-e10d-4a9c-985f-15940fdca7cd",
   "metadata": {},
   "outputs": [
    {
     "data": {
      "text/plain": [
       "3"
      ]
     },
     "execution_count": 25,
     "metadata": {},
     "output_type": "execute_result"
    }
   ],
   "source": [
    "cal_sum(1,2)"
   ]
  },
  {
   "cell_type": "code",
   "execution_count": 30,
   "id": "2a298783-861c-4c2b-8850-152965da0b23",
   "metadata": {},
   "outputs": [],
   "source": [
    "def print_hello():\n",
    "    print(\"hello\")"
   ]
  },
  {
   "cell_type": "code",
   "execution_count": 31,
   "id": "777ed4ea-a860-4799-8442-6611abf651e3",
   "metadata": {},
   "outputs": [
    {
     "name": "stdout",
     "output_type": "stream",
     "text": [
      "hello\n"
     ]
    }
   ],
   "source": [
    "print_hello()"
   ]
  },
  {
   "cell_type": "code",
   "execution_count": 36,
   "id": "f2909503-d46b-4993-86a5-f9fadc655288",
   "metadata": {},
   "outputs": [],
   "source": [
    "# average of 3 numbers\n",
    "\n",
    "def avg_pp(a,b,c):\n",
    "    hh = a+b+c\n",
    "    avg= hh / 3\n",
    "    return avg"
   ]
  },
  {
   "cell_type": "code",
   "execution_count": 37,
   "id": "f545c560-934a-47d2-9d1f-f4e197a28021",
   "metadata": {},
   "outputs": [
    {
     "data": {
      "text/plain": [
       "6.0"
      ]
     },
     "execution_count": 37,
     "metadata": {},
     "output_type": "execute_result"
    }
   ],
   "source": [
    "avg_pp(5,6,7)"
   ]
  },
  {
   "cell_type": "code",
   "execution_count": null,
   "id": "8e6d15a7-fb75-4e72-9951-044fe5f8d57e",
   "metadata": {},
   "outputs": [],
   "source": [
    "# functions are of 2 type built-in and user defined.\n"
   ]
  },
  {
   "cell_type": "code",
   "execution_count": 9,
   "id": "b0bffa61-180f-46d4-b509-bc5cb4600175",
   "metadata": {},
   "outputs": [
    {
     "name": "stdout",
     "output_type": "stream",
     "text": [
      "['PULKIT', 'VARSHNEY']\n"
     ]
    }
   ],
   "source": [
    "oo = [\"PULKIT\", \"VARSHNEY\"]\n",
    "print(oo)"
   ]
  },
  {
   "cell_type": "code",
   "execution_count": 6,
   "id": "62dfa4c5-e3fa-4c85-a367-ac6099aa0f81",
   "metadata": {},
   "outputs": [
    {
     "name": "stdout",
     "output_type": "stream",
     "text": [
      "PULKIT\n",
      "VARSHNEY\n"
     ]
    }
   ],
   "source": [
    "print(\"PULKIT\")\n",
    "print(\"VARSHNEY\")"
   ]
  },
  {
   "cell_type": "code",
   "execution_count": 8,
   "id": "ff88ef43-b1d0-4189-a7ba-ab1beb2ba44b",
   "metadata": {},
   "outputs": [
    {
     "name": "stdout",
     "output_type": "stream",
     "text": [
      "PULKIT VARSHNEY\n"
     ]
    }
   ],
   "source": [
    "print(\"PULKIT\", end = \" \")\n",
    "print(\"VARSHNEY\")"
   ]
  },
  {
   "cell_type": "code",
   "execution_count": 14,
   "id": "c1983671-2f69-4f74-a7be-a91f547f1087",
   "metadata": {},
   "outputs": [
    {
     "data": {
      "text/plain": [
       "8"
      ]
     },
     "execution_count": 14,
     "metadata": {},
     "output_type": "execute_result"
    }
   ],
   "source": [
    "len(oo[1])"
   ]
  },
  {
   "cell_type": "code",
   "execution_count": 20,
   "id": "a8dc553b-a7f1-4828-9207-efbb0a32e5c9",
   "metadata": {},
   "outputs": [
    {
     "data": {
      "text/plain": [
       "4"
      ]
     },
     "execution_count": 20,
     "metadata": {},
     "output_type": "execute_result"
    }
   ],
   "source": [
    "\"\"\"Q. WAF to print the lenght of a list (list is a parameter) with the use of function\"\"\"\n",
    "\n",
    "def lenght(a):\n",
    "    lenghtt = len(a)\n",
    "    return lenghtt\n",
    "\n",
    "list2 = [\"hello\", \"how\",\"are\",\"you\"]\n",
    "\n",
    "lenght(list2)\n",
    "\n"
   ]
  },
  {
   "cell_type": "code",
   "execution_count": 7,
   "id": "e0cc0e65-19d6-4e14-8379-697b17784461",
   "metadata": {},
   "outputs": [
    {
     "name": "stdout",
     "output_type": "stream",
     "text": [
      "hello how are you "
     ]
    }
   ],
   "source": [
    "list2 = [\"hello\", \"how\",\"are\",\"you\"]\n",
    "def looping(a):\n",
    "    for char in a:\n",
    "        print(char, end=\" \")\n",
    "\n",
    "looping(list2)"
   ]
  },
  {
   "cell_type": "code",
   "execution_count": 9,
   "id": "722983e0-16c8-4efb-b730-4c29f78efa46",
   "metadata": {},
   "outputs": [
    {
     "name": "stdout",
     "output_type": "stream",
     "text": [
      "Pulkit Satyam Pranav Vishal Rohit "
     ]
    }
   ],
   "source": [
    "list3= [\"Pulkit\", \"Satyam\",\"Pranav\",\"Vishal\",\"Rohit\"]\n",
    "looping(list3)"
   ]
  },
  {
   "cell_type": "code",
   "execution_count": 10,
   "id": "32597da4-80d9-4034-a23e-b27705b7e463",
   "metadata": {},
   "outputs": [],
   "source": [
    "\"\"\"Q. find a function of factorial of n.\"\"\"\n",
    "def factorial(n):\n",
    "    i = 1\n",
    "    p = 1\n",
    "    for i in range(1,n+1):\n",
    "        p = p*i\n",
    "        i = i+1\n",
    "    print(p)"
   ]
  },
  {
   "cell_type": "code",
   "execution_count": 13,
   "id": "491e0113-6adc-42e7-a861-e514a9dbd782",
   "metadata": {},
   "outputs": [
    {
     "name": "stdout",
     "output_type": "stream",
     "text": [
      "720\n"
     ]
    }
   ],
   "source": [
    "factorial(6)"
   ]
  },
  {
   "cell_type": "code",
   "execution_count": 21,
   "id": "88afb46c-923b-40ac-a8d9-73ffece515ad",
   "metadata": {},
   "outputs": [
    {
     "name": "stdout",
     "output_type": "stream",
     "text": [
      "USD 94 = INR 7802\n"
     ]
    }
   ],
   "source": [
    "\"\"\"Q. convert usd to inr\"\"\"\n",
    "def converted(x):\n",
    "    y = 83*x\n",
    "    print(\"USD\", x ,\"=\", \"INR\", y)\n",
    "\n",
    "\n",
    "converted(94)"
   ]
  },
  {
   "cell_type": "code",
   "execution_count": 24,
   "id": "b3d2ef45-c28d-4e88-a9dc-6502619eeb7a",
   "metadata": {},
   "outputs": [
    {
     "name": "stdout",
     "output_type": "stream",
     "text": [
      "Number is EVEN : 94\n"
     ]
    }
   ],
   "source": [
    "\"\"\"Q. create a function which shows even and odd number as even and odd in string\"\"\"\n",
    "def finder(x):\n",
    "    if x%2 == 0:\n",
    "        print(\"Number is EVEN :\" ,x)\n",
    "    else:\n",
    "        print(\"Number is ODD :\",x)\n",
    "\n",
    "finder(94)"
   ]
  },
  {
   "cell_type": "code",
   "execution_count": 31,
   "id": "d96198cc-1835-45da-96c1-3457ab2ef724",
   "metadata": {},
   "outputs": [
    {
     "name": "stdout",
     "output_type": "stream",
     "text": [
      "4\n",
      "3\n",
      "2\n",
      "1\n",
      "end\n",
      "end\n",
      "end\n",
      "end\n"
     ]
    }
   ],
   "source": [
    "#### Recursion: is when function call itself repeated.(substitute to loops)\n",
    "\n",
    "def show(n):\n",
    "    if n == 0:\n",
    "        return\n",
    "    print(n)\n",
    "    show(n-1)\n",
    "    print(\"end\")\n",
    "    \n",
    "    \n",
    "show(4)"
   ]
  },
  {
   "cell_type": "code",
   "execution_count": 6,
   "id": "706eaf7d-def2-4875-b3b0-0427f3d8065b",
   "metadata": {},
   "outputs": [
    {
     "data": {
      "text/plain": [
       "1307674368000"
      ]
     },
     "execution_count": 6,
     "metadata": {},
     "output_type": "execute_result"
    }
   ],
   "source": [
    "def fact(n):\n",
    "    if n == 0 or n == 1:\n",
    "        return 1\n",
    "    return fact(n-1)*n\n",
    "\n",
    "\n",
    "\n",
    "fact(15)"
   ]
  },
  {
   "cell_type": "code",
   "execution_count": 13,
   "id": "5bcf067e-a771-471a-aeaa-c3a8ebcb2e93",
   "metadata": {},
   "outputs": [
    {
     "data": {
      "text/plain": [
       "55"
      ]
     },
     "execution_count": 13,
     "metadata": {},
     "output_type": "execute_result"
    }
   ],
   "source": [
    "\"\"\" Q. write the sum of first n natural numbers.\"\"\"\n",
    "\n",
    "def sums(k):\n",
    "    if k == 0 :\n",
    "        return 0\n",
    "    return k+ sums(k-1)\n",
    "\n",
    "sums(10)"
   ]
  },
  {
   "cell_type": "code",
   "execution_count": 28,
   "id": "8a878bdb-dbed-451a-b897-f254fbf5dc30",
   "metadata": {},
   "outputs": [],
   "source": [
    "\"\"\"Q. write a recursion function to print all elements in list.\"\"\"\n",
    "def listy(list, idx):\n",
    "    if idx == len(list):\n",
    "        return\n",
    "    print(list[idx])\n",
    "    listy( list,idx+1)"
   ]
  },
  {
   "cell_type": "code",
   "execution_count": 29,
   "id": "6e4f3729-6e7b-4a3a-b75b-a3d0126163bb",
   "metadata": {},
   "outputs": [
    {
     "name": "stdout",
     "output_type": "stream",
     "text": [
      "3\n",
      "4\n",
      "5\n",
      "6\n"
     ]
    }
   ],
   "source": [
    "list5 = [1,2,3,4,5,6]\n",
    "listy(list5,2)"
   ]
  }
 ],
 "metadata": {
  "kernelspec": {
   "display_name": "Python 3 (ipykernel)",
   "language": "python",
   "name": "python3"
  },
  "language_info": {
   "codemirror_mode": {
    "name": "ipython",
    "version": 3
   },
   "file_extension": ".py",
   "mimetype": "text/x-python",
   "name": "python",
   "nbconvert_exporter": "python",
   "pygments_lexer": "ipython3",
   "version": "3.10.8"
  }
 },
 "nbformat": 4,
 "nbformat_minor": 5
}
