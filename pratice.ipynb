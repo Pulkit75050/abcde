{
 "cells": [
  {
   "cell_type": "code",
   "execution_count": 3,
   "id": "58039a63-62e5-4b13-8ce7-45fd18b6470c",
   "metadata": {},
   "outputs": [],
   "source": [
    "def morning(name , caption):\n",
    "    print(f\"Good Morning {caption} {name}, Hope you had a good day.\")"
   ]
  },
  {
   "cell_type": "code",
   "execution_count": 4,
   "id": "d3434637-bc56-4d06-93dc-baececaae138",
   "metadata": {},
   "outputs": [
    {
     "name": "stdout",
     "output_type": "stream",
     "text": [
      "Good Morning Master Pulkit, Hope you had a good day.\n"
     ]
    }
   ],
   "source": [
    "morning(\"Pulkit\",\"Master\")"
   ]
  },
  {
   "cell_type": "code",
   "execution_count": 5,
   "id": "c936c977-e2bb-4e81-878f-97f67edfe6d6",
   "metadata": {},
   "outputs": [
    {
     "data": {
      "text/plain": [
       "<function __main__.morning(name, caption)>"
      ]
     },
     "execution_count": 5,
     "metadata": {},
     "output_type": "execute_result"
    }
   ],
   "source": [
    "type(morning)\n",
    "morning"
   ]
  },
  {
   "cell_type": "code",
   "execution_count": 6,
   "id": "2f567d02-0f26-48e9-a03f-cdb25ff0248e",
   "metadata": {},
   "outputs": [],
   "source": [
    "def added(x,y):\n",
    "    return x**2 == y**4"
   ]
  },
  {
   "cell_type": "code",
   "execution_count": 7,
   "id": "21dd6fe1-313c-4274-9a27-eb853b379d27",
   "metadata": {},
   "outputs": [
    {
     "data": {
      "text/plain": [
       "False"
      ]
     },
     "execution_count": 7,
     "metadata": {},
     "output_type": "execute_result"
    }
   ],
   "source": [
    "added(25,6)"
   ]
  },
  {
   "cell_type": "code",
   "execution_count": 20,
   "id": "bda3f91b-df76-4762-8e72-30dd4d84b8cb",
   "metadata": {},
   "outputs": [
    {
     "data": {
      "text/plain": [
       "3125.0"
      ]
     },
     "execution_count": 20,
     "metadata": {},
     "output_type": "execute_result"
    }
   ],
   "source": [
    "jjj= lambda x,y:x**y\n",
    "jjj(25,2.5)"
   ]
  },
  {
   "cell_type": "code",
   "execution_count": 37,
   "id": "6bf148ed-97d2-4ea3-836f-e1c8feb853a5",
   "metadata": {},
   "outputs": [
    {
     "data": {
      "text/plain": [
       "[1, 9, 25, 49, 81, 121, 169, 225, 289, 361]"
      ]
     },
     "execution_count": 37,
     "metadata": {},
     "output_type": "execute_result"
    }
   ],
   "source": [
    "llll= [(lambda x:x**2)(i) for i in range(20) if i%2 == 1 ]\n",
    "llll"
   ]
  },
  {
   "cell_type": "code",
   "execution_count": 1,
   "id": "6552f37a-f15a-4aa9-8b69-1503d513c0fc",
   "metadata": {},
   "outputs": [
    {
     "data": {
      "text/plain": [
       "['yash', 'vishal', 'himanshu']"
      ]
     },
     "execution_count": 1,
     "metadata": {},
     "output_type": "execute_result"
    }
   ],
   "source": [
    "kkkk= [\"yash\", \"pulkit\",\"pranav\",\"rohit\",\"vishal\",\"sachin\",\"satyam\",\"himanshu\",\"lalit\", \"rohan\"]\n",
    "name = [] \n",
    "lll=[name for name in kkkk if \"sh\" in name]\n",
    "lll"
   ]
  },
  {
   "cell_type": "code",
   "execution_count": 54,
   "id": "5a8d1cb8-7da0-4a4a-a54e-849f1545f90b",
   "metadata": {},
   "outputs": [
    {
     "data": {
      "text/plain": [
       "[0, 2, 4, 6, 8, 10, 12, 14, 16, 18]"
      ]
     },
     "execution_count": 54,
     "metadata": {},
     "output_type": "execute_result"
    }
   ],
   "source": [
    "i1 =  [x for x in range(20)]\n",
    "kk= list(filter(lambda x: x%2==0, i1))\n",
    "kk"
   ]
  },
  {
   "cell_type": "code",
   "execution_count": 77,
   "id": "38613ba4-f72d-4604-9521-55a82edfcffb",
   "metadata": {},
   "outputs": [
    {
     "data": {
      "text/plain": [
       "[30, 60, 90]"
      ]
     },
     "execution_count": 77,
     "metadata": {},
     "output_type": "execute_result"
    }
   ],
   "source": [
    "pp= list(filter(lambda p:p%5==0,list(filter(lambda p : p%3== 0,list(filter(lambda p :p%2==0,list(range(1,100))))))))\n",
    "pp"
   ]
  },
  {
   "cell_type": "code",
   "execution_count": 22,
   "id": "2ce0b33b-10f6-4daf-b865-81f259402f8a",
   "metadata": {},
   "outputs": [
    {
     "name": "stdout",
     "output_type": "stream",
     "text": [
      "* \n",
      "* * \n",
      "* * * \n",
      "* * * * \n",
      "* * * * * \n",
      "* * * * * * \n"
     ]
    }
   ],
   "source": [
    "for i in range(0,6):\n",
    "    for j in range(i+1):\n",
    "        print(\"*\" , end=\" \")\n",
    "    print()\n",
    "    i= i+1"
   ]
  },
  {
   "cell_type": "code",
   "execution_count": 6,
   "id": "c9dbb76c-793f-4800-aa8c-b09b67a82bed",
   "metadata": {},
   "outputs": [
    {
     "name": "stdout",
     "output_type": "stream",
     "text": [
      "* \n",
      "* * \n",
      "* * * \n",
      "* * * * \n",
      "* * * * * \n",
      "* * * * * * \n"
     ]
    }
   ],
   "source": [
    "i=1\n",
    "\n",
    "while i <= 6:\n",
    "    j=1\n",
    "    while j <= i:\n",
    "        print(\"*\", end =\" \")\n",
    "        j = j + 1\n",
    "    print()\n",
    "    i = i + 1"
   ]
  },
  {
   "cell_type": "code",
   "execution_count": 25,
   "id": "57ecc618-173c-4cec-96b4-50ec312179a0",
   "metadata": {},
   "outputs": [
    {
     "name": "stdin",
     "output_type": "stream",
     "text": [
      "Enter the number:  521\n"
     ]
    },
    {
     "name": "stdout",
     "output_type": "stream",
     "text": [
      "4\n",
      "6.432098765432098\n"
     ]
    }
   ],
   "source": [
    "n = int(input(\"Enter the number: \"))\n",
    "i=0\n",
    "\n",
    "while i <=n:\n",
    "    q = n/3\n",
    "    n = q\n",
    "    i = i+1\n",
    "    if q <= 10:\n",
    "        break\n",
    "    \n",
    "print(i)\n",
    "print(q)"
   ]
  },
  {
   "cell_type": "code",
   "execution_count": 9,
   "id": "f0634154-c5f3-4768-870c-dfea4d600dcc",
   "metadata": {},
   "outputs": [
    {
     "data": {
      "text/plain": [
       "40"
      ]
     },
     "execution_count": 9,
     "metadata": {},
     "output_type": "execute_result"
    }
   ],
   "source": [
    "n = 200\n",
    "p = 5\n",
    "o = n//p\n",
    "o"
   ]
  },
  {
   "cell_type": "code",
   "execution_count": 24,
   "id": "42fcf049-0940-4d7d-b9dd-1fc95940a206",
   "metadata": {},
   "outputs": [
    {
     "name": "stdin",
     "output_type": "stream",
     "text": [
      "Enter the number:  500\n"
     ]
    },
    {
     "name": "stdout",
     "output_type": "stream",
     "text": [
      "4\n"
     ]
    }
   ],
   "source": [
    "n = int(input(\"Enter the number: \"))\n",
    "i=0\n",
    "\n",
    "while n > 10:\n",
    "    n = n/3\n",
    "    i = i+1\n",
    "print(i)\n",
    "    "
   ]
  },
  {
   "cell_type": "code",
   "execution_count": 69,
   "id": "e7349661-eef8-424a-85f2-aca7e9268028",
   "metadata": {},
   "outputs": [],
   "source": [
    "def live(a):\n",
    "    n=[]\n",
    "    for i in a:\n",
    "        if type(i) == int:\n",
    "            n.append(i)\n",
    "    return n"
   ]
  },
  {
   "cell_type": "code",
   "execution_count": 70,
   "id": "f8a9548f-994e-45a1-98d5-c60a2446fce8",
   "metadata": {},
   "outputs": [
    {
     "data": {
      "text/plain": [
       "[1, 2, 3, 4, 5, 6, 7]"
      ]
     },
     "execution_count": 70,
     "metadata": {},
     "output_type": "execute_result"
    }
   ],
   "source": [
    "live([1,2,3,4,5,6,7])"
   ]
  },
  {
   "cell_type": "code",
   "execution_count": 81,
   "id": "dc9ca463-9ed5-4b3b-8a69-e08f7d14008d",
   "metadata": {},
   "outputs": [],
   "source": [
    "def life(a):\n",
    "    n=[]\n",
    "    for i in a:\n",
    "        if type(i) == int or type(i)== float:\n",
    "            n.append(i)\n",
    "        elif type(i)== list:\n",
    "            for j in i:\n",
    "                if type(j) == int or type(j)== float: \n",
    "                    n.append(j)\n",
    "    return n"
   ]
  },
  {
   "cell_type": "code",
   "execution_count": 82,
   "id": "71ec8a27-4bd4-4baa-951f-4ee03bf0b464",
   "metadata": {},
   "outputs": [
    {
     "data": {
      "text/plain": [
       "[1, 25.36, 42.6, 85, 1, 58, 36, 25, 78]"
      ]
     },
     "execution_count": 82,
     "metadata": {},
     "output_type": "execute_result"
    }
   ],
   "source": [
    "life([1,25.36,42.6,85,\"good\",[1,58,36],[25,78]])"
   ]
  },
  {
   "cell_type": "code",
   "execution_count": 84,
   "id": "bbf99be2-13e6-412c-9685-7f44b857dbba",
   "metadata": {},
   "outputs": [],
   "source": [
    "def sumss(*args):\n",
    "    s=0\n",
    "    for i in args:\n",
    "        s= s+i\n",
    "    return s\n",
    "    "
   ]
  },
  {
   "cell_type": "code",
   "execution_count": 85,
   "id": "1dd3c4b8-a482-4ee8-8b84-95ee8edec84a",
   "metadata": {},
   "outputs": [
    {
     "data": {
      "text/plain": [
       "502"
      ]
     },
     "execution_count": 85,
     "metadata": {},
     "output_type": "execute_result"
    }
   ],
   "source": [
    "sumss(1,85,369,47)"
   ]
  },
  {
   "cell_type": "code",
   "execution_count": 86,
   "id": "3f39a1a8-8137-4103-9287-4aae23a0e10c",
   "metadata": {},
   "outputs": [],
   "source": [
    "def fit(**kwargs):\n",
    "    return kwargs "
   ]
  },
  {
   "cell_type": "code",
   "execution_count": 91,
   "id": "aff14c1a-68ad-4ca1-b7f8-94465fe4bb44",
   "metadata": {},
   "outputs": [
    {
     "data": {
      "text/plain": [
       "{'a': 'gym', 'b': 'natural'}"
      ]
     },
     "execution_count": 91,
     "metadata": {},
     "output_type": "execute_result"
    }
   ],
   "source": [
    "fit(a=\"gym\",b=\"natural\")\n"
   ]
  },
  {
   "cell_type": "code",
   "execution_count": 107,
   "id": "fc55c642-afb2-4b2d-b5bf-9deb4d1d22d5",
   "metadata": {},
   "outputs": [],
   "source": [
    "def both(*args,**kwargs):\n",
    "    return args,kwargs"
   ]
  },
  {
   "cell_type": "code",
   "execution_count": 121,
   "id": "3bf036d9-68dd-4dd4-b901-42bc8fdcaa56",
   "metadata": {},
   "outputs": [
    {
     "data": {
      "text/plain": [
       "((1247, 'bye'), {'piu': 232665, 'kuhu': 3544, 'a': 'hello'})"
      ]
     },
     "execution_count": 121,
     "metadata": {},
     "output_type": "execute_result"
    }
   ],
   "source": [
    "both(1247,\"bye\",piu=232665,kuhu=3544,a=\"hello\",)"
   ]
  },
  {
   "cell_type": "code",
   "execution_count": 2,
   "id": "84da8f58-12d4-4d36-b9e2-8df7f6f10b4f",
   "metadata": {},
   "outputs": [],
   "source": [
    "def total_marks(**kwargs):\n",
    "    def get_marks(marks):\n",
    "        return sum(marks)\n",
    "    marks= []\n",
    "    for subject, marks_sheet in kwargs.items():\n",
    "        marks.append(marks_sheet)\n",
    "    return get_marks(marks)"
   ]
  },
  {
   "cell_type": "code",
   "execution_count": 3,
   "id": "39a9bfe3-589b-4331-95bf-42278d781de8",
   "metadata": {},
   "outputs": [
    {
     "data": {
      "text/plain": [
       "270"
      ]
     },
     "execution_count": 3,
     "metadata": {},
     "output_type": "execute_result"
    }
   ],
   "source": [
    "total_marks(a=78,j=93,o=99)"
   ]
  },
  {
   "cell_type": "code",
   "execution_count": 12,
   "id": "81d1b7b1-7777-45db-996f-f1774b608031",
   "metadata": {},
   "outputs": [
    {
     "name": "stdout",
     "output_type": "stream",
     "text": [
      "1 \n",
      "2 3 \n",
      "4 5 6 \n",
      "7 8 9 10 \n",
      "11 12 13 14 15 \n"
     ]
    }
   ],
   "source": [
    "k= 1\n",
    "for i in range(5):\n",
    "    for j in range(i+1):\n",
    "        print(k ,end=\" \")\n",
    "        k = k+1\n",
    "    print()"
   ]
  },
  {
   "cell_type": "code",
   "execution_count": 35,
   "id": "b6d83b78-143a-4f7b-affb-5838d8e7fcaa",
   "metadata": {},
   "outputs": [],
   "source": [
    "class Bank:\n",
    "    def __init__(self,amt):\n",
    "        self.amt = amt\n",
    "    def deposit(self,amount):\n",
    "        self.amt += amount\n",
    "        return \"The available baance is\", self.amt\n",
    "    def withraw(self,amount):\n",
    "        if amount >= self.amt:\n",
    "            return \"The available balance is low\"\n",
    "        else:\n",
    "            self.amt -= amount\n",
    "            return \"The remaining balance is\", self.amt\n",
    "    def balance(self):\n",
    "        print(\"The available balance in your account is\", self.amt)"
   ]
  },
  {
   "cell_type": "code",
   "execution_count": 36,
   "id": "a85aca1c-2469-49b4-a4f2-f6795f9d4ef9",
   "metadata": {},
   "outputs": [],
   "source": [
    "banker = Bank(10000)"
   ]
  },
  {
   "cell_type": "code",
   "execution_count": 37,
   "id": "534f99db-dfb9-4074-a54b-d877ed7a646e",
   "metadata": {},
   "outputs": [
    {
     "name": "stdout",
     "output_type": "stream",
     "text": [
      "The available balance in your account is 10000\n"
     ]
    }
   ],
   "source": [
    "banker.balance()"
   ]
  },
  {
   "cell_type": "code",
   "execution_count": 39,
   "id": "423f3a0b-6d29-4147-8137-ec724f333b51",
   "metadata": {},
   "outputs": [
    {
     "data": {
      "text/plain": [
       "('The available baance is', 20000)"
      ]
     },
     "execution_count": 39,
     "metadata": {},
     "output_type": "execute_result"
    }
   ],
   "source": [
    "banker.deposit(5000)"
   ]
  },
  {
   "cell_type": "code",
   "execution_count": 52,
   "id": "8a7eae91-6d10-4104-9e87-4385ca53f74e",
   "metadata": {},
   "outputs": [
    {
     "data": {
      "text/plain": [
       "'The available balance is low'"
      ]
     },
     "execution_count": 52,
     "metadata": {},
     "output_type": "execute_result"
    }
   ],
   "source": [
    "banker.withraw(19000)"
   ]
  },
  {
   "cell_type": "code",
   "execution_count": 54,
   "id": "64376d3d-b1da-4bb9-8690-a8ec48520161",
   "metadata": {},
   "outputs": [
    {
     "name": "stdout",
     "output_type": "stream",
     "text": [
      "The available balance in your account is 1000\n"
     ]
    }
   ],
   "source": [
    "banker.balance()"
   ]
  },
  {
   "cell_type": "code",
   "execution_count": 116,
   "id": "1b42c833-f83f-42f4-88f6-dffa238b9afb",
   "metadata": {},
   "outputs": [],
   "source": [
    "class Teach():\n",
    "    clg = \"Galgotia University\"\n",
    "    def __init__(self,name,degree):\n",
    "        self.__name = name\n",
    "        self.__degree = degree\n",
    "        \n",
    "    def show(self):\n",
    "        print(\"My name is\",self.__name,\"pursing\",self.__degree,\"from\",self.clg)"
   ]
  },
  {
   "cell_type": "code",
   "execution_count": 117,
   "id": "a3f5b45b-6c87-4f1c-86e0-f3db99a2b410",
   "metadata": {},
   "outputs": [],
   "source": [
    "stud1= Teach(\"Pulkit\", \"M.A.Economics\")"
   ]
  },
  {
   "cell_type": "code",
   "execution_count": 118,
   "id": "44a111d2-e26d-4043-8db1-4478350c06e8",
   "metadata": {},
   "outputs": [
    {
     "data": {
      "text/plain": [
       "'Galgotia University'"
      ]
     },
     "execution_count": 118,
     "metadata": {},
     "output_type": "execute_result"
    }
   ],
   "source": [
    "stud1.clg"
   ]
  },
  {
   "cell_type": "code",
   "execution_count": 119,
   "id": "22913945-f325-452c-9219-da281504dbb7",
   "metadata": {},
   "outputs": [
    {
     "name": "stdout",
     "output_type": "stream",
     "text": [
      "My name is Pulkit pursing M.A.Economics from Galgotia University\n"
     ]
    }
   ],
   "source": [
    "stud1.show()"
   ]
  },
  {
   "cell_type": "code",
   "execution_count": 103,
   "id": "070bae82-a231-4ce2-a612-1633eee6f0ee",
   "metadata": {},
   "outputs": [],
   "source": [
    "stud1.name= \"Ram\""
   ]
  },
  {
   "cell_type": "code",
   "execution_count": 20,
   "id": "2602d57b-0a6e-4056-b37a-89081ee7a8ae",
   "metadata": {},
   "outputs": [],
   "source": [
    "class Family():\n",
    "    def gf(self):\n",
    "        print(\"This is grandfather's property\")\n",
    "\n",
    "class Father(Family):\n",
    "    def father(self):\n",
    "        print(\"This is gf and father's property\")\n",
    "\n",
    "class Myself(Father):\n",
    "    def myself(self):\n",
    "        print(\"This is gf and father's and mine property\")"
   ]
  },
  {
   "cell_type": "code",
   "execution_count": 21,
   "id": "c4778896-8a42-4526-9568-7d82837176d6",
   "metadata": {},
   "outputs": [
    {
     "name": "stdout",
     "output_type": "stream",
     "text": [
      "This is grandfather's property\n"
     ]
    }
   ],
   "source": [
    "vas= Family()\n",
    "vas.gf()"
   ]
  },
  {
   "cell_type": "code",
   "execution_count": 22,
   "id": "3aed2831-a315-4251-a49f-6ebf99c03424",
   "metadata": {},
   "outputs": [
    {
     "name": "stdout",
     "output_type": "stream",
     "text": [
      "This is gf and father's property\n"
     ]
    }
   ],
   "source": [
    "vas1= Father()\n",
    "vas1.father()"
   ]
  },
  {
   "cell_type": "code",
   "execution_count": 23,
   "id": "c18cd9f4-2c48-496b-8769-632a2885accd",
   "metadata": {},
   "outputs": [
    {
     "name": "stdout",
     "output_type": "stream",
     "text": [
      "This is gf and father's and mine property\n"
     ]
    }
   ],
   "source": [
    "vas2= Myself()\n",
    "vas2.myself()"
   ]
  },
  {
   "cell_type": "code",
   "execution_count": 30,
   "id": "4a077809-1db2-4ffc-80c3-9bd6a885ef35",
   "metadata": {},
   "outputs": [],
   "source": [
    "class Family():\n",
    "    def Mother(self):\n",
    "        print(\"This is mother's property\")\n",
    "\n",
    "class Father():\n",
    "    def father(self):\n",
    "        print(\"This is father's property\")\n",
    "\n",
    "class Myself(Father, Family):\n",
    "    def myself(self):\n",
    "        print(\"This is mother and father's and mine property\")"
   ]
  },
  {
   "cell_type": "code",
   "execution_count": 31,
   "id": "bb5c8e62-1466-4444-879e-b886a1089e7b",
   "metadata": {},
   "outputs": [
    {
     "name": "stdout",
     "output_type": "stream",
     "text": [
      "This is father's property\n"
     ]
    }
   ],
   "source": [
    "pause= Myself()\n",
    "pause.father()"
   ]
  },
  {
   "cell_type": "code",
   "execution_count": null,
   "id": "5d777e73-bfd0-49ec-93e9-d8db6c9f0ede",
   "metadata": {},
   "outputs": [],
   "source": []
  },
  {
   "cell_type": "code",
   "execution_count": null,
   "id": "b18b234a-b32d-46c0-aaae-c6327d70b682",
   "metadata": {},
   "outputs": [],
   "source": []
  }
 ],
 "metadata": {
  "kernelspec": {
   "display_name": "Python 3 (ipykernel)",
   "language": "python",
   "name": "python3"
  },
  "language_info": {
   "codemirror_mode": {
    "name": "ipython",
    "version": 3
   },
   "file_extension": ".py",
   "mimetype": "text/x-python",
   "name": "python",
   "nbconvert_exporter": "python",
   "pygments_lexer": "ipython3",
   "version": "3.10.8"
  }
 },
 "nbformat": 4,
 "nbformat_minor": 5
}
