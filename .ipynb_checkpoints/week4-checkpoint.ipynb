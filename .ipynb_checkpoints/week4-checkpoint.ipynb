{
 "cells": [
  {
   "cell_type": "code",
   "execution_count": 1,
   "id": "cf80b3e3-c386-4260-981f-a3b70037d038",
   "metadata": {},
   "outputs": [],
   "source": [
    "#oops: object oriented programming system"
   ]
  },
  {
   "cell_type": "code",
   "execution_count": 16,
   "id": "d2c3b74e-ab86-44ef-9fc4-e0f6dbbf908d",
   "metadata": {},
   "outputs": [],
   "source": [
    "#Class are the blueprint of the objects.\n",
    "class Car:# naming covention-- Uppercamelcase\n",
    "    pass"
   ]
  },
  {
   "cell_type": "code",
   "execution_count": 20,
   "id": "2f03f735-a23d-4680-bf24-fde7a5846922",
   "metadata": {},
   "outputs": [
    {
     "name": "stdout",
     "output_type": "stream",
     "text": [
      "<class '__main__.Car'>\n"
     ]
    }
   ],
   "source": [
    "a = Car()\n",
    "print(type(a))"
   ]
  },
  {
   "cell_type": "code",
   "execution_count": 30,
   "id": "c178cfaa-e86c-497f-8469-959dd5e13080",
   "metadata": {},
   "outputs": [],
   "source": [
    "class Car:#function/method of a car\n",
    "    def accelerate(self):\n",
    "        print(\"Car is accelerating\")\n",
    "    def brake(self):\n",
    "        print(\"Car is stopping\")"
   ]
  },
  {
   "cell_type": "code",
   "execution_count": 31,
   "id": "1cba750e-c217-408a-9ef5-cd1877773e0f",
   "metadata": {},
   "outputs": [
    {
     "name": "stdout",
     "output_type": "stream",
     "text": [
      "Car is accelerating\n",
      "Car is stopping\n"
     ]
    }
   ],
   "source": [
    "a = Car()\n",
    "a.accelerate()\n",
    "a.brake()"
   ]
  },
  {
   "cell_type": "code",
   "execution_count": null,
   "id": "5aafebcb-538b-4ca7-82a5-50771d194c07",
   "metadata": {},
   "outputs": [],
   "source": [
    "# self is a variable that represents the instance of the class."
   ]
  },
  {
   "cell_type": "code",
   "execution_count": 51,
   "id": "ea1f7d77-3ae6-48d5-9cf1-205af809bcba",
   "metadata": {},
   "outputs": [],
   "source": [
    "class Bank:\n",
    "    amt = \"Rs 100000\"\n",
    "    bank_name= \"Bank of Baroda\"\n",
    "    def deposits(self,amount):\n",
    "        print(f\"I'm trying to deposits Rs.{amount}\")\n",
    "    def withdraw(self,amount_withdraw):\n",
    "        print(f\"I'm trying to withdraw Rs.{amount_withdraw}\")"
   ]
  },
  {
   "cell_type": "code",
   "execution_count": 54,
   "id": "921e22a2-3db2-4c6b-b453-3d81f1b2250c",
   "metadata": {},
   "outputs": [
    {
     "name": "stdout",
     "output_type": "stream",
     "text": [
      "I'm trying to deposits Rs.20000\n",
      "I'm trying to withdraw Rs.10000\n"
     ]
    },
    {
     "data": {
      "text/plain": [
       "'Bank of Baroda'"
      ]
     },
     "execution_count": 54,
     "metadata": {},
     "output_type": "execute_result"
    }
   ],
   "source": [
    "Pulkit = Bank()\n",
    "Pulkit.deposits(20000)\n",
    "Pulkit.withdraw(10000)\n",
    "Pulkit.amt\n",
    "Pulkit.bank_name"
   ]
  },
  {
   "cell_type": "code",
   "execution_count": 56,
   "id": "c12461e0-7f91-4a65-9d7a-8114ae02e6ce",
   "metadata": {},
   "outputs": [],
   "source": [
    "class listops:\n",
    "    l = [1,2,3,4,5,6,7,8,9,10]\n",
    "    def extract_even(self,l):\n",
    "        l1=[]\n",
    "        for i in l:\n",
    "            if i%2==0:\n",
    "                l1.append(i)\n",
    "        return l1\n",
    "    def extract_odd(self,l):\n",
    "        l2=[]\n",
    "        for i in l:\n",
    "            if i%2!=0:\n",
    "                l2.append(i)\n",
    "        return l2"
   ]
  },
  {
   "cell_type": "code",
   "execution_count": 63,
   "id": "a3582a66-645f-4332-88c3-67d2397639d1",
   "metadata": {},
   "outputs": [
    {
     "data": {
      "text/plain": [
       "[2, 4, 6, 8, 10]"
      ]
     },
     "execution_count": 63,
     "metadata": {},
     "output_type": "execute_result"
    }
   ],
   "source": [
    "ops1 = listops()\n",
    "ops1.extract_odd(listops.l)\n",
    "ops1.extract_even(listops.l)"
   ]
  },
  {
   "cell_type": "code",
   "execution_count": 65,
   "id": "e321c961-41b4-43ea-b73c-8d100f85ee53",
   "metadata": {},
   "outputs": [],
   "source": [
    "class listops1:\n",
    "    def __init__(self,l):\n",
    "        self.l = l\n",
    "    def extract_even(self,l):\n",
    "        l1=[]\n",
    "        for i in l:\n",
    "            if i%2==0:\n",
    "                l1.append(i)\n",
    "        return l1\n",
    "    def extract_odd(self,l):\n",
    "        l2=[]\n",
    "        for i in l:\n",
    "            if i%2!=0:\n",
    "                l2.append(i)\n",
    "        return l2"
   ]
  },
  {
   "cell_type": "code",
   "execution_count": 69,
   "id": "9f366ea1-2641-46c4-966e-7b95331b1355",
   "metadata": {},
   "outputs": [
    {
     "data": {
      "text/plain": [
       "[2, 4, 6, 8, 10]"
      ]
     },
     "execution_count": 69,
     "metadata": {},
     "output_type": "execute_result"
    }
   ],
   "source": [
    "l = [1,2,3,4,5,6,7,8,9,10]\n",
    "object = listops1(l)\n",
    "object.extract_even(l)"
   ]
  },
  {
   "cell_type": "code",
   "execution_count": 71,
   "id": "aecbcf14-2e92-4dde-8210-0ca4261a00f0",
   "metadata": {},
   "outputs": [],
   "source": [
    "class listops2:\n",
    "    def __init__(self,l):\n",
    "        self.l = l\n",
    "    def extract_even(self):\n",
    "        l = self.l\n",
    "        l1=[]\n",
    "        for i in l:\n",
    "            if i%2==0:\n",
    "                l1.append(i)\n",
    "        return l1\n",
    "    def extract_odd(self):\n",
    "        l = self.l\n",
    "        l2=[]\n",
    "        for i in l:\n",
    "            if i%2!=0:\n",
    "                l2.append(i)\n",
    "        return l2"
   ]
  },
  {
   "cell_type": "code",
   "execution_count": 75,
   "id": "9641f50a-d849-49a9-9a6a-23d12534d0f7",
   "metadata": {},
   "outputs": [
    {
     "data": {
      "text/plain": [
       "[1, 3, 5, 7, 9]"
      ]
     },
     "execution_count": 75,
     "metadata": {},
     "output_type": "execute_result"
    }
   ],
   "source": [
    "obj = listops2([1,2,3,4,5,6,7,8,9,10])\n",
    "obj.extract_odd()"
   ]
  },
  {
   "cell_type": "code",
   "execution_count": 77,
   "id": "df2c1bea-fde8-4b08-9f94-1b55d7672271",
   "metadata": {},
   "outputs": [
    {
     "data": {
      "text/plain": [
       "[1, 2, 3, 4, 5, 6, 7, 8, 9, 10]"
      ]
     },
     "execution_count": 77,
     "metadata": {},
     "output_type": "execute_result"
    }
   ],
   "source": [
    "obj.l"
   ]
  },
  {
   "cell_type": "code",
   "execution_count": 82,
   "id": "c1c5198b-39a9-4134-a3f9-41ee1ce9c6d8",
   "metadata": {},
   "outputs": [],
   "source": [
    "class Book:\n",
    "    def __init__(self, name, author,title):\n",
    "        self.name_of_book = name\n",
    "        self.author_of_book = author\n",
    "        self.title_of_the_book = title\n",
    "        \n",
    "    def extract_details_name_author(self):\n",
    "        print(self.name_of_book,self.author_of_book)\n",
    "        \n",
    "    def extract_details_name_title(self):\n",
    "        print(self.name_of_book,self.title_of_the_book)\n",
    "        "
   ]
  },
  {
   "cell_type": "code",
   "execution_count": 83,
   "id": "097207e3-40af-4732-b85e-96389d97105e",
   "metadata": {},
   "outputs": [],
   "source": [
    "stud1 = Book(\"Microeconomics\", \"Sandeep_garg\", \"part-1\")"
   ]
  },
  {
   "cell_type": "code",
   "execution_count": 87,
   "id": "a3476f08-51cf-4df9-9e2b-37e90e3b1b74",
   "metadata": {},
   "outputs": [
    {
     "name": "stdout",
     "output_type": "stream",
     "text": [
      "Microeconomics Sandeep_garg\n"
     ]
    }
   ],
   "source": [
    "stud1.extract_details_name_author()"
   ]
  },
  {
   "cell_type": "code",
   "execution_count": 1,
   "id": "cb864dbd-ec22-464c-bcc6-121fb70c6ca3",
   "metadata": {},
   "outputs": [],
   "source": [
    "# inheritance: refers a process of child class receiving property of parent class.\n",
    "# Syntax:\n",
    "\"\"\"\n",
    "class baseclass():\n",
    "    body of base class\n",
    "class derived_class(baseclass):\n",
    "    body of derived class\n",
    "\"\"\""
   ]
  },
  {
   "cell_type": "code",
   "execution_count": 7,
   "id": "2eefd8ce-91c5-4176-b843-82a56c6d6c90",
   "metadata": {},
   "outputs": [],
   "source": [
    "# single inhertiance: when a class has only one parent class.\n",
    "class Father:\n",
    "    def father_property(self):\n",
    "        print(\"This is father's property\")\n",
    "        \n",
    "class Son(Father):\n",
    "    def job(self):\n",
    "        print(\"Son has also a job\")"
   ]
  },
  {
   "cell_type": "code",
   "execution_count": 9,
   "id": "d23e8d61-275b-4323-939d-6214ffabd611",
   "metadata": {},
   "outputs": [
    {
     "name": "stdout",
     "output_type": "stream",
     "text": [
      "This is father's property\n"
     ]
    }
   ],
   "source": [
    "child_obj = Son()  # here he has own as well as father function also.\n",
    "child_obj.father_property()"
   ]
  },
  {
   "cell_type": "code",
   "execution_count": 12,
   "id": "ca5b3961-901b-44f4-9e12-80c48b74a468",
   "metadata": {},
   "outputs": [
    {
     "name": "stdout",
     "output_type": "stream",
     "text": [
      "This is father's property\n"
     ]
    }
   ],
   "source": [
    "father_obj = Father() # here father has only its own function only.\n",
    "father_obj.father_property()"
   ]
  },
  {
   "cell_type": "code",
   "execution_count": 13,
   "id": "db667739-d436-4662-94f1-c20a8f5051ed",
   "metadata": {},
   "outputs": [],
   "source": [
    "# EX.1.\n",
    "class Fruits:\n",
    "    def fruit_info(self):\n",
    "        print(\"Inside parent class \")\n",
    "\n",
    "class Apple(Fruits):\n",
    "    def apple_info(self):\n",
    "        print(\"Inside the child class\")"
   ]
  },
  {
   "cell_type": "code",
   "execution_count": 15,
   "id": "ca7115c3-9bb8-40ba-8295-41f94022fe0e",
   "metadata": {},
   "outputs": [
    {
     "name": "stdout",
     "output_type": "stream",
     "text": [
      "Inside parent class \n"
     ]
    }
   ],
   "source": [
    "object = Apple()\n",
    "object.fruit_info()"
   ]
  },
  {
   "cell_type": "code",
   "execution_count": 24,
   "id": "3d3cf64e-0af9-43c7-9365-a86ed7a04551",
   "metadata": {},
   "outputs": [],
   "source": [
    "# EX.2.\n",
    "class Fruits:\n",
    "    def fruit_info(self):\n",
    "        print(\"Inside parent class \")\n",
    "\n",
    "class Apple(Fruits):\n",
    "    def fruit_info(self):           # over-riding here child has more power over parent class.\n",
    "        print(\"Inside child class\")\n",
    "    def apple_info(self):\n",
    "        print(\"Inside the child class\")"
   ]
  },
  {
   "cell_type": "code",
   "execution_count": 25,
   "id": "a56e2cce-4b5f-4c6c-a1e0-010cb89da941",
   "metadata": {},
   "outputs": [
    {
     "name": "stdout",
     "output_type": "stream",
     "text": [
      "Inside child class\n"
     ]
    }
   ],
   "source": [
    "apple = Apple()\n",
    "\n",
    "apple.fruit_info()"
   ]
  },
  {
   "cell_type": "code",
   "execution_count": null,
   "id": "7987a7a2-80a8-40a4-b5e9-a360e702c2b6",
   "metadata": {},
   "outputs": [],
   "source": [
    "# Multi-level inheritance: "
   ]
  },
  {
   "cell_type": "code",
   "execution_count": 26,
   "id": "70b90975-5be0-472a-9533-9b367d6c2813",
   "metadata": {},
   "outputs": [],
   "source": [
    "class Grandfather():\n",
    "    def property_gf(self):\n",
    "        print(\"this is gf property\")\n",
    "        \n",
    "class FFather(Grandfather):\n",
    "    def property_ff(self):\n",
    "        print(\"this is gf + father property\")\n",
    "        \n",
    "class SSon(FFather):\n",
    "    def my_property(self):\n",
    "        print(\"this is my + father + gf property\")"
   ]
  },
  {
   "cell_type": "code",
   "execution_count": 27,
   "id": "c058e153-ac21-4a9d-bd3f-09c2565f3c14",
   "metadata": {},
   "outputs": [],
   "source": [
    "house = SSon() "
   ]
  },
  {
   "cell_type": "code",
   "execution_count": 29,
   "id": "2131cfb1-e805-494b-946c-e40a077c6bd4",
   "metadata": {},
   "outputs": [
    {
     "name": "stdout",
     "output_type": "stream",
     "text": [
      "this is my + father + gf property\n"
     ]
    }
   ],
   "source": [
    "house.my_property()"
   ]
  },
  {
   "cell_type": "code",
   "execution_count": 35,
   "id": "41982c0f-8647-40ad-a52a-bcf3773fa572",
   "metadata": {},
   "outputs": [],
   "source": [
    "class Vehicle():\n",
    "    def vechile_info(self):\n",
    "        print(\"Inside vehicle class\")\n",
    "        \n",
    "class CCar(Vehicle):\n",
    "    def CCar_info(self):\n",
    "        print(\"Inside CCar class\")\n",
    "        \n",
    "class Sports_car(CCar):\n",
    "    def sport_car_info(self):\n",
    "        print(\"Inside sport car class\")"
   ]
  },
  {
   "cell_type": "code",
   "execution_count": 36,
   "id": "e957299b-429b-40fa-a22b-212c7cadeae7",
   "metadata": {},
   "outputs": [],
   "source": [
    "sports = Sports_car()"
   ]
  },
  {
   "cell_type": "code",
   "execution_count": 40,
   "id": "45c314c2-b05f-422d-a8d0-59e8b3fbaca5",
   "metadata": {},
   "outputs": [
    {
     "name": "stdout",
     "output_type": "stream",
     "text": [
      "Inside sport car class\n",
      "Inside CCar class\n",
      "Inside vehicle class\n"
     ]
    }
   ],
   "source": [
    "sports.sport_car_info()\n",
    "sports.CCar_info()\n",
    "sports.vechile_info()"
   ]
  },
  {
   "cell_type": "code",
   "execution_count": 50,
   "id": "55c0dd98-8988-4b7a-bc28-9ba8f70c04ef",
   "metadata": {},
   "outputs": [],
   "source": [
    "# Multiple inheritance: one class has functions of more than one parent class.\n",
    "\n",
    "class Parent1():\n",
    "    def parent1_info(self):\n",
    "        print(\"property of parent 1\")\n",
    "        \n",
    "class Parent2():\n",
    "    def parent2_info(self):\n",
    "        print(\"property of parent 2\")\n",
    "        \n",
    "class Childd(Parent1, Parent2):\n",
    "    def child_info(self):\n",
    "        print(\"This is my and both parent property\")"
   ]
  },
  {
   "cell_type": "code",
   "execution_count": 51,
   "id": "f8ce7926-04e7-4b03-a0fe-6a6421ff6037",
   "metadata": {},
   "outputs": [],
   "source": [
    "total = Childd()"
   ]
  },
  {
   "cell_type": "code",
   "execution_count": 53,
   "id": "d396e416-0a7b-41f8-8c79-e88f7f2d5ae4",
   "metadata": {},
   "outputs": [
    {
     "name": "stdout",
     "output_type": "stream",
     "text": [
      "This is my and both parent property\n",
      "property of parent 1\n",
      "property of parent 2\n"
     ]
    }
   ],
   "source": [
    "total.child_info()\n",
    "total.parent1_info()\n",
    "total.parent2_info()"
   ]
  },
  {
   "cell_type": "code",
   "execution_count": 62,
   "id": "bb99e2de-cfcd-431e-9e33-3fbdbbda9dcb",
   "metadata": {},
   "outputs": [],
   "source": [
    "# diamond problem\n",
    "\n",
    "class A():\n",
    "    def method(self):\n",
    "        print(\"This is class A method\")\n",
    "\n",
    "class B(A):\n",
    "    def method(self):\n",
    "        print(\"This is class B method\")\n",
    "        \n",
    "class C(A):\n",
    "    def method(self):\n",
    "        print(\"This is class C method\")\n",
    "\n",
    "class D(C,B):   # here whichever class is first than whose method is called only.\n",
    "    pass\n"
   ]
  },
  {
   "cell_type": "code",
   "execution_count": 63,
   "id": "8133db5b-770e-4f0c-9535-36c97b5ca6c8",
   "metadata": {},
   "outputs": [],
   "source": [
    "d = D()"
   ]
  },
  {
   "cell_type": "code",
   "execution_count": 66,
   "id": "0f1d2597-d495-4688-862f-7a5a38e081f5",
   "metadata": {},
   "outputs": [
    {
     "name": "stdout",
     "output_type": "stream",
     "text": [
      "This is class C method\n"
     ]
    }
   ],
   "source": [
    "d.method()"
   ]
  },
  {
   "cell_type": "code",
   "execution_count": 67,
   "id": "98477c70-df75-40d4-83d6-5f02d004386c",
   "metadata": {},
   "outputs": [],
   "source": [
    "# heirachial inheritance: \n",
    "\n",
    "class VVehicle():\n",
    "    def vechile_info(self):\n",
    "        print(\"This is vehicle class\")\n",
    "        \n",
    "class CCCar(VVehicle):\n",
    "    def CCar_info(self,name):\n",
    "        print(\"This is CCCar class\", name)\n",
    "        \n",
    "class Truck(VVehicle):\n",
    "    def Truck_info(self,name):\n",
    "        print(\"This is truck info\", name)"
   ]
  },
  {
   "cell_type": "code",
   "execution_count": 68,
   "id": "6d7be606-5446-415f-91b4-76874fb6de46",
   "metadata": {},
   "outputs": [],
   "source": [
    "object1 = CCCar()"
   ]
  },
  {
   "cell_type": "code",
   "execution_count": 71,
   "id": "6f0c3838-d562-4419-8978-558c87fe4f79",
   "metadata": {},
   "outputs": [
    {
     "name": "stdout",
     "output_type": "stream",
     "text": [
      "This is CCCar class BMW\n"
     ]
    }
   ],
   "source": [
    "object1.CCar_info(\"BMW\")"
   ]
  },
  {
   "cell_type": "code",
   "execution_count": 73,
   "id": "255a16db-b798-4412-aa45-e83f147a28fd",
   "metadata": {},
   "outputs": [],
   "source": [
    "object2 = Truck()"
   ]
  },
  {
   "cell_type": "code",
   "execution_count": 75,
   "id": "903dfd72-2fcb-4eca-af7a-b949a47779d4",
   "metadata": {},
   "outputs": [
    {
     "name": "stdout",
     "output_type": "stream",
     "text": [
      "This is truck info Mahindraa\n"
     ]
    }
   ],
   "source": [
    "object2.Truck_info(\"Mahindraa\")"
   ]
  },
  {
   "cell_type": "code",
   "execution_count": 3,
   "id": "d5b99340-1bd5-4e0e-b741-f8ed09bfdc67",
   "metadata": {},
   "outputs": [],
   "source": [
    "# hybrid inheritance: multiple types or combination of different inheritance.\n",
    "\n",
    "class Vehicle1():\n",
    "    def vechile_info(self):\n",
    "        print(\"This is vehicle class\")\n",
    "        \n",
    "class Car5(Vehicle1):\n",
    "    def Car_info(self,name):\n",
    "        print(\"This is Car class\", name)\n",
    "\n",
    "class Truck1(Vehicle1):\n",
    "    def Truck_info(self,name):\n",
    "        print(\"This is truck info\", name)\n",
    "        \n",
    "class Sports_car1(Car5,Vehicle1):\n",
    "    def sport_car_info(self):\n",
    "        print(\"Inside sport car class\")"
   ]
  },
  {
   "cell_type": "code",
   "execution_count": 5,
   "id": "9a0ff672-d952-4c0a-b041-21cf4b9198e0",
   "metadata": {},
   "outputs": [],
   "source": [
    "s_car = Sports_car1()"
   ]
  },
  {
   "cell_type": "code",
   "execution_count": 7,
   "id": "d9ff8ff4-0c26-4a7f-a928-bc93e00ce70b",
   "metadata": {},
   "outputs": [
    {
     "name": "stdout",
     "output_type": "stream",
     "text": [
      "Inside sport car class\n"
     ]
    }
   ],
   "source": [
    "s_car.sport_car_info()"
   ]
  },
  {
   "cell_type": "code",
   "execution_count": null,
   "id": "722c4784-c0ae-4e4e-9f85-835706291437",
   "metadata": {},
   "outputs": [],
   "source": [
    "# Abstraction: a brief summary or concept of hiding the complex implementation"
   ]
  },
  {
   "cell_type": "code",
   "execution_count": 211,
   "id": "b8c0c804-a781-4067-b293-3571b2c7de48",
   "metadata": {},
   "outputs": [],
   "source": [
    "import abc"
   ]
  },
  {
   "cell_type": "code",
   "execution_count": 212,
   "id": "0632386f-8b11-4158-8a2e-00b46db9e364",
   "metadata": {},
   "outputs": [],
   "source": [
    "class Pwskills:\n",
    "    \n",
    "    @abc.abstractmethod\n",
    "    def student_details(self):\n",
    "        pass\n",
    "    \n",
    "    @abc.abstractmethod\n",
    "    def student_assignment(self):\n",
    "        pass\n",
    "    \n",
    "    @abc.abstractmethod\n",
    "    def student_marks(self):\n",
    "        pass\n",
    "# this is structure only.    "
   ]
  },
  {
   "cell_type": "code",
   "execution_count": 213,
   "id": "03f5867a-f066-4d32-8b91-878298a7c39e",
   "metadata": {},
   "outputs": [],
   "source": [
    "class DataScience(Pwskills):\n",
    "    def student_details(self):\n",
    "        return \"Data Science course students details\"\n",
    "    def student_marks(self):\n",
    "        return \"This gives dscourse student's marks\"\n",
    "    \n",
    "\n",
    "\n",
    "class WebDev(Pwskills):\n",
    "    def student_marks(self):\n",
    "        return \"This gives Web Dev course student's marks\"\n",
    "    def student_assignment(self):\n",
    "         return \"This will give student assignment of web dev class\""
   ]
  },
  {
   "cell_type": "code",
   "execution_count": 16,
   "id": "1b5a19ea-efb4-4c9e-b4a6-da986046f2d2",
   "metadata": {},
   "outputs": [],
   "source": [
    "ds = DataScience() "
   ]
  },
  {
   "cell_type": "code",
   "execution_count": 17,
   "id": "89c0a0fa-6998-4832-a981-f474873e498d",
   "metadata": {},
   "outputs": [
    {
     "data": {
      "text/plain": [
       "'Data Science course students details'"
      ]
     },
     "execution_count": 17,
     "metadata": {},
     "output_type": "execute_result"
    }
   ],
   "source": [
    "ds.student_details()"
   ]
  },
  {
   "cell_type": "code",
   "execution_count": 7,
   "id": "41112d09-9dfb-41d1-a9ee-5c13f9bbf9d1",
   "metadata": {},
   "outputs": [],
   "source": [
    "wb = WebDev()"
   ]
  },
  {
   "cell_type": "code",
   "execution_count": 8,
   "id": "fe5b8cbd-f8ee-4133-a04c-c632ccc401ff",
   "metadata": {},
   "outputs": [
    {
     "data": {
      "text/plain": [
       "\"This gives Web Dev course student's marks\""
      ]
     },
     "execution_count": 8,
     "metadata": {},
     "output_type": "execute_result"
    }
   ],
   "source": [
    "wb.student_marks()"
   ]
  },
  {
   "cell_type": "code",
   "execution_count": null,
   "id": "4ccc8058-b403-47c2-9171-8a77a4301f5b",
   "metadata": {},
   "outputs": [],
   "source": []
  },
  {
   "cell_type": "code",
   "execution_count": null,
   "id": "dd5088a4-3b70-4a9c-a39c-1b7d8f659504",
   "metadata": {},
   "outputs": [],
   "source": [
    "# polymorphism: poly means many, morphism meanss forms/states.\n",
    "# it refers to an object taking several forms depending on data."
   ]
  },
  {
   "cell_type": "code",
   "execution_count": 11,
   "id": "8c54391e-8746-4aaf-bf15-1b7fa18fa62c",
   "metadata": {},
   "outputs": [
    {
     "data": {
      "text/plain": [
       "3"
      ]
     },
     "execution_count": 11,
     "metadata": {},
     "output_type": "execute_result"
    }
   ],
   "source": [
    "len(\"ram\")"
   ]
  },
  {
   "cell_type": "code",
   "execution_count": 12,
   "id": "e151eba3-7c63-40fd-8abb-2580dba816e9",
   "metadata": {},
   "outputs": [],
   "source": [
    "def function(a,b):\n",
    "    return a+b"
   ]
  },
  {
   "cell_type": "code",
   "execution_count": 14,
   "id": "c5c5ff5b-5887-4fc0-8da2-cc45a1a70b23",
   "metadata": {},
   "outputs": [
    {
     "data": {
      "text/plain": [
       "16"
      ]
     },
     "execution_count": 14,
     "metadata": {},
     "output_type": "execute_result"
    }
   ],
   "source": [
    "function(8,8)"
   ]
  },
  {
   "cell_type": "code",
   "execution_count": 15,
   "id": "c0ee7be6-55c1-4f96-a9b0-8efe269c34c2",
   "metadata": {},
   "outputs": [
    {
     "data": {
      "text/plain": [
       "[1, 2, 3, 4, 5, 6]"
      ]
     },
     "execution_count": 15,
     "metadata": {},
     "output_type": "execute_result"
    }
   ],
   "source": [
    "function([1,2,3],[4,5,6])"
   ]
  },
  {
   "cell_type": "code",
   "execution_count": 2,
   "id": "44fd5890-2944-4b04-aa4f-098453cb2437",
   "metadata": {},
   "outputs": [],
   "source": [
    "class Teacher():\n",
    "    def lec_info(self):\n",
    "        print(\"This is lec info with teacher perspective\")"
   ]
  },
  {
   "cell_type": "code",
   "execution_count": 4,
   "id": "256aad09-ab33-4426-8f8f-9c813c2fa5b2",
   "metadata": {},
   "outputs": [],
   "source": [
    "class Student():\n",
    "    def lec_info(self):\n",
    "        print(\"This is lec info with student perspective\")"
   ]
  },
  {
   "cell_type": "code",
   "execution_count": 5,
   "id": "8ac790d0-ea87-4a9d-9152-8a2c4ffc5183",
   "metadata": {},
   "outputs": [],
   "source": [
    "def parcer(class_obj):\n",
    "    for i in class_obj:\n",
    "        i.lec_info()"
   ]
  },
  {
   "cell_type": "code",
   "execution_count": 6,
   "id": "2a37fe4e-4f8f-4a91-bce8-2bb02c8e59cb",
   "metadata": {},
   "outputs": [],
   "source": [
    "obj11 = Teacher()\n",
    "obj12 = Student()"
   ]
  },
  {
   "cell_type": "code",
   "execution_count": 7,
   "id": "0e7b81ac-078f-4043-9af2-32f6a4241544",
   "metadata": {},
   "outputs": [],
   "source": [
    "class_obj = [obj11, obj12]"
   ]
  },
  {
   "cell_type": "code",
   "execution_count": 8,
   "id": "3a5c4615-25f8-4cb2-956b-b8da52f97943",
   "metadata": {},
   "outputs": [
    {
     "name": "stdout",
     "output_type": "stream",
     "text": [
      "This is lec info with teacher perspective\n",
      "This is lec info with student perspective\n"
     ]
    }
   ],
   "source": [
    "parcer(class_obj)"
   ]
  },
  {
   "cell_type": "code",
   "execution_count": 9,
   "id": "bdda0b19-7d33-4503-94dd-2abe8f9b6024",
   "metadata": {},
   "outputs": [],
   "source": [
    "# polymorphism: method overloading , method of over-riding."
   ]
  },
  {
   "cell_type": "code",
   "execution_count": 24,
   "id": "c8b30cc1-b9bf-4bae-bada-9b2ffff83f91",
   "metadata": {},
   "outputs": [],
   "source": [
    "# Method overloading: Student taking different form.\n",
    "# here the last one over-ride the previous one\n",
    "class Student():\n",
    "    def student(self):\n",
    "        print(\"Welcome to PWSKILLS class\")\n",
    "    def student(self,name=\"\"):\n",
    "        print(\"Welcome to PWSKILLS class\",name)\n",
    "    def student(self,name=\"\",course=\"\"):   # here we provide the default argument.\n",
    "        print(\"Welcome to PWSKILLS class\",name,course)"
   ]
  },
  {
   "cell_type": "code",
   "execution_count": 25,
   "id": "8b6bfe0d-2b0e-476e-8ae5-6fe4762400f7",
   "metadata": {},
   "outputs": [],
   "source": [
    "s1 = Student()"
   ]
  },
  {
   "cell_type": "code",
   "execution_count": 26,
   "id": "b61f29a6-b4c5-49c8-90a7-e1ab91e49724",
   "metadata": {},
   "outputs": [
    {
     "name": "stdout",
     "output_type": "stream",
     "text": [
      "Welcome to PWSKILLS class  \n"
     ]
    }
   ],
   "source": [
    "s1.student()"
   ]
  },
  {
   "cell_type": "code",
   "execution_count": 27,
   "id": "38985bd4-2f3a-4f47-9aba-4273ecfb17b9",
   "metadata": {},
   "outputs": [
    {
     "name": "stdout",
     "output_type": "stream",
     "text": [
      "Welcome to PWSKILLS class Pulkit \n"
     ]
    }
   ],
   "source": [
    "s1.student(\"Pulkit\")"
   ]
  },
  {
   "cell_type": "code",
   "execution_count": 31,
   "id": "ab498671-be58-4880-822f-19d0de241047",
   "metadata": {},
   "outputs": [
    {
     "name": "stdout",
     "output_type": "stream",
     "text": [
      "Welcome to PWSKILLS class Pulkit Data_science\n"
     ]
    }
   ],
   "source": [
    "s1.student(\"Pulkit\",\"Data_science\")"
   ]
  },
  {
   "cell_type": "code",
   "execution_count": 32,
   "id": "59cac403-3da9-4288-a839-58e1b4ed90f7",
   "metadata": {},
   "outputs": [],
   "source": [
    "# Method over-riding: the process in parent class and child class with same signature i.e. parameter \n",
    "# then the child class method will be executed.\n",
    "\n",
    "class Fruits:\n",
    "    def fruit_info(self):\n",
    "        print(\"Inside parent class \")\n",
    "\n",
    "class Apple(Fruits):\n",
    "    def fruit_info(self):           # over-riding here child has more power over parent class.\n",
    "        print(\"Inside child class\")\n",
    "    def apple_info(self):\n",
    "        print(\"Inside the child class\")"
   ]
  },
  {
   "cell_type": "code",
   "execution_count": 34,
   "id": "d9af3c36-ff3e-41cf-b28f-6f48dc766b4c",
   "metadata": {},
   "outputs": [],
   "source": [
    "apple= Apple()"
   ]
  },
  {
   "cell_type": "code",
   "execution_count": 36,
   "id": "e78d454e-58c9-4d50-bf5a-c571bdcdf05d",
   "metadata": {},
   "outputs": [
    {
     "name": "stdout",
     "output_type": "stream",
     "text": [
      "Inside the child class\n"
     ]
    }
   ],
   "source": [
    "apple.apple_info()"
   ]
  },
  {
   "cell_type": "code",
   "execution_count": 37,
   "id": "26b39a8b-7387-4f87-9a88-da24cea7155e",
   "metadata": {},
   "outputs": [],
   "source": [
    "# Incapsulation: means to hiding something\n",
    "# bundling of data and methods in form of single unit class.\n",
    "# Access modifier: pulkic, protected, private.\n"
   ]
  },
  {
   "cell_type": "code",
   "execution_count": 38,
   "id": "97d61797-851c-4dbd-b283-03fa1a669577",
   "metadata": {},
   "outputs": [],
   "source": [
    "# public modifier: accessible from anywhere outside/inside the class also. can be change outside the class.\n",
    "\n",
    "class Student1:\n",
    "    def __init__(self, name, degree):\n",
    "        self.name= name\n",
    "        self.degree= degree"
   ]
  },
  {
   "cell_type": "code",
   "execution_count": 40,
   "id": "9615d52b-370f-4dc3-bc04-4ba7bee26ddd",
   "metadata": {},
   "outputs": [],
   "source": [
    "stud= Student1(\"Ramesh\",\"Masters\")"
   ]
  },
  {
   "cell_type": "code",
   "execution_count": 43,
   "id": "949accb2-c0d5-4589-b0d9-4f50886a24f8",
   "metadata": {},
   "outputs": [
    {
     "data": {
      "text/plain": [
       "'Ramesh'"
      ]
     },
     "execution_count": 43,
     "metadata": {},
     "output_type": "execute_result"
    }
   ],
   "source": [
    "stud.name"
   ]
  },
  {
   "cell_type": "code",
   "execution_count": 45,
   "id": "af663115-a636-433a-ad8b-a111d4be2594",
   "metadata": {},
   "outputs": [
    {
     "data": {
      "text/plain": [
       "'Masters'"
      ]
     },
     "execution_count": 45,
     "metadata": {},
     "output_type": "execute_result"
    }
   ],
   "source": [
    "stud.degree"
   ]
  },
  {
   "cell_type": "code",
   "execution_count": 47,
   "id": "1f4fc074-cb0f-4cfd-8fa2-3acfea26ca75",
   "metadata": {},
   "outputs": [],
   "source": [
    "stud.degree= \"P.H.D\""
   ]
  },
  {
   "cell_type": "code",
   "execution_count": 49,
   "id": "931b02bb-f7a1-4218-be53-a8ebe07b2ad3",
   "metadata": {},
   "outputs": [
    {
     "data": {
      "text/plain": [
       "'P.H.D'"
      ]
     },
     "execution_count": 49,
     "metadata": {},
     "output_type": "execute_result"
    }
   ],
   "source": [
    "stud.degree"
   ]
  },
  {
   "cell_type": "code",
   "execution_count": 86,
   "id": "070fbc59-74ae-4849-a24f-48dae959deea",
   "metadata": {},
   "outputs": [],
   "source": [
    "# Private modifier: accessible inside the class only. cannot be change outside the class.\n",
    "\n",
    "class Student2:\n",
    "    def __init__(self, name, degree):\n",
    "        self.__name= name\n",
    "        self.__degree= degree\n",
    "    def show(self):\n",
    "        # accessing the public and private data member\n",
    "        print(\"name:\",self.__name,\", degree:\", self.__degree)"
   ]
  },
  {
   "cell_type": "code",
   "execution_count": 87,
   "id": "8bedbf46-a4c4-4da8-8964-4cc4d49a9bbe",
   "metadata": {},
   "outputs": [],
   "source": [
    "stud1= Student2(\"Ramesh\",\"Masters\")"
   ]
  },
  {
   "cell_type": "code",
   "execution_count": 88,
   "id": "eff5ec23-16a1-408c-80bb-43e2f41b17c0",
   "metadata": {},
   "outputs": [
    {
     "ename": "AttributeError",
     "evalue": "'Student2' object has no attribute 'name'",
     "output_type": "error",
     "traceback": [
      "\u001b[0;31m---------------------------------------------------------------------------\u001b[0m",
      "\u001b[0;31mAttributeError\u001b[0m                            Traceback (most recent call last)",
      "Cell \u001b[0;32mIn[88], line 1\u001b[0m\n\u001b[0;32m----> 1\u001b[0m \u001b[43mstud1\u001b[49m\u001b[38;5;241;43m.\u001b[39;49m\u001b[43mname\u001b[49m   \u001b[38;5;66;03m# unable to access\u001b[39;00m\n",
      "\u001b[0;31mAttributeError\u001b[0m: 'Student2' object has no attribute 'name'"
     ]
    }
   ],
   "source": [
    "stud1.name   # unable to access"
   ]
  },
  {
   "cell_type": "code",
   "execution_count": 89,
   "id": "fb6f10d0-cd75-45ff-9e7f-7b74d7c33b44",
   "metadata": {},
   "outputs": [
    {
     "data": {
      "text/plain": [
       "'Masters'"
      ]
     },
     "execution_count": 89,
     "metadata": {},
     "output_type": "execute_result"
    }
   ],
   "source": [
    "stud1._Student2__degree  # read syntax carefully."
   ]
  },
  {
   "cell_type": "code",
   "execution_count": 90,
   "id": "9df62efa-4e91-4adf-a997-4e0c4f05a4a9",
   "metadata": {},
   "outputs": [
    {
     "name": "stdout",
     "output_type": "stream",
     "text": [
      "name: Ramesh , degree: Masters\n"
     ]
    }
   ],
   "source": [
    "stud1.show()"
   ]
  },
  {
   "cell_type": "code",
   "execution_count": 118,
   "id": "b9e786e8-f815-4559-9222-9ef17b456a65",
   "metadata": {},
   "outputs": [],
   "source": [
    "class Car:\n",
    "    def __init__(self,year,speed,make,model):\n",
    "        self.__year = year\n",
    "        self.__speed = speed\n",
    "        self.__make = make\n",
    "        self.__model = model\n",
    "        \n",
    "    def set_speed(self,speed):\n",
    "        self.__speed= 0 if speed<0 else speed\n",
    "        \n",
    "    def get_speed(self):\n",
    "        return self.__speed"
   ]
  },
  {
   "cell_type": "code",
   "execution_count": 119,
   "id": "acd348ae-6531-437e-bd16-f6d103b37d85",
   "metadata": {},
   "outputs": [],
   "source": [
    "car= Car(\"1999\",\"120\",\"Maruti\",\"Wagnar\")"
   ]
  },
  {
   "cell_type": "code",
   "execution_count": 120,
   "id": "9862865d-3092-4013-9a3e-d4020ae552d1",
   "metadata": {},
   "outputs": [
    {
     "data": {
      "text/plain": [
       "'120'"
      ]
     },
     "execution_count": 120,
     "metadata": {},
     "output_type": "execute_result"
    }
   ],
   "source": [
    "car._Car__speed"
   ]
  },
  {
   "cell_type": "code",
   "execution_count": 121,
   "id": "d4d0dfa1-f36d-49ac-821e-73caaffb47dc",
   "metadata": {},
   "outputs": [
    {
     "data": {
      "text/plain": [
       "'1999'"
      ]
     },
     "execution_count": 121,
     "metadata": {},
     "output_type": "execute_result"
    }
   ],
   "source": [
    "car._Car__year"
   ]
  },
  {
   "cell_type": "code",
   "execution_count": 125,
   "id": "24830213-b1c9-4abb-9df1-1759116bc550",
   "metadata": {},
   "outputs": [
    {
     "data": {
      "text/plain": [
       "'120'"
      ]
     },
     "execution_count": 125,
     "metadata": {},
     "output_type": "execute_result"
    }
   ],
   "source": [
    "car.get_speed()"
   ]
  },
  {
   "cell_type": "code",
   "execution_count": 131,
   "id": "7b80744b-9d60-4c01-b2ef-10c2a948689e",
   "metadata": {},
   "outputs": [],
   "source": [
    "car.set_speed(-1000)"
   ]
  },
  {
   "cell_type": "code",
   "execution_count": 132,
   "id": "41d4af9e-82bc-4b72-b6c7-0b3977a8e7f4",
   "metadata": {},
   "outputs": [
    {
     "data": {
      "text/plain": [
       "0"
      ]
     },
     "execution_count": 132,
     "metadata": {},
     "output_type": "execute_result"
    }
   ],
   "source": [
    "car.get_speed()"
   ]
  },
  {
   "cell_type": "code",
   "execution_count": 134,
   "id": "437edb02-006f-4d91-af83-c6ae0ccc2cdb",
   "metadata": {},
   "outputs": [],
   "source": [
    "car.set_speed(100)"
   ]
  },
  {
   "cell_type": "code",
   "execution_count": 136,
   "id": "56b0ea6c-69b2-4ddb-bc99-3de82bc39420",
   "metadata": {},
   "outputs": [
    {
     "data": {
      "text/plain": [
       "100"
      ]
     },
     "execution_count": 136,
     "metadata": {},
     "output_type": "execute_result"
    }
   ],
   "source": [
    "car.get_speed()"
   ]
  },
  {
   "cell_type": "code",
   "execution_count": 159,
   "id": "7fbe6c3b-7b19-48f1-89fc-0f48f6b37642",
   "metadata": {},
   "outputs": [],
   "source": [
    "class Bank:\n",
    "    \n",
    "    def __init__(self,balance):\n",
    "        self.__balance = balance\n",
    "        \n",
    "    def deposit(self,amount):\n",
    "        self.__balance += amount\n",
    "        return \"deposited\"\n",
    "        \n",
    "    def withdraw(self,amount):\n",
    "        if self.__balance >= amount:\n",
    "            self.__balance -= amount\n",
    "            return True\n",
    "        else: \n",
    "            return False\n",
    "        \n",
    "    def get_balance(self):\n",
    "        return self.__balance"
   ]
  },
  {
   "cell_type": "code",
   "execution_count": 172,
   "id": "bad460f8-0130-4f60-9fc4-25a2e9c64a3f",
   "metadata": {},
   "outputs": [],
   "source": [
    "cust1 = Bank(5000)"
   ]
  },
  {
   "cell_type": "code",
   "execution_count": 173,
   "id": "cfbf690f-b985-4b6f-9ec2-46b5d2d654b2",
   "metadata": {},
   "outputs": [
    {
     "data": {
      "text/plain": [
       "5000"
      ]
     },
     "execution_count": 173,
     "metadata": {},
     "output_type": "execute_result"
    }
   ],
   "source": [
    "cust1.get_balance()"
   ]
  },
  {
   "cell_type": "code",
   "execution_count": 174,
   "id": "02f25093-16f8-40fa-b821-48f8bc9bd701",
   "metadata": {},
   "outputs": [
    {
     "data": {
      "text/plain": [
       "'deposited'"
      ]
     },
     "execution_count": 174,
     "metadata": {},
     "output_type": "execute_result"
    }
   ],
   "source": [
    "cust1.deposit(2000)"
   ]
  },
  {
   "cell_type": "code",
   "execution_count": 175,
   "id": "083729b0-c486-474b-b7d3-f57fb4b595fd",
   "metadata": {},
   "outputs": [
    {
     "data": {
      "text/plain": [
       "7000"
      ]
     },
     "execution_count": 175,
     "metadata": {},
     "output_type": "execute_result"
    }
   ],
   "source": [
    "cust1.get_balance()"
   ]
  },
  {
   "cell_type": "code",
   "execution_count": 176,
   "id": "c2d237c4-3b65-4240-9de2-a9c5adf7b843",
   "metadata": {},
   "outputs": [
    {
     "data": {
      "text/plain": [
       "False"
      ]
     },
     "execution_count": 176,
     "metadata": {},
     "output_type": "execute_result"
    }
   ],
   "source": [
    "cust1.withdraw(8000)"
   ]
  },
  {
   "cell_type": "code",
   "execution_count": 177,
   "id": "79f31dda-fb4c-4e7d-8ef3-aceb8216b02e",
   "metadata": {},
   "outputs": [
    {
     "data": {
      "text/plain": [
       "True"
      ]
     },
     "execution_count": 177,
     "metadata": {},
     "output_type": "execute_result"
    }
   ],
   "source": [
    "cust1.withdraw(6500)"
   ]
  },
  {
   "cell_type": "code",
   "execution_count": 178,
   "id": "850c077a-54a5-4bd7-a70e-c1198a6fa834",
   "metadata": {},
   "outputs": [
    {
     "data": {
      "text/plain": [
       "500"
      ]
     },
     "execution_count": 178,
     "metadata": {},
     "output_type": "execute_result"
    }
   ],
   "source": [
    "cust1.get_balance()"
   ]
  },
  {
   "cell_type": "code",
   "execution_count": 203,
   "id": "43538564-3b4c-4d5f-8f95-220c59d3d0f1",
   "metadata": {},
   "outputs": [],
   "source": [
    "# protected modifier,(_): within the class and its subclass protected member can be accesed\n",
    "\n",
    "class College():\n",
    "    def __init__(self):\n",
    "        self._college_name = \"PWSKILLS\"\n",
    "        \n",
    "class Student3(College):\n",
    "    def __init__(self,name):\n",
    "        self.name = name\n",
    "        College.__init__(self)\n",
    "    \n",
    "    def show(self):\n",
    "        print(\"name:\", self.name, \"college\", self._college_name)"
   ]
  },
  {
   "cell_type": "code",
   "execution_count": 188,
   "id": "b6fef5e3-cc13-4f0a-b879-7ce6a5940588",
   "metadata": {},
   "outputs": [],
   "source": [
    "stud2 = Student3(\"Pulkit\")"
   ]
  },
  {
   "cell_type": "code",
   "execution_count": 189,
   "id": "4106ad80-8b1e-4516-b920-19485b8a9519",
   "metadata": {},
   "outputs": [
    {
     "name": "stdout",
     "output_type": "stream",
     "text": [
      "name: Pulkit college PWSKILLS\n"
     ]
    }
   ],
   "source": [
    "stud2.show()"
   ]
  },
  {
   "cell_type": "code",
   "execution_count": 208,
   "id": "84e83841-9d80-4a79-9613-7c86d2fa1bf5",
   "metadata": {},
   "outputs": [
    {
     "data": {
      "text/plain": [
       "'PWSKILLS'"
      ]
     },
     "execution_count": 208,
     "metadata": {},
     "output_type": "execute_result"
    }
   ],
   "source": [
    "clg = College()\n",
    "clg._college_name"
   ]
  },
  {
   "cell_type": "code",
   "execution_count": null,
   "id": "3463179b-e6cb-4ad7-8b22-d575173af4d3",
   "metadata": {},
   "outputs": [],
   "source": []
  }
 ],
 "metadata": {
  "kernelspec": {
   "display_name": "Python 3 (ipykernel)",
   "language": "python",
   "name": "python3"
  },
  "language_info": {
   "codemirror_mode": {
    "name": "ipython",
    "version": 3
   },
   "file_extension": ".py",
   "mimetype": "text/x-python",
   "name": "python",
   "nbconvert_exporter": "python",
   "pygments_lexer": "ipython3",
   "version": "3.10.8"
  }
 },
 "nbformat": 4,
 "nbformat_minor": 5
}
