{
 "cells": [
  {
   "cell_type": "code",
   "execution_count": 5,
   "id": "ab960cb3-d03c-4cb6-9f04-df5ce1bb3e82",
   "metadata": {},
   "outputs": [
    {
     "name": "stdout",
     "output_type": "stream",
     "text": [
      "\n",
      "Here is a list of the Python keywords.  Enter any keyword to get more help.\n",
      "\n",
      "False               class               from                or\n",
      "None                continue            global              pass\n",
      "True                def                 if                  raise\n",
      "and                 del                 import              return\n",
      "as                  elif                in                  try\n",
      "assert              else                is                  while\n",
      "async               except              lambda              with\n",
      "await               finally             nonlocal            yield\n",
      "break               for                 not                 \n",
      "\n"
     ]
    }
   ],
   "source": [
    "help('keywords')"
   ]
  },
  {
   "cell_type": "code",
   "execution_count": 118,
   "id": "0ac16b77-ab54-4903-bc5a-11c644b37397",
   "metadata": {},
   "outputs": [
    {
     "data": {
      "text/plain": [
       "11"
      ]
     },
     "execution_count": 118,
     "metadata": {},
     "output_type": "execute_result"
    }
   ],
   "source": [
    "a = 6\n",
    "a+5"
   ]
  },
  {
   "cell_type": "code",
   "execution_count": 23,
   "id": "bec683ba-be71-4292-99db-6760baf9ceff",
   "metadata": {},
   "outputs": [],
   "source": [
    "name=\"pulkit\"\n",
    "NAME=\"varshney\"\n",
    "name1=\"ram\"\n",
    "_name=\"krishna\"\n",
    "\n",
    "# snake cases (also know as pep8)\n",
    "first_name = \"pulkit\"\n",
    "testing_variable_for_strings = \"kkkkk\"\n",
    "\n",
    "# camel cases\n",
    "firstName = \"\"\n",
    "PIE = \"constant value\"\n",
    "\n",
    "class Person:\n",
    "    pass "
   ]
  },
  {
   "cell_type": "code",
   "execution_count": 24,
   "id": "7da3bbb5-8294-44ba-b15c-97d258bb3e7c",
   "metadata": {},
   "outputs": [],
   "source": [
    "# comments (# )\n",
    "# python wiil not read this and consider as statement."
   ]
  },
  {
   "cell_type": "code",
   "execution_count": 26,
   "id": "27267027-5d2f-4ba7-9744-bbe199736568",
   "metadata": {},
   "outputs": [
    {
     "data": {
      "text/plain": [
       "'\\nhello everyone \\nhow are you \\nhow was your day\\n'"
      ]
     },
     "execution_count": 26,
     "metadata": {},
     "output_type": "execute_result"
    }
   ],
   "source": [
    "#  for muti line comments\n",
    "\n",
    "\"\"\"\n",
    "hello everyone \n",
    "how are you \n",
    "how was your day\n",
    "\"\"\""
   ]
  },
  {
   "cell_type": "code",
   "execution_count": 27,
   "id": "8607ab7a-9290-4517-a234-a6f1455c3849",
   "metadata": {},
   "outputs": [],
   "source": [
    "# doc strings \n",
    "\n",
    "def pwskills(name):\n",
    "    \"\"\"\n",
    "    this is docstring for my function \n",
    "    \n",
    "    : name : which will take name of students \n",
    "    :return: arrray of complete deatil of the students\n",
    "    \"\"\"\n",
    "    # function body\n",
    "       "
   ]
  },
  {
   "cell_type": "code",
   "execution_count": 38,
   "id": "1ac0e3dc-9fff-4bbd-9a47-a7a873aae508",
   "metadata": {},
   "outputs": [
    {
     "ename": "TypeError",
     "evalue": "'int' object is not callable",
     "output_type": "error",
     "traceback": [
      "\u001b[0;31m---------------------------------------------------------------------------\u001b[0m",
      "\u001b[0;31mTypeError\u001b[0m                                 Traceback (most recent call last)",
      "Cell \u001b[0;32mIn[38], line 7\u001b[0m\n\u001b[1;32m      5\u001b[0m     \u001b[38;5;28mprint\u001b[39m(x)\n\u001b[1;32m      6\u001b[0m \u001b[38;5;28;01melse\u001b[39;00m :\n\u001b[0;32m----> 7\u001b[0m     \u001b[38;5;28;43mprint\u001b[39;49m\u001b[43m(\u001b[49m\u001b[38;5;241;43m10\u001b[39;49m\u001b[43m)\u001b[49m\n",
      "\u001b[0;31mTypeError\u001b[0m: 'int' object is not callable"
     ]
    }
   ],
   "source": [
    "# indentation\n",
    "\n",
    "x = 5\n",
    "if x > 10 :\n",
    "    print(x)\n",
    "else :\n",
    "    print(10)"
   ]
  },
  {
   "cell_type": "code",
   "execution_count": 8,
   "id": "b6237f5d-3d94-430a-b195-919d6e8a8b20",
   "metadata": {},
   "outputs": [
    {
     "ename": "NameError",
     "evalue": "name 'condition' is not defined",
     "output_type": "error",
     "traceback": [
      "\u001b[0;31m---------------------------------------------------------------------------\u001b[0m",
      "\u001b[0;31mNameError\u001b[0m                                 Traceback (most recent call last)",
      "Cell \u001b[0;32mIn[8], line 9\u001b[0m\n\u001b[1;32m      6\u001b[0m \u001b[38;5;66;03m# expression statement \u001b[39;00m\n\u001b[1;32m      7\u001b[0m D\u001b[38;5;241m=\u001b[39ma\u001b[38;5;241m+\u001b[39m\u001b[38;5;241m10\u001b[39m\n\u001b[0;32m----> 9\u001b[0m \u001b[38;5;28;01mif\u001b[39;00m \u001b[43mcondition\u001b[49m:\n\u001b[1;32m     10\u001b[0m     \u001b[38;5;28;01mpass\u001b[39;00m\n\u001b[1;32m     12\u001b[0m \u001b[38;5;28;01mimport\u001b[39;00m \u001b[38;5;21;01mmodule\u001b[39;00m\n",
      "\u001b[0;31mNameError\u001b[0m: name 'condition' is not defined"
     ]
    }
   ],
   "source": [
    "# statements\n",
    "# available statements\n",
    "\n",
    "A=1\n",
    "\n",
    "# expression statement \n",
    "D=a+10\n",
    "\n",
    "if condition:\n",
    "    pass\n",
    "\n",
    "import module\n"
   ]
  },
  {
   "cell_type": "code",
   "execution_count": 40,
   "id": "b9de992d-d74d-4eac-9b45-3ddaa7361969",
   "metadata": {},
   "outputs": [],
   "source": [
    "# pusedo code\n"
   ]
  },
  {
   "cell_type": "code",
   "execution_count": 58,
   "id": "de4f2deb-f1f3-4371-9ab0-4fa6bee9c78c",
   "metadata": {},
   "outputs": [],
   "source": [
    "a = 5"
   ]
  },
  {
   "cell_type": "code",
   "execution_count": 67,
   "id": "8495be29-823e-485c-852c-f1c2dbeeb367",
   "metadata": {},
   "outputs": [
    {
     "data": {
      "text/plain": [
       "140534974923120"
      ]
     },
     "execution_count": 67,
     "metadata": {},
     "output_type": "execute_result"
    }
   ],
   "source": [
    "(id(a)) # to find the location of the variable."
   ]
  },
  {
   "cell_type": "code",
   "execution_count": 63,
   "id": "9574d980-a865-44c8-b992-25b49fdb4446",
   "metadata": {},
   "outputs": [],
   "source": [
    "U=10 # all operstion can be done btw two numeric value."
   ]
  },
  {
   "cell_type": "code",
   "execution_count": 66,
   "id": "75ad24a0-d2ad-4107-acdf-9e77d6e9a6e8",
   "metadata": {},
   "outputs": [
    {
     "data": {
      "text/plain": [
       "140534974923280"
      ]
     },
     "execution_count": 66,
     "metadata": {},
     "output_type": "execute_result"
    }
   ],
   "source": [
    "(id(U))"
   ]
  },
  {
   "cell_type": "code",
   "execution_count": 68,
   "id": "e577d2a5-de72-4d64-90c7-92b6a1686e95",
   "metadata": {},
   "outputs": [
    {
     "data": {
      "text/plain": [
       "int"
      ]
     },
     "execution_count": 68,
     "metadata": {},
     "output_type": "execute_result"
    }
   ],
   "source": [
    "type(U)"
   ]
  },
  {
   "cell_type": "code",
   "execution_count": 73,
   "id": "7dea364c-00fa-4149-b45d-8fbaf73a9271",
   "metadata": {},
   "outputs": [
    {
     "data": {
      "text/plain": [
       "'\\ninteger = 1,2,-2,-4,-100,etc\\nfloat = 1.2,-2.8, etc al  decimal value.\\ncomplex = 2+7j (i in maths), etc\\n'"
      ]
     },
     "execution_count": 73,
     "metadata": {},
     "output_type": "execute_result"
    }
   ],
   "source": [
    "\"\"\"\n",
    "integer = 1,2,-2,-4,-100,etc\n",
    "float = 1.2,-2.8, etc al  decimal value.\n",
    "complex = 2+7j (i in maths), etc\n",
    "\"\"\""
   ]
  },
  {
   "cell_type": "code",
   "execution_count": 75,
   "id": "d897fee3-877f-4640-bfa2-1c734ccf923b",
   "metadata": {},
   "outputs": [
    {
     "data": {
      "text/plain": [
       "'pulkit'"
      ]
     },
     "execution_count": 75,
     "metadata": {},
     "output_type": "execute_result"
    }
   ],
   "source": [
    "# string \n",
    "name  # given above"
   ]
  },
  {
   "cell_type": "code",
   "execution_count": 85,
   "id": "a58b2076-8a8e-4a62-b5f8-19a612318e76",
   "metadata": {},
   "outputs": [
    {
     "data": {
      "text/plain": [
       "'PULKITVARSHNEY'"
      ]
     },
     "execution_count": 85,
     "metadata": {},
     "output_type": "execute_result"
    }
   ],
   "source": [
    "# how to do capital or smaller all letters and repalce the value.\n",
    "name1=\"PUlkiTvarSHney\"\n",
    "name1.upper()"
   ]
  },
  {
   "cell_type": "code",
   "execution_count": 84,
   "id": "17c4b47c-fb95-4a0e-b237-7150e69a62a8",
   "metadata": {},
   "outputs": [
    {
     "data": {
      "text/plain": [
       "'pulkitvarshney'"
      ]
     },
     "execution_count": 84,
     "metadata": {},
     "output_type": "execute_result"
    }
   ],
   "source": [
    "name1.lower()"
   ]
  },
  {
   "cell_type": "code",
   "execution_count": 88,
   "id": "60e6d06a-2155-477b-b5f4-ea7ba1c8414c",
   "metadata": {},
   "outputs": [
    {
     "data": {
      "text/plain": [
       "'PuLKiTvarSHney'"
      ]
     },
     "execution_count": 88,
     "metadata": {},
     "output_type": "execute_result"
    }
   ],
   "source": [
    "name1.replace('Ulk','uLK')"
   ]
  },
  {
   "cell_type": "code",
   "execution_count": 91,
   "id": "0fe2276f-62ad-4e2b-b65a-e86f0d835d10",
   "metadata": {},
   "outputs": [
    {
     "data": {
      "text/plain": [
       "'Tvar'"
      ]
     },
     "execution_count": 91,
     "metadata": {},
     "output_type": "execute_result"
    }
   ],
   "source": [
    "# indexing or slicing counting start from 0 not 1\n",
    "name1[5:9]"
   ]
  },
  {
   "cell_type": "code",
   "execution_count": 92,
   "id": "7db3c8ea-c2bd-4977-9d99-2a78a47a17cb",
   "metadata": {},
   "outputs": [
    {
     "data": {
      "text/plain": [
       "'PUlkiTvarSHneypulkit'"
      ]
     },
     "execution_count": 92,
     "metadata": {},
     "output_type": "execute_result"
    }
   ],
   "source": [
    "# adding to variables\n",
    "name1 + name"
   ]
  },
  {
   "cell_type": "code",
   "execution_count": 94,
   "id": "fb68dbef-684f-4395-9055-de90b9c986d8",
   "metadata": {},
   "outputs": [
    {
     "data": {
      "text/plain": [
       "'PUlkiTvarSHney pulkit'"
      ]
     },
     "execution_count": 94,
     "metadata": {},
     "output_type": "execute_result"
    }
   ],
   "source": [
    "name1+\" \"+name"
   ]
  },
  {
   "cell_type": "code",
   "execution_count": 96,
   "id": "4dd5ec33-5cac-4797-a8bf-e34b1c87b4fb",
   "metadata": {},
   "outputs": [
    {
     "data": {
      "text/plain": [
       "'PUlkiTvarSHneyPUlkiTvarSHneyPUlkiTvarSHneyPUlkiTvarSHneyPUlkiTvarSHney'"
      ]
     },
     "execution_count": 96,
     "metadata": {},
     "output_type": "execute_result"
    }
   ],
   "source": [
    "name1*5 # multiply or repeat the variable\n"
   ]
  },
  {
   "cell_type": "code",
   "execution_count": 97,
   "id": "43caa420-931a-485d-bef6-c629217fb469",
   "metadata": {},
   "outputs": [
    {
     "ename": "SyntaxError",
     "evalue": "invalid syntax (2519460302.py, line 1)",
     "output_type": "error",
     "traceback": [
      "\u001b[0;36m  Cell \u001b[0;32mIn[97], line 1\u001b[0;36m\u001b[0m\n\u001b[0;31m    name1.#( click tab for more option)\u001b[0m\n\u001b[0m          ^\u001b[0m\n\u001b[0;31mSyntaxError\u001b[0m\u001b[0;31m:\u001b[0m invalid syntax\n"
     ]
    }
   ],
   "source": [
    "name1.#( click tab for more option)"
   ]
  },
  {
   "cell_type": "code",
   "execution_count": 103,
   "id": "8bc7630f-5501-4b28-beba-3e0f0f8cc171",
   "metadata": {},
   "outputs": [
    {
     "data": {
      "text/plain": [
       "bool"
      ]
     },
     "execution_count": 103,
     "metadata": {},
     "output_type": "execute_result"
    }
   ],
   "source": [
    "# boolean or (logical) true or false value only\n",
    "\n",
    "t = True\n",
    "type(t)"
   ]
  },
  {
   "cell_type": "code",
   "execution_count": 70,
   "id": "b298617f-490a-417c-b2f4-4abb92699c85",
   "metadata": {},
   "outputs": [
    {
     "data": {
      "text/plain": [
       "256"
      ]
     },
     "execution_count": 70,
     "metadata": {},
     "output_type": "execute_result"
    }
   ],
   "source": [
    "2**8"
   ]
  },
  {
   "cell_type": "code",
   "execution_count": 16,
   "id": "d4d2b6dd-4334-474e-9c6c-4a6b0e7c869d",
   "metadata": {},
   "outputs": [],
   "source": [
    "#list =[1,2,3,4,56,\"a\",\"d\"]\n",
    "mun=[1,2,3,45,5,6,7,8,9]"
   ]
  },
  {
   "cell_type": "code",
   "execution_count": 18,
   "id": "f4c61612-f8a6-4ac8-8362-3e48c1d3dffb",
   "metadata": {},
   "outputs": [
    {
     "data": {
      "text/plain": [
       "list"
      ]
     },
     "execution_count": 18,
     "metadata": {},
     "output_type": "execute_result"
    }
   ],
   "source": [
    "type(mun)"
   ]
  },
  {
   "cell_type": "code",
   "execution_count": 32,
   "id": "ab62a082-9d04-4aa9-bbb1-2ec4ff5e5f70",
   "metadata": {},
   "outputs": [],
   "source": [
    "mun.append(21)   # counting start from 0 not 1.\n",
    "                 # to add elements in list."
   ]
  },
  {
   "cell_type": "code",
   "execution_count": 34,
   "id": "1c978204-e4e7-4293-a03e-b58bcc7292cd",
   "metadata": {},
   "outputs": [
    {
     "data": {
      "text/plain": [
       "5"
      ]
     },
     "execution_count": 34,
     "metadata": {},
     "output_type": "execute_result"
    }
   ],
   "source": [
    "mun.pop(4)    # to remove the element at specific position."
   ]
  },
  {
   "cell_type": "code",
   "execution_count": 35,
   "id": "4061b97b-c76f-4c6f-a247-935fe8872377",
   "metadata": {},
   "outputs": [
    {
     "data": {
      "text/plain": [
       "[1, 2, 3, 45, 6, 7, 8, 21]"
      ]
     },
     "execution_count": 35,
     "metadata": {},
     "output_type": "execute_result"
    }
   ],
   "source": [
    "mun"
   ]
  },
  {
   "cell_type": "code",
   "execution_count": 36,
   "id": "bf85b680-10e0-4864-b67b-7286d72a7ad7",
   "metadata": {},
   "outputs": [],
   "source": [
    "# tuple =(1,2,3,4,5,6,-1.2,\"a\") same as list but allow duplicate value inthe function.\n",
    "# difference is only brackets.\n",
    "# And we can't change or modify tuple.ie. mutable\n",
    "num1=(1,2,1,2,4,5)"
   ]
  },
  {
   "cell_type": "code",
   "execution_count": 37,
   "id": "5d027158-8865-4d29-93c6-8e982d4964b0",
   "metadata": {},
   "outputs": [
    {
     "data": {
      "text/plain": [
       "tuple"
      ]
     },
     "execution_count": 37,
     "metadata": {},
     "output_type": "execute_result"
    }
   ],
   "source": [
    "type(num1) # has 2 functions only."
   ]
  },
  {
   "cell_type": "code",
   "execution_count": 46,
   "id": "d3d150b2-6519-49dd-8147-80c19741b2a8",
   "metadata": {},
   "outputs": [
    {
     "data": {
      "text/plain": [
       "0"
      ]
     },
     "execution_count": 46,
     "metadata": {},
     "output_type": "execute_result"
    }
   ],
   "source": [
    "num1.index(1)"
   ]
  },
  {
   "cell_type": "code",
   "execution_count": 50,
   "id": "eecd570c-a977-4c2c-9f8e-4063a842817f",
   "metadata": {},
   "outputs": [
    {
     "data": {
      "text/plain": [
       "2"
      ]
     },
     "execution_count": 50,
     "metadata": {},
     "output_type": "execute_result"
    }
   ],
   "source": [
    "num1.count(1)"
   ]
  },
  {
   "cell_type": "code",
   "execution_count": 53,
   "id": "ced124a4-9404-4127-a0f7-be7d95860a25",
   "metadata": {},
   "outputs": [],
   "source": [
    "# dictionary\\ dict ={key : value1, key2 : value2, etc till n times }\n",
    "# value maybe anything list, tuple, variable, etc\n",
    "d={'b' : 1, 'c' : mun, 'd': [1,5,8,85,65,75]}"
   ]
  },
  {
   "cell_type": "code",
   "execution_count": 54,
   "id": "c1793fef-f30c-4c21-8939-7266ba36ed5f",
   "metadata": {},
   "outputs": [
    {
     "data": {
      "text/plain": [
       "{'b': 1, 'c': [1, 2, 3, 45, 6, 7, 8, 21], 'd': [1, 5, 8, 85, 65, 75]}"
      ]
     },
     "execution_count": 54,
     "metadata": {},
     "output_type": "execute_result"
    }
   ],
   "source": [
    "d"
   ]
  },
  {
   "cell_type": "code",
   "execution_count": 56,
   "id": "7c4e808f-62db-4035-9181-4d2cebcc7c31",
   "metadata": {},
   "outputs": [
    {
     "data": {
      "text/plain": [
       "dict"
      ]
     },
     "execution_count": 56,
     "metadata": {},
     "output_type": "execute_result"
    }
   ],
   "source": [
    "type(d)"
   ]
  },
  {
   "cell_type": "code",
   "execution_count": 58,
   "id": "6ecc060e-9004-4935-b018-134af8f674a0",
   "metadata": {},
   "outputs": [
    {
     "data": {
      "text/plain": [
       "{1: (1, 2, 1, 2, 4, 5),\n",
       " 2: (1, 2, 1, 2, 4, 5),\n",
       " 3: (1, 2, 1, 2, 4, 5),\n",
       " 45: (1, 2, 1, 2, 4, 5),\n",
       " 6: (1, 2, 1, 2, 4, 5),\n",
       " 7: (1, 2, 1, 2, 4, 5),\n",
       " 8: (1, 2, 1, 2, 4, 5),\n",
       " 21: (1, 2, 1, 2, 4, 5)}"
      ]
     },
     "execution_count": 58,
     "metadata": {},
     "output_type": "execute_result"
    }
   ],
   "source": [
    "d.fromkeys(mun, num1)  # it create the new dictionary with specific elements."
   ]
  },
  {
   "cell_type": "code",
   "execution_count": 59,
   "id": "f84c6717-dcc3-465b-a860-67f2f1b97b25",
   "metadata": {},
   "outputs": [],
   "source": [
    "# set = {} it avoids duplicate and sort the data orderwise.\n",
    "s={1,2,1,3,4,89,57,44,44,56}"
   ]
  },
  {
   "cell_type": "code",
   "execution_count": 61,
   "id": "4ef3529b-4063-4681-bdb0-456d0cdd6592",
   "metadata": {},
   "outputs": [
    {
     "data": {
      "text/plain": [
       "{1, 2, 3, 4, 44, 56, 57, 89}"
      ]
     },
     "execution_count": 61,
     "metadata": {},
     "output_type": "execute_result"
    }
   ],
   "source": [
    "s"
   ]
  },
  {
   "cell_type": "code",
   "execution_count": 62,
   "id": "d14375e3-177f-4240-80a5-38f24287bae7",
   "metadata": {},
   "outputs": [
    {
     "data": {
      "text/plain": [
       "set"
      ]
     },
     "execution_count": 62,
     "metadata": {},
     "output_type": "execute_result"
    }
   ],
   "source": [
    "type(s)"
   ]
  },
  {
   "cell_type": "code",
   "execution_count": 64,
   "id": "8eb0208e-7fec-4fd3-85e3-ccfd81fd5c85",
   "metadata": {},
   "outputs": [
    {
     "name": "stdin",
     "output_type": "stream",
     "text": [
      "Enter your name: Pulkit Varshney\n"
     ]
    },
    {
     "name": "stdout",
     "output_type": "stream",
     "text": [
      "Pulkit Varshney\n"
     ]
    }
   ],
   "source": [
    "# standard IO\n",
    "\n",
    "user_input = input(\"Enter your name:\")\n",
    "print(user_input)"
   ]
  },
  {
   "cell_type": "code",
   "execution_count": 67,
   "id": "3ef1fde7-5ff8-4936-aef9-d4d064f81f0c",
   "metadata": {},
   "outputs": [
    {
     "data": {
      "text/plain": [
       "' \\n  types of operators \\n1.airthmatic : + -  * / % **\\n2.comparison == != < > >= <=\\n3.logical AND OR NOT\\n4.bitwise & |(or) -(not) ^(xor) <<(leftshift) >>(rightshift)\\n5.assignment = += -= *= /=\\n6.membership in , not in\\n7.identity is , is not\\n'"
      ]
     },
     "execution_count": 67,
     "metadata": {},
     "output_type": "execute_result"
    }
   ],
   "source": [
    "# operator : operators are special symbols used for various operations on variables and values.\n",
    "\n",
    "\"\"\" \n",
    "  types of operators \n",
    "1.airthmatic : + -  * / %(reminder/modulus) **(power)\n",
    "2.comparison == != < > >= <=\n",
    "3.logical AND OR NOT\n",
    "4.bitwise & |(or) ~(not) ^(xor) <<(leftshift) >>(rightshift)\n",
    "5.assignment = += -= *= /=\n",
    "6.membership in , not in\n",
    "7.identity is , is not\n",
    "\"\"\""
   ]
  },
  {
   "cell_type": "code",
   "execution_count": 71,
   "id": "3e4f4ca1-01ad-432c-944f-a47daee5ddd5",
   "metadata": {},
   "outputs": [
    {
     "data": {
      "text/plain": [
       "2"
      ]
     },
     "execution_count": 71,
     "metadata": {},
     "output_type": "execute_result"
    }
   ],
   "source": [
    "8%3"
   ]
  },
  {
   "cell_type": "code",
   "execution_count": 74,
   "id": "7ad969bd-8c4a-40e1-ac1e-e665c66aa13b",
   "metadata": {},
   "outputs": [
    {
     "data": {
      "text/plain": [
       "9765625"
      ]
     },
     "execution_count": 74,
     "metadata": {},
     "output_type": "execute_result"
    }
   ],
   "source": [
    "25**5"
   ]
  },
  {
   "cell_type": "code",
   "execution_count": 77,
   "id": "bf2ca49e-d3d0-430d-8502-ff0adfbf5b1b",
   "metadata": {},
   "outputs": [
    {
     "data": {
      "text/plain": [
       "'Pulkit  Varshney'"
      ]
     },
     "execution_count": 77,
     "metadata": {},
     "output_type": "execute_result"
    }
   ],
   "source": [
    "\"Pulkit\"+ \"  \" +\"Varshney\""
   ]
  },
  {
   "cell_type": "code",
   "execution_count": 80,
   "id": "165ebd7b-4456-4088-8f89-a00616da762b",
   "metadata": {},
   "outputs": [
    {
     "data": {
      "text/plain": [
       "'PulkitPulkitPulkitPulkitPulkit'"
      ]
     },
     "execution_count": 80,
     "metadata": {},
     "output_type": "execute_result"
    }
   ],
   "source": [
    "\"Pulkit\"*5"
   ]
  },
  {
   "cell_type": "code",
   "execution_count": 81,
   "id": "76fc9583-c217-43c7-b12a-79862879caf0",
   "metadata": {},
   "outputs": [
    {
     "data": {
      "text/plain": [
       "False"
      ]
     },
     "execution_count": 81,
     "metadata": {},
     "output_type": "execute_result"
    }
   ],
   "source": [
    "6==8"
   ]
  },
  {
   "cell_type": "code",
   "execution_count": 84,
   "id": "f3efc082-e408-470b-8c96-3f6b04c8b2ea",
   "metadata": {},
   "outputs": [
    {
     "data": {
      "text/plain": [
       "True"
      ]
     },
     "execution_count": 84,
     "metadata": {},
     "output_type": "execute_result"
    }
   ],
   "source": [
    "8>=5"
   ]
  },
  {
   "cell_type": "code",
   "execution_count": 89,
   "id": "b8c768d0-30bf-4644-8f48-f93d3ec5630d",
   "metadata": {},
   "outputs": [
    {
     "name": "stdout",
     "output_type": "stream",
     "text": [
      "equal operator False\n",
      "greator  operator False\n",
      "not equal operator True\n",
      "lesser than operator True\n",
      "greater than equal to operator False\n",
      "lesser than equal to operator True\n"
     ]
    }
   ],
   "source": [
    "AA= 10\n",
    "BB=20\n",
    "print(f\"equal operator {AA==BB}\")\n",
    "print(f\"greator  operator {AA>BB}\")\n",
    "print(f\"not equal operator {AA!=BB}\")\n",
    "print(f\"lesser than operator {AA<BB}\")\n",
    "print(f\"greater than equal to operator {AA>=BB}\")\n",
    "print(f\"lesser than equal to operator {AA<=BB}\")\n",
    "# here f refers to formatting."
   ]
  },
  {
   "cell_type": "code",
   "execution_count": 93,
   "id": "a72562d2-d6e7-451a-ae46-636ca7355248",
   "metadata": {},
   "outputs": [
    {
     "name": "stdout",
     "output_type": "stream",
     "text": [
      "False\n"
     ]
    }
   ],
   "source": [
    "# and operator used when there is more than one condition \n",
    "result = (7>5) and (9<5)   # if any of the condition is false then it show false in the result.\n",
    "print(result)"
   ]
  },
  {
   "cell_type": "code",
   "execution_count": 95,
   "id": "15505696-7989-4f0b-9cb4-9ac1d3586ae2",
   "metadata": {},
   "outputs": [
    {
     "name": "stdout",
     "output_type": "stream",
     "text": [
      "True\n"
     ]
    }
   ],
   "source": [
    "# or operator\n",
    "result1 = (7>5) or (9<5)\n",
    "print(result1)"
   ]
  },
  {
   "cell_type": "code",
   "execution_count": 97,
   "id": "db014765-508c-48db-bdcb-f3d16d374b24",
   "metadata": {},
   "outputs": [
    {
     "data": {
      "text/plain": [
       "True"
      ]
     },
     "execution_count": 97,
     "metadata": {},
     "output_type": "execute_result"
    }
   ],
   "source": [
    "result2 = (7>5) and (1<11) or (9<5)\n",
    "result2"
   ]
  },
  {
   "cell_type": "code",
   "execution_count": 99,
   "id": "ddbe3817-8f55-4f45-8711-2db00c91030f",
   "metadata": {},
   "outputs": [],
   "source": [
    "# pripority wise \n",
    "# not > and > or"
   ]
  },
  {
   "cell_type": "code",
   "execution_count": 101,
   "id": "f64c02e9-7357-414b-8df1-0878ac3dc1ad",
   "metadata": {},
   "outputs": [
    {
     "data": {
      "text/plain": [
       "True"
      ]
     },
     "execution_count": 101,
     "metadata": {},
     "output_type": "execute_result"
    }
   ],
   "source": [
    "result3 = not(2==4)\n",
    "result3"
   ]
  },
  {
   "cell_type": "code",
   "execution_count": 102,
   "id": "d9474b17-6368-41e0-866a-e534756b8353",
   "metadata": {},
   "outputs": [
    {
     "data": {
      "text/plain": [
       "False"
      ]
     },
     "execution_count": 102,
     "metadata": {},
     "output_type": "execute_result"
    }
   ],
   "source": [
    "result4 = not(2<=5)\n",
    "result4"
   ]
  },
  {
   "cell_type": "code",
   "execution_count": 107,
   "id": "941c338f-c47e-4b55-9f0f-7e11531ce4d3",
   "metadata": {},
   "outputs": [
    {
     "name": "stdout",
     "output_type": "stream",
     "text": [
      "1\n",
      "7\n",
      "-6\n",
      "6\n",
      "20\n",
      "1\n"
     ]
    }
   ],
   "source": [
    "# logical operator applied on the boolean value while bitwise operator applied on integer value by manipulating individual bits.\n",
    "d=5\n",
    "f=3\n",
    "e=d&f\n",
    "e1=d|f\n",
    "e2=~d\n",
    "e3=d^f\n",
    "e4=d<<2\n",
    "e5=d>>2\n",
    "\n",
    "print(e)\n",
    "print(e1)\n",
    "print(e2)\n",
    "print(e3)\n",
    "print(e4)\n",
    "print(e5)\n"
   ]
  },
  {
   "cell_type": "code",
   "execution_count": 119,
   "id": "c775f111-fc7b-491c-b983-c0d27f620580",
   "metadata": {},
   "outputs": [],
   "source": [
    "# assignment operator\n",
    "# assigning the value of the variables \n",
    "a=6\n",
    "a+=6 # adding 6 in a at all values.\n",
    "a-=3 # subtracting 3 in a at all values.\n",
    "a*=2 # multipling 2 in a at all values.\n",
    "a/=6 # dividing 6 in a at all levels/ values."
   ]
  },
  {
   "cell_type": "code",
   "execution_count": 121,
   "id": "e8d83cbb-b8a9-4885-b07b-ac6d22e52012",
   "metadata": {},
   "outputs": [
    {
     "data": {
      "text/plain": [
       "3.0"
      ]
     },
     "execution_count": 121,
     "metadata": {},
     "output_type": "execute_result"
    }
   ],
   "source": [
    "a"
   ]
  },
  {
   "cell_type": "code",
   "execution_count": 123,
   "id": "6bfb5c51-8411-41b8-ab50-5177efabb23e",
   "metadata": {},
   "outputs": [
    {
     "data": {
      "text/plain": [
       "True"
      ]
     },
     "execution_count": 123,
     "metadata": {},
     "output_type": "execute_result"
    }
   ],
   "source": [
    "# membership operator used when the values are present in sequence.\n",
    "name = \"u\" in \"pulkit\"\n",
    "name"
   ]
  },
  {
   "cell_type": "code",
   "execution_count": 124,
   "id": "6f9d1106-9760-4bd0-aff2-40a986ecf61e",
   "metadata": {},
   "outputs": [
    {
     "data": {
      "text/plain": [
       "True"
      ]
     },
     "execution_count": 124,
     "metadata": {},
     "output_type": "execute_result"
    }
   ],
   "source": [
    "name = \"y\" not in \"pulkit\"\n",
    "name"
   ]
  },
  {
   "cell_type": "code",
   "execution_count": 126,
   "id": "9f519bcb-d4d4-46c6-abd7-7865f490481c",
   "metadata": {},
   "outputs": [],
   "source": [
    "# identity operator used when we have to compare the memory location of the objects.\n",
    "x = 'pulkit'\n",
    "y=x\n",
    "AA = x is not y"
   ]
  },
  {
   "cell_type": "code",
   "execution_count": 127,
   "id": "bc103a8c-7280-4e2e-80de-2f35b11cd0ff",
   "metadata": {},
   "outputs": [
    {
     "data": {
      "text/plain": [
       "False"
      ]
     },
     "execution_count": 127,
     "metadata": {},
     "output_type": "execute_result"
    }
   ],
   "source": [
    "AA"
   ]
  },
  {
   "cell_type": "code",
   "execution_count": null,
   "id": "65834d49-fcfe-424a-bc87-8c4fbffd71f0",
   "metadata": {},
   "outputs": [],
   "source": [
    "# type coversion is used when we have to change the type of the datatypes.\n"
   ]
  },
  {
   "cell_type": "code",
   "execution_count": 8,
   "id": "507c0991-0b1e-48c8-986f-e4e5db3d3c83",
   "metadata": {},
   "outputs": [
    {
     "data": {
      "text/plain": [
       "7.2"
      ]
     },
     "execution_count": 8,
     "metadata": {},
     "output_type": "execute_result"
    }
   ],
   "source": [
    "# implict type coversion :  This happens automatically by the Python interpreter without any user involvement.\n",
    "a = 6     # integer\n",
    "b = 1.2   # float\n",
    "c = a+b   # float python interpret it without data loss.\n",
    "c"
   ]
  },
  {
   "cell_type": "code",
   "execution_count": 4,
   "id": "d41cfdf2-bc66-4067-ac15-3715322ac946",
   "metadata": {},
   "outputs": [
    {
     "data": {
      "text/plain": [
       "float"
      ]
     },
     "execution_count": 4,
     "metadata": {},
     "output_type": "execute_result"
    }
   ],
   "source": [
    "type (c)"
   ]
  },
  {
   "cell_type": "code",
   "execution_count": 13,
   "id": "24aeb704-a4a5-4f84-bc98-2a8d48dbe2c0",
   "metadata": {},
   "outputs": [
    {
     "name": "stdin",
     "output_type": "stream",
     "text": [
      "enter any number:  5\n"
     ]
    },
    {
     "data": {
      "text/plain": [
       "str"
      ]
     },
     "execution_count": 13,
     "metadata": {},
     "output_type": "execute_result"
    }
   ],
   "source": [
    "# explicit type coversion : when converting datatype manually.\n",
    "# coverting datatypes by built-in functions.\n",
    "# int() , float() , str() , bool()\n",
    "\n",
    "y= input(\"enter any number: \")\n",
    "type(y)"
   ]
  },
  {
   "cell_type": "code",
   "execution_count": 15,
   "id": "39c8bea9-149d-48cf-a1cb-2270af54f1ca",
   "metadata": {},
   "outputs": [
    {
     "name": "stdin",
     "output_type": "stream",
     "text": [
      "enter any number:  5\n"
     ]
    },
    {
     "data": {
      "text/plain": [
       "int"
      ]
     },
     "execution_count": 15,
     "metadata": {},
     "output_type": "execute_result"
    }
   ],
   "source": [
    "y1=int(input(\"enter any number: \"))\n",
    "type(y1)"
   ]
  },
  {
   "cell_type": "code",
   "execution_count": 17,
   "id": "64cc89f6-216e-49c0-873f-6802418c56b3",
   "metadata": {},
   "outputs": [
    {
     "data": {
      "text/plain": [
       "254.0"
      ]
     },
     "execution_count": 17,
     "metadata": {},
     "output_type": "execute_result"
    }
   ],
   "source": [
    "x1=254\n",
    "x2=float(x1)\n",
    "type(x2)\n",
    "x2"
   ]
  },
  {
   "cell_type": "code",
   "execution_count": 2,
   "id": "4ce664f2-d0cc-45d1-aa1a-9082fff7ce2d",
   "metadata": {},
   "outputs": [
    {
     "data": {
      "text/plain": [
       "int"
      ]
     },
     "execution_count": 2,
     "metadata": {},
     "output_type": "execute_result"
    }
   ],
   "source": [
    "mixed =[1,\"2\",2.3]\n",
    "dd=int(mixed[0])\n",
    "type(dd)"
   ]
  },
  {
   "cell_type": "code",
   "execution_count": 4,
   "id": "5cd218aa-f87e-415a-b3e5-293d8bd1e0b0",
   "metadata": {},
   "outputs": [
    {
     "data": {
      "text/plain": [
       "int"
      ]
     },
     "execution_count": 4,
     "metadata": {},
     "output_type": "execute_result"
    }
   ],
   "source": [
    "ff=int(mixed[1])\n",
    "type(ff)"
   ]
  },
  {
   "cell_type": "code",
   "execution_count": null,
   "id": "eb239676-3028-4c84-b6a2-020b48c79f04",
   "metadata": {},
   "outputs": [],
   "source": []
  },
  {
   "cell_type": "code",
   "execution_count": null,
   "id": "33af329d-a788-44e1-800c-a8a87f17d5fc",
   "metadata": {},
   "outputs": [],
   "source": []
  },
  {
   "cell_type": "code",
   "execution_count": null,
   "id": "b258ca33-3764-4158-a56b-689364816bca",
   "metadata": {},
   "outputs": [],
   "source": []
  },
  {
   "cell_type": "code",
   "execution_count": null,
   "id": "36afead4-37f2-4020-a6cd-17dc7421c5c7",
   "metadata": {},
   "outputs": [],
   "source": []
  },
  {
   "cell_type": "code",
   "execution_count": null,
   "id": "fa052658-9ab2-4566-aaec-4794c61f5a67",
   "metadata": {},
   "outputs": [],
   "source": [
    "\n"
   ]
  }
 ],
 "metadata": {
  "kernelspec": {
   "display_name": "Python 3 (ipykernel)",
   "language": "python",
   "name": "python3"
  },
  "language_info": {
   "codemirror_mode": {
    "name": "ipython",
    "version": 3
   },
   "file_extension": ".py",
   "mimetype": "text/x-python",
   "name": "python",
   "nbconvert_exporter": "python",
   "pygments_lexer": "ipython3",
   "version": "3.10.8"
  }
 },
 "nbformat": 4,
 "nbformat_minor": 5
}
