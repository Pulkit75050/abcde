{
 "cells": [
  {
   "cell_type": "code",
   "execution_count": null,
   "id": "e3b79a22-689f-4a3c-b84a-ce7a46ab7c6e",
   "metadata": {},
   "outputs": [],
   "source": [
    "# function is a reusable named block of code that perform a specific task or returns a value.\n",
    "# it is of two type i.e. built-in and user defined.\n",
    "# user defined function: Functions that we define ourselves to do certain specific task.\n",
    "# built-in functions: function that are available by the python itself."
   ]
  },
  {
   "cell_type": "code",
   "execution_count": 3,
   "id": "9fe4fb59-9beb-45a9-a8bf-fdc20a7cb443",
   "metadata": {},
   "outputs": [
    {
     "ename": "SyntaxError",
     "evalue": "invalid syntax (2767117701.py, line 3)",
     "output_type": "error",
     "traceback": [
      "\u001b[0;36m  Cell \u001b[0;32mIn[3], line 3\u001b[0;36m\u001b[0m\n\u001b[0;31m    def greetings:\u001b[0m\n\u001b[0m                 ^\u001b[0m\n\u001b[0;31mSyntaxError\u001b[0m\u001b[0;31m:\u001b[0m invalid syntax\n"
     ]
    }
   ],
   "source": [
    "# user defined functions\n",
    "\n",
    "def greetings:\n",
    "    print(\"Hello, How are you?\")"
   ]
  },
  {
   "cell_type": "raw",
   "id": "af47fba6-dc3b-42a9-ae85-954db385c5f6",
   "metadata": {},
   "source": [
    "greetings"
   ]
  },
  {
   "cell_type": "code",
   "execution_count": null,
   "id": "306e5b1b-54d1-4f2c-81ef-f7c891492c85",
   "metadata": {},
   "outputs": [],
   "source": []
  },
  {
   "cell_type": "code",
   "execution_count": null,
   "id": "6facb2ff-5159-454f-bf8d-a6b6747c0023",
   "metadata": {},
   "outputs": [],
   "source": []
  },
  {
   "cell_type": "code",
   "execution_count": null,
   "id": "2d2eff03-969a-4de2-bf54-ced5173439c8",
   "metadata": {},
   "outputs": [],
   "source": []
  },
  {
   "cell_type": "code",
   "execution_count": null,
   "id": "6967dc8f-e101-44d3-ade2-a4e6997b41a2",
   "metadata": {},
   "outputs": [],
   "source": []
  },
  {
   "cell_type": "code",
   "execution_count": null,
   "id": "9da7af96-793d-4d7c-afb1-4317541edc65",
   "metadata": {},
   "outputs": [],
   "source": []
  },
  {
   "cell_type": "code",
   "execution_count": null,
   "id": "5a4bda07-ab1e-48a5-81f1-45af1efc3fb9",
   "metadata": {},
   "outputs": [],
   "source": []
  },
  {
   "cell_type": "code",
   "execution_count": null,
   "id": "3ba88c9d-8c8b-4c9f-a058-4dfa3a760292",
   "metadata": {},
   "outputs": [],
   "source": []
  },
  {
   "cell_type": "code",
   "execution_count": null,
   "id": "769e1504-5a01-47f0-a93e-511e51f845dc",
   "metadata": {},
   "outputs": [],
   "source": []
  },
  {
   "cell_type": "code",
   "execution_count": null,
   "id": "9cd4fa83-28dd-46de-a271-626ce4cfc219",
   "metadata": {},
   "outputs": [],
   "source": []
  },
  {
   "cell_type": "code",
   "execution_count": null,
   "id": "006dd08d-7485-406a-8c33-b0c2ae4e6487",
   "metadata": {},
   "outputs": [],
   "source": []
  },
  {
   "cell_type": "code",
   "execution_count": 3,
   "id": "a55e9a4c-aaf1-4c7b-ad7e-2b307ed26ad9",
   "metadata": {},
   "outputs": [],
   "source": [
    "# OOPs concepts\n",
    "# object orientated programming"
   ]
  },
  {
   "cell_type": "code",
   "execution_count": 4,
   "id": "5bbf1b62-b2b5-4a07-ab52-4d73f4f1c179",
   "metadata": {},
   "outputs": [],
   "source": [
    "class clas_name:\n",
    "    \"\"\"\" doc string\"\"\"\n",
    "    #statement1\n",
    "    #statement2"
   ]
  },
  {
   "cell_type": "code",
   "execution_count": 1,
   "id": "1e97fdc6-5f62-40a6-a9ae-d44c7c95a06d",
   "metadata": {},
   "outputs": [],
   "source": [
    "# parameterized construction\n",
    "class student:\n",
    "    \"\"\"creating students details object\"\"\"\n",
    "    \n",
    "    def __init__(self,name , rollno):\n",
    "        self.name = name \n",
    "        self.rollno = rollno\n",
    "        \n",
    "    def show(self):\n",
    "        print(f\"name: {self.name} has roll number = {self.rollno}\")"
   ]
  },
  {
   "cell_type": "code",
   "execution_count": 4,
   "id": "80316819-fbd5-4a02-9f25-497a10bdd164",
   "metadata": {},
   "outputs": [],
   "source": [
    "student1 = student(\"Sahil\",'123456')"
   ]
  },
  {
   "cell_type": "code",
   "execution_count": 3,
   "id": "06ba895d-1ae4-4717-8c5d-7b376f301730",
   "metadata": {},
   "outputs": [],
   "source": [
    "student2 = student(\"Pulkit\", '147896')"
   ]
  },
  {
   "cell_type": "code",
   "execution_count": 14,
   "id": "660b2ed0-7d64-47b5-8eaa-684284700aaf",
   "metadata": {},
   "outputs": [],
   "source": [
    "a = \"abc\""
   ]
  },
  {
   "cell_type": "code",
   "execution_count": 15,
   "id": "146fba40-ca59-436c-8002-4dfa8937092d",
   "metadata": {},
   "outputs": [
    {
     "data": {
      "text/plain": [
       "str"
      ]
     },
     "execution_count": 15,
     "metadata": {},
     "output_type": "execute_result"
    }
   ],
   "source": [
    "type(a)"
   ]
  },
  {
   "cell_type": "code",
   "execution_count": 5,
   "id": "2b9f966f-16b6-420a-ad95-3ed68280390c",
   "metadata": {},
   "outputs": [
    {
     "name": "stdout",
     "output_type": "stream",
     "text": [
      "name: Pulkit has roll number = 147896\n"
     ]
    }
   ],
   "source": [
    "student2.show()"
   ]
  },
  {
   "cell_type": "code",
   "execution_count": 32,
   "id": "40ce524c-fe5b-4611-8ddb-d17bcfc77503",
   "metadata": {},
   "outputs": [],
   "source": [
    "# default construction\n",
    "class person:\n",
    "    def display(self):\n",
    "        print ('inside display')"
   ]
  },
  {
   "cell_type": "code",
   "execution_count": 34,
   "id": "c3cc87b5-e658-4cea-8ce0-521a4c00c1da",
   "metadata": {},
   "outputs": [],
   "source": [
    "man = person()"
   ]
  },
  {
   "cell_type": "code",
   "execution_count": 35,
   "id": "fc258ccf-da0e-4128-ad06-7f8c6d5a676a",
   "metadata": {},
   "outputs": [
    {
     "data": {
      "text/plain": [
       "__main__.person"
      ]
     },
     "execution_count": 35,
     "metadata": {},
     "output_type": "execute_result"
    }
   ],
   "source": [
    "type(man)"
   ]
  },
  {
   "cell_type": "code",
   "execution_count": 44,
   "id": "14dca5e2-9e68-429c-ab0e-9a3df7610fb7",
   "metadata": {},
   "outputs": [],
   "source": [
    "# parameterized construction\n",
    "class student:\n",
    "    \"\"\"creating students details object\"\"\"\n",
    "    \n",
    "    company =\"pwskills\"\n",
    "    \n",
    "    def __init__(self,name , rollno):   # self is object's variable\n",
    "        self.name = name \n",
    "        self.rollno = rollno\n",
    "        \n",
    "    def show(self):\n",
    "        print(f\"name: {self.name} has rollnumber = {self.rollno}\")\n",
    "    \n",
    "    def upper_case(self):\n",
    "        print(f\"name in capital: {self.name.upper()}\")\n",
    "    \n",
    "    def company_name(cls):  # cls is template's variable\n",
    "        print(f\"name in capital:{cls.company.upper()}\")"
   ]
  },
  {
   "cell_type": "code",
   "execution_count": 42,
   "id": "9bc2cead-8175-4704-9e9e-ae77d89be7e5",
   "metadata": {},
   "outputs": [],
   "source": [
    "student3 = student(\"ravi\", 15645)"
   ]
  },
  {
   "cell_type": "code",
   "execution_count": null,
   "id": "f2ca2054-66a7-4971-a897-522a619b842a",
   "metadata": {},
   "outputs": [],
   "source": [
    "student3.company_name()"
   ]
  },
  {
   "cell_type": "code",
   "execution_count": null,
   "id": "ec1fca2a-9657-407b-bed4-388988d2ee91",
   "metadata": {},
   "outputs": [],
   "source": [
    "\n"
   ]
  },
  {
   "cell_type": "code",
   "execution_count": null,
   "id": "761fefbc-79f0-4fc5-bad2-9123c2360598",
   "metadata": {},
   "outputs": [],
   "source": []
  },
  {
   "cell_type": "code",
   "execution_count": null,
   "id": "a7ab2169-c809-4fe9-89b0-9a0d67c9caf6",
   "metadata": {},
   "outputs": [],
   "source": []
  },
  {
   "cell_type": "code",
   "execution_count": null,
   "id": "9c66db83-2cd8-44ba-929e-26c40be52161",
   "metadata": {},
   "outputs": [],
   "source": []
  }
 ],
 "metadata": {
  "kernelspec": {
   "display_name": "Python 3 (ipykernel)",
   "language": "python",
   "name": "python3"
  },
  "language_info": {
   "codemirror_mode": {
    "name": "ipython",
    "version": 3
   },
   "file_extension": ".py",
   "mimetype": "text/x-python",
   "name": "python",
   "nbconvert_exporter": "python",
   "pygments_lexer": "ipython3",
   "version": "3.10.8"
  }
 },
 "nbformat": 4,
 "nbformat_minor": 5
}
