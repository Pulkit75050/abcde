{
 "cells": [
  {
   "cell_type": "code",
   "execution_count": null,
   "id": "7ce2f602-b1d8-47e0-bce7-456141211d4e",
   "metadata": {},
   "outputs": [],
   "source": [
    "# function are of two type:\n",
    "# in-built function : print, len, type, int, float, etc\n",
    "# user-defined function"
   ]
  },
  {
   "cell_type": "code",
   "execution_count": null,
   "id": "d67356c0-bcdd-4b0d-b5ce-3141acff6b00",
   "metadata": {},
   "outputs": [],
   "source": [
    "# functions is a block of code that performs some specific computation.\n",
    "\"\"\"\n",
    "why we used function...\n",
    "it keeps your coded neat and clean , organise and reusable.\n",
    "\"\"\""
   ]
  },
  {
   "cell_type": "code",
   "execution_count": 1,
   "id": "1cca4a2e-b46c-4cca-85ae-2882272d77db",
   "metadata": {},
   "outputs": [
    {
     "data": {
      "text/plain": [
       "9"
      ]
     },
     "execution_count": 1,
     "metadata": {},
     "output_type": "execute_result"
    }
   ],
   "source": [
    "import math as m\n",
    "m.ceil(8.3)"
   ]
  },
  {
   "cell_type": "code",
   "execution_count": 2,
   "id": "1d8ed7cc-09d9-4f7a-adef-a5b15a8c1c56",
   "metadata": {},
   "outputs": [
    {
     "data": {
      "text/plain": [
       "6"
      ]
     },
     "execution_count": 2,
     "metadata": {},
     "output_type": "execute_result"
    }
   ],
   "source": [
    "m.floor(6.9)"
   ]
  },
  {
   "cell_type": "code",
   "execution_count": 3,
   "id": "386f86e2-533a-4249-8ebc-ec489dc97cec",
   "metadata": {},
   "outputs": [],
   "source": [
    "# syntax of function\n",
    "# def: defination of the function\n",
    "# def fun():\n",
    "#    do something\n",
    "#    do something\n",
    "#    return "
   ]
  },
  {
   "cell_type": "code",
   "execution_count": 6,
   "id": "a5502304-1fed-4b9b-9570-eea3777e8fe7",
   "metadata": {},
   "outputs": [
    {
     "name": "stdout",
     "output_type": "stream",
     "text": [
      "welcome to class rahul\n",
      "welcome to class ram\n",
      "welcome to class sohan\n"
     ]
    }
   ],
   "source": [
    "print(\"welcome to class rahul\")\n",
    "print(\"welcome to class ram\")\n",
    "print(\"welcome to class sohan\")"
   ]
  },
  {
   "cell_type": "code",
   "execution_count": 7,
   "id": "c2e8660c-f230-4962-9d92-ac8df5f3e131",
   "metadata": {},
   "outputs": [],
   "source": [
    "def gret(n):\n",
    "    print(\"welcome to class\", n)"
   ]
  },
  {
   "cell_type": "code",
   "execution_count": 9,
   "id": "81b98960-bc07-4b4f-9777-77fbde69a32b",
   "metadata": {},
   "outputs": [
    {
     "name": "stdout",
     "output_type": "stream",
     "text": [
      "welcome to class Pulkit\n"
     ]
    }
   ],
   "source": [
    "gret(\"Pulkit\")"
   ]
  },
  {
   "cell_type": "code",
   "execution_count": 16,
   "id": "c2883155-7229-47ea-9366-7d2321ad7fa8",
   "metadata": {},
   "outputs": [],
   "source": [
    "def fun():\n",
    "    print(\"This is my first function\")"
   ]
  },
  {
   "cell_type": "code",
   "execution_count": 17,
   "id": "25526e2c-26a1-47f1-bf7f-bc74ca8af232",
   "metadata": {},
   "outputs": [
    {
     "name": "stdout",
     "output_type": "stream",
     "text": [
      "This is my first function\n"
     ]
    },
    {
     "ename": "TypeError",
     "evalue": "unsupported operand type(s) for +: 'NoneType' and 'str'",
     "output_type": "error",
     "traceback": [
      "\u001b[0;31m---------------------------------------------------------------------------\u001b[0m",
      "\u001b[0;31mTypeError\u001b[0m                                 Traceback (most recent call last)",
      "Cell \u001b[0;32mIn[17], line 1\u001b[0m\n\u001b[0;32m----> 1\u001b[0m \u001b[43mfun\u001b[49m\u001b[43m(\u001b[49m\u001b[43m)\u001b[49m\u001b[43m \u001b[49m\u001b[38;5;241;43m+\u001b[39;49m\u001b[43m \u001b[49m\u001b[38;5;124;43m\"\u001b[39;49m\u001b[38;5;124;43min Python\u001b[39;49m\u001b[38;5;124;43m\"\u001b[39;49m\n",
      "\u001b[0;31mTypeError\u001b[0m: unsupported operand type(s) for +: 'NoneType' and 'str'"
     ]
    }
   ],
   "source": [
    "fun() + \"in Python\""
   ]
  },
  {
   "cell_type": "code",
   "execution_count": 18,
   "id": "e73200b8-28ae-4fbc-8d1e-2c523120dea6",
   "metadata": {},
   "outputs": [
    {
     "data": {
      "text/plain": [
       "'This is my first functionin Python'"
      ]
     },
     "execution_count": 18,
     "metadata": {},
     "output_type": "execute_result"
    }
   ],
   "source": [
    "\"This is my first function\" + \"in Python\""
   ]
  },
  {
   "cell_type": "code",
   "execution_count": 28,
   "id": "7ad48ff4-9b4b-4f31-be04-ee9e72a775c8",
   "metadata": {},
   "outputs": [],
   "source": [
    "def func():\n",
    "    return \"This is my first function\",2 , 5, 8 ,25"
   ]
  },
  {
   "cell_type": "code",
   "execution_count": 30,
   "id": "934106c8-7e15-4abc-a7c1-d0215d718b05",
   "metadata": {},
   "outputs": [],
   "source": [
    "a = func()"
   ]
  },
  {
   "cell_type": "code",
   "execution_count": 33,
   "id": "193a87c2-f83b-4da9-9c4a-e5dc1d46ca32",
   "metadata": {},
   "outputs": [
    {
     "data": {
      "text/plain": [
       "'This is my first function'"
      ]
     },
     "execution_count": 33,
     "metadata": {},
     "output_type": "execute_result"
    }
   ],
   "source": [
    "a[0]"
   ]
  },
  {
   "cell_type": "code",
   "execution_count": 35,
   "id": "3364fed5-3526-41b1-9486-ce0e6c3151b3",
   "metadata": {},
   "outputs": [
    {
     "data": {
      "text/plain": [
       "tuple"
      ]
     },
     "execution_count": 35,
     "metadata": {},
     "output_type": "execute_result"
    }
   ],
   "source": [
    "type(a)"
   ]
  },
  {
   "cell_type": "code",
   "execution_count": 36,
   "id": "d894263d-23cc-4c55-abd1-2e410b77c531",
   "metadata": {},
   "outputs": [],
   "source": [
    "a,b,c,d,e = func()"
   ]
  },
  {
   "cell_type": "code",
   "execution_count": 38,
   "id": "aa9fd233-996a-4c82-8587-e0d59bc96479",
   "metadata": {},
   "outputs": [
    {
     "data": {
      "text/plain": [
       "'This is my first function'"
      ]
     },
     "execution_count": 38,
     "metadata": {},
     "output_type": "execute_result"
    }
   ],
   "source": [
    "a"
   ]
  },
  {
   "cell_type": "code",
   "execution_count": 39,
   "id": "74df4dc8-bee8-41ea-b381-35fa80cbd574",
   "metadata": {},
   "outputs": [
    {
     "data": {
      "text/plain": [
       "2"
      ]
     },
     "execution_count": 39,
     "metadata": {},
     "output_type": "execute_result"
    }
   ],
   "source": [
    "b"
   ]
  },
  {
   "cell_type": "code",
   "execution_count": 40,
   "id": "a5a28b67-3a00-42a0-a73d-8eb4256b779c",
   "metadata": {},
   "outputs": [
    {
     "data": {
      "text/plain": [
       "5"
      ]
     },
     "execution_count": 40,
     "metadata": {},
     "output_type": "execute_result"
    }
   ],
   "source": [
    "c"
   ]
  },
  {
   "cell_type": "code",
   "execution_count": 41,
   "id": "f0f4a8ee-7cb3-4da1-b3b9-3e3a27ad4fdc",
   "metadata": {},
   "outputs": [
    {
     "data": {
      "text/plain": [
       "8"
      ]
     },
     "execution_count": 41,
     "metadata": {},
     "output_type": "execute_result"
    }
   ],
   "source": [
    "d"
   ]
  },
  {
   "cell_type": "code",
   "execution_count": 42,
   "id": "684b2dd1-9061-4fec-89f1-8e15ff9b42f4",
   "metadata": {},
   "outputs": [
    {
     "data": {
      "text/plain": [
       "8"
      ]
     },
     "execution_count": 42,
     "metadata": {},
     "output_type": "execute_result"
    }
   ],
   "source": [
    "func()[3]"
   ]
  },
  {
   "cell_type": "code",
   "execution_count": 45,
   "id": "08d5e255-fe77-40cd-91fe-53182f4d669d",
   "metadata": {},
   "outputs": [],
   "source": [
    "def square(a):      # here a is known as argument\n",
    "    return a*a      # they are postional argumments"
   ]
  },
  {
   "cell_type": "code",
   "execution_count": 46,
   "id": "3a162d4c-721d-4774-8865-c1b61ef370c8",
   "metadata": {},
   "outputs": [
    {
     "data": {
      "text/plain": [
       "81"
      ]
     },
     "execution_count": 46,
     "metadata": {},
     "output_type": "execute_result"
    }
   ],
   "source": [
    "square(9)"
   ]
  },
  {
   "cell_type": "code",
   "execution_count": 5,
   "id": "319ef49b-5c6b-4af9-a90d-0298600efdc8",
   "metadata": {},
   "outputs": [],
   "source": [
    "def avg (a=0,b=0,c=0):   # here we provide a default value for every function\n",
    "    sum8 = a+b+c\n",
    "    avg = sum8 / 3\n",
    "    return avg"
   ]
  },
  {
   "cell_type": "code",
   "execution_count": 6,
   "id": "11de3e0c-518b-402f-942c-ebe1ca770a79",
   "metadata": {},
   "outputs": [
    {
     "data": {
      "text/plain": [
       "8.0"
      ]
     },
     "execution_count": 6,
     "metadata": {},
     "output_type": "execute_result"
    }
   ],
   "source": [
    "avg(8,9,7)"
   ]
  },
  {
   "cell_type": "code",
   "execution_count": 63,
   "id": "328800a7-054a-447d-9236-a39bec063f04",
   "metadata": {},
   "outputs": [
    {
     "data": {
      "text/plain": [
       "4.333333333333333"
      ]
     },
     "execution_count": 63,
     "metadata": {},
     "output_type": "execute_result"
    }
   ],
   "source": [
    "avg (5,8)"
   ]
  },
  {
   "cell_type": "code",
   "execution_count": 155,
   "id": "c2d6b897-591c-4d43-b48c-b06572a3c9f4",
   "metadata": {},
   "outputs": [],
   "source": [
    "def sum(a,b):\n",
    "    sum = a + b \n",
    "    return sum"
   ]
  },
  {
   "cell_type": "code",
   "execution_count": 156,
   "id": "9be88a28-9253-4e3f-b74c-70051dbe6365",
   "metadata": {},
   "outputs": [
    {
     "data": {
      "text/plain": [
       "[1, 2, 3, 4, 5, 6]"
      ]
     },
     "execution_count": 156,
     "metadata": {},
     "output_type": "execute_result"
    }
   ],
   "source": [
    "sum([1,2,3],[4,5,6])"
   ]
  },
  {
   "cell_type": "code",
   "execution_count": 59,
   "id": "deb0e832-42b4-4675-b00c-bb8b074ec26b",
   "metadata": {},
   "outputs": [
    {
     "data": {
      "text/plain": [
       "'pwskills'"
      ]
     },
     "execution_count": 59,
     "metadata": {},
     "output_type": "execute_result"
    }
   ],
   "source": [
    "sum(\"pw\",\"skills\")"
   ]
  },
  {
   "cell_type": "code",
   "execution_count": 66,
   "id": "b6fec3ba-bb10-40f6-86bf-a198cf2009d9",
   "metadata": {},
   "outputs": [],
   "source": [
    "# write a function that take list as input and return me all numeric values.\n",
    "def lisst(a):\n",
    "    n=[]\n",
    "    for i in a:\n",
    "        if type(i) == int or type(i) == float:\n",
    "            n.append(i)\n",
    "    return n"
   ]
  },
  {
   "cell_type": "code",
   "execution_count": 68,
   "id": "c2a37fc0-8fb3-4b78-a945-3e074ce738e3",
   "metadata": {},
   "outputs": [
    {
     "data": {
      "text/plain": [
       "[1, 2, 3, 5.6]"
      ]
     },
     "execution_count": 68,
     "metadata": {},
     "output_type": "execute_result"
    }
   ],
   "source": [
    "lisst([1,2,3,\"hello\",True, \"good\",5.6])"
   ]
  },
  {
   "cell_type": "code",
   "execution_count": 72,
   "id": "dd5ef68b-113f-44f3-b4ed-d0ac169d6b72",
   "metadata": {},
   "outputs": [],
   "source": [
    "# write a function that take list as input and have list in list we want all numeric values.\n",
    "def function(a):\n",
    "    n=[]\n",
    "    for i in a:\n",
    "        if type(i) == int or type(i) == float:\n",
    "            n.append(i)\n",
    "        elif type(i)== list:\n",
    "            for m in i:\n",
    "                if type(m) == int or type(m) == float:\n",
    "                    n.append(m)\n",
    "    return n"
   ]
  },
  {
   "cell_type": "code",
   "execution_count": 74,
   "id": "52e229c2-c4e4-4b17-916e-ea296605d972",
   "metadata": {},
   "outputs": [
    {
     "data": {
      "text/plain": [
       "[1, 2, 3, 4.5, 4, 3.2, 9.2]"
      ]
     },
     "execution_count": 74,
     "metadata": {},
     "output_type": "execute_result"
    }
   ],
   "source": [
    "function([1,2,3,4.5,\"hello\",[4,3.2,9.2,\"list\"]])"
   ]
  },
  {
   "cell_type": "code",
   "execution_count": 75,
   "id": "70435f6f-ab2e-4a96-ab4b-dcf4ed597f8f",
   "metadata": {},
   "outputs": [],
   "source": [
    "def sums(*args):   # variable lenght arguments\n",
    "    s=0\n",
    "    for i in args:\n",
    "        s=s+i\n",
    "    return s"
   ]
  },
  {
   "cell_type": "code",
   "execution_count": 77,
   "id": "5870628c-86c9-48d3-84cb-d33d4e681dfb",
   "metadata": {},
   "outputs": [
    {
     "data": {
      "text/plain": [
       "29"
      ]
     },
     "execution_count": 77,
     "metadata": {},
     "output_type": "execute_result"
    }
   ],
   "source": [
    "sums(1,2,5,6,8,7)"
   ]
  },
  {
   "cell_type": "code",
   "execution_count": 78,
   "id": "a4c3677b-7d4a-4293-80cd-eb2311b2a277",
   "metadata": {},
   "outputs": [],
   "source": [
    "def sin(*args):\n",
    "    return args"
   ]
  },
  {
   "cell_type": "code",
   "execution_count": 80,
   "id": "935f9d79-17f2-41d6-a307-1ce5e9b62e84",
   "metadata": {},
   "outputs": [
    {
     "data": {
      "text/plain": [
       "(1, 2, 8, 4, [5, 2, 96], ('fuy', 'wgfk', 'uweg'))"
      ]
     },
     "execution_count": 80,
     "metadata": {},
     "output_type": "execute_result"
    }
   ],
   "source": [
    "sin(1,2,8,4,[5,2,96],(\"fuy\",\"wgfk\",\"uweg\"))"
   ]
  },
  {
   "cell_type": "code",
   "execution_count": 83,
   "id": "b142d888-37d4-4fd7-b1d6-27e02d65d9d0",
   "metadata": {},
   "outputs": [],
   "source": [
    "def son(*args,a):    # here you have to mention positional argument.\n",
    "    return args ,a   # combination of variable and positional argument."
   ]
  },
  {
   "cell_type": "code",
   "execution_count": 84,
   "id": "7ce0ee0a-e5ee-467f-9803-33d549e4409a",
   "metadata": {},
   "outputs": [
    {
     "data": {
      "text/plain": [
       "((1, 2, 8, 4, [5, 2, 96], ('fuy', 'wgfk', 'uweg')), True)"
      ]
     },
     "execution_count": 84,
     "metadata": {},
     "output_type": "execute_result"
    }
   ],
   "source": [
    "son(1,2,8,4,[5,2,96],(\"fuy\",\"wgfk\",\"uweg\"), a = True)"
   ]
  },
  {
   "cell_type": "code",
   "execution_count": 85,
   "id": "ba4d1ab6-4b62-45b3-969d-33891ec766d8",
   "metadata": {},
   "outputs": [],
   "source": [
    "def team(a,b):\n",
    "    return f\"{a} is working on {b}.\""
   ]
  },
  {
   "cell_type": "code",
   "execution_count": 87,
   "id": "02a36e7f-b973-4b2e-b5f2-94024cc5fc3d",
   "metadata": {},
   "outputs": [
    {
     "data": {
      "text/plain": [
       "'Pulkit is working on Gen.AI.'"
      ]
     },
     "execution_count": 87,
     "metadata": {},
     "output_type": "execute_result"
    }
   ],
   "source": [
    "team(\"Pulkit\",\"Gen.AI\")"
   ]
  },
  {
   "cell_type": "code",
   "execution_count": 88,
   "id": "8a90aef2-01cf-4b33-95bf-134680b2235e",
   "metadata": {},
   "outputs": [],
   "source": [
    "def kwarg_func(**kwargs):\n",
    "    return kwargs\n",
    "\n",
    "# **kwargs is used to pass a variable number of keyworded arguments.\n",
    "# It behaves like a dictionary, where each keyword maps to its corresponding value."
   ]
  },
  {
   "cell_type": "code",
   "execution_count": 90,
   "id": "f48fc991-22c7-4589-8762-44defa3324bf",
   "metadata": {},
   "outputs": [
    {
     "data": {
      "text/plain": [
       "{'a': 36, 'b': 85}"
      ]
     },
     "execution_count": 90,
     "metadata": {},
     "output_type": "execute_result"
    }
   ],
   "source": [
    "kwarg_func(a=36,b=85)"
   ]
  },
  {
   "cell_type": "code",
   "execution_count": 113,
   "id": "af698186-6f50-43c9-9d3a-b15099af0d07",
   "metadata": {},
   "outputs": [],
   "source": [
    "# Q. write a pair value function which has datatypes as list only.\n",
    "\n",
    "def pair(**kwargs):\n",
    "    m=[]\n",
    "    for i in kwargs.keys():\n",
    "        if type(kwargs[i]) == list:\n",
    "            m.append(i)\n",
    "    return m   "
   ]
  },
  {
   "cell_type": "code",
   "execution_count": 114,
   "id": "cda78706-957d-4316-90a8-f4a71e364b3f",
   "metadata": {},
   "outputs": [
    {
     "data": {
      "text/plain": [
       "['p', 'o']"
      ]
     },
     "execution_count": 114,
     "metadata": {},
     "output_type": "execute_result"
    }
   ],
   "source": [
    "pair(a=25,b=32655,p=[1,5,3,9],o=[\"hello\",\"Bye\"])"
   ]
  },
  {
   "cell_type": "code",
   "execution_count": 116,
   "id": "df63cc9e-721f-4e83-a8ba-66f92ad53290",
   "metadata": {},
   "outputs": [],
   "source": [
    "def test_1(*args,**kwargs):\n",
    "    return args, kwargs"
   ]
  },
  {
   "cell_type": "code",
   "execution_count": 117,
   "id": "7b72b2da-96a8-49e1-bb2a-aeda67891580",
   "metadata": {},
   "outputs": [
    {
     "data": {
      "text/plain": [
       "((1, 2, 3, 4), {'a': 1021, 'b': 6986, 'c': 9764})"
      ]
     },
     "execution_count": 117,
     "metadata": {},
     "output_type": "execute_result"
    }
   ],
   "source": [
    "test_1(1,2,3,4,a=1021,b=6986,c=9764)"
   ]
  },
  {
   "cell_type": "code",
   "execution_count": 127,
   "id": "2c3ef259-dfdb-440f-bc7f-e0c0edcbc06b",
   "metadata": {},
   "outputs": [],
   "source": [
    "# python namespace: A namespace acts as a container that holds names and maps them to their corresponding objects.\n",
    "def greet1():\n",
    "    message = \"Hello Welcome\"\n",
    "    print(message)       "
   ]
  },
  {
   "cell_type": "code",
   "execution_count": 128,
   "id": "6e90768e-9fcb-4bf8-93b0-9ba75ef7fb8b",
   "metadata": {},
   "outputs": [
    {
     "name": "stdout",
     "output_type": "stream",
     "text": [
      "Hello Welcome\n"
     ]
    }
   ],
   "source": [
    "greet1()"
   ]
  },
  {
   "cell_type": "code",
   "execution_count": 130,
   "id": "614aa217-5909-46bc-a346-031df4b160f8",
   "metadata": {},
   "outputs": [],
   "source": [
    "subpart = \" to the course\"\n",
    "def greet2():\n",
    "    message = \"Hello Welcome\" + subpart\n",
    "    print(message)  \n",
    "# here subpart is a global variable and message is local variable"
   ]
  },
  {
   "cell_type": "code",
   "execution_count": 131,
   "id": "96e7b5ae-9531-4d73-b82b-2024d372437a",
   "metadata": {},
   "outputs": [
    {
     "name": "stdout",
     "output_type": "stream",
     "text": [
      "Hello Welcome to the course\n"
     ]
    }
   ],
   "source": [
    "greet2()"
   ]
  },
  {
   "cell_type": "code",
   "execution_count": 4,
   "id": "d6891c03-21fc-4596-9a43-99b0aff946ae",
   "metadata": {},
   "outputs": [],
   "source": [
    "# function inside function\n",
    "def marks_in_subject(**kwargs):\n",
    "    def total_marks(marks_list):\n",
    "        return sum(marks_list)\n",
    "    marks_list=[]\n",
    "    for subject, marks in kwargs.items():\n",
    "        marks_list.append(marks)\n",
    "    return total_marks(marks_list)"
   ]
  },
  {
   "cell_type": "code",
   "execution_count": 5,
   "id": "b2ec2f0f-c397-451a-afad-ce8286a04684",
   "metadata": {},
   "outputs": [
    {
     "data": {
      "text/plain": [
       "294"
      ]
     },
     "execution_count": 5,
     "metadata": {},
     "output_type": "execute_result"
    }
   ],
   "source": [
    "marks_in_subject(a=98,b=97,c=99)"
   ]
  },
  {
   "cell_type": "code",
   "execution_count": 18,
   "id": "61f7961e-7caa-4490-aa13-a2e4866856ad",
   "metadata": {},
   "outputs": [],
   "source": [
    "# detail about the function: by doc string\n",
    "\n",
    "def find_power(num,power):\n",
    "    \"\"\"this function return the power the number\n",
    "        num(int): a integer value \n",
    "        power(int): any integer value\n",
    "    returns: \n",
    "         num with the power.\n",
    "    \"\"\"\n",
    "    return num**power"
   ]
  },
  {
   "cell_type": "code",
   "execution_count": 19,
   "id": "84fe6fb5-9b3a-4b41-b5ef-935c2895bd33",
   "metadata": {},
   "outputs": [
    {
     "data": {
      "text/plain": [
       "256"
      ]
     },
     "execution_count": 19,
     "metadata": {},
     "output_type": "execute_result"
    }
   ],
   "source": [
    "find_power(2,8)"
   ]
  },
  {
   "cell_type": "code",
   "execution_count": 20,
   "id": "0db1d286-3b2e-4f39-982c-73c095101693",
   "metadata": {},
   "outputs": [
    {
     "name": "stdout",
     "output_type": "stream",
     "text": [
      "Help on function find_power in module __main__:\n",
      "\n",
      "find_power(num, power)\n",
      "    this function return the power the number\n",
      "        num(int): a integer value \n",
      "        power(int): any integer value\n",
      "    returns: \n",
      "         num with the power.\n",
      "\n"
     ]
    }
   ],
   "source": [
    "help(find_power)"
   ]
  },
  {
   "cell_type": "code",
   "execution_count": 1,
   "id": "fbb4be43-edd4-462b-a496-6e4aeef502fe",
   "metadata": {},
   "outputs": [],
   "source": [
    "# lambda function: an anonynous function\n",
    "# syntax: lambda arguments:expression"
   ]
  },
  {
   "cell_type": "code",
   "execution_count": 5,
   "id": "7e6c0b36-7cbd-403a-a464-6cfbff165787",
   "metadata": {},
   "outputs": [],
   "source": [
    "a= lambda x:x**5"
   ]
  },
  {
   "cell_type": "code",
   "execution_count": 6,
   "id": "076a3d21-e6cf-4d25-9a80-f2eed8fe02fc",
   "metadata": {},
   "outputs": [
    {
     "data": {
      "text/plain": [
       "3125"
      ]
     },
     "execution_count": 6,
     "metadata": {},
     "output_type": "execute_result"
    }
   ],
   "source": [
    "a(5)"
   ]
  },
  {
   "cell_type": "code",
   "execution_count": 7,
   "id": "a3bf340b-f476-4253-ad0a-3369000601b1",
   "metadata": {},
   "outputs": [],
   "source": [
    "p = lambda g:g**0.5"
   ]
  },
  {
   "cell_type": "code",
   "execution_count": 8,
   "id": "68a02149-b3b7-44f7-a43b-3511fefb7f7a",
   "metadata": {},
   "outputs": [
    {
     "data": {
      "text/plain": [
       "6.0"
      ]
     },
     "execution_count": 8,
     "metadata": {},
     "output_type": "execute_result"
    }
   ],
   "source": [
    "p(36)"
   ]
  },
  {
   "cell_type": "code",
   "execution_count": 10,
   "id": "8c5353a0-156a-4a59-8a45-db94ea6b11a2",
   "metadata": {},
   "outputs": [],
   "source": [
    "o = lambda l,m:l+m"
   ]
  },
  {
   "cell_type": "code",
   "execution_count": 11,
   "id": "cd697d67-0405-41c0-8922-ea2737c0f294",
   "metadata": {},
   "outputs": [
    {
     "data": {
      "text/plain": [
       "17"
      ]
     },
     "execution_count": 11,
     "metadata": {},
     "output_type": "execute_result"
    }
   ],
   "source": [
    "o(8,9)"
   ]
  },
  {
   "cell_type": "code",
   "execution_count": 13,
   "id": "3a09ac68-e3f9-4449-99b4-81d380f3e943",
   "metadata": {},
   "outputs": [],
   "source": [
    "is_even = lambda x:x%2==0"
   ]
  },
  {
   "cell_type": "code",
   "execution_count": 14,
   "id": "ada5bc59-5e2a-41dc-acee-5f73e594ba93",
   "metadata": {},
   "outputs": [
    {
     "data": {
      "text/plain": [
       "True"
      ]
     },
     "execution_count": 14,
     "metadata": {},
     "output_type": "execute_result"
    }
   ],
   "source": [
    "is_even(96)"
   ]
  },
  {
   "cell_type": "code",
   "execution_count": 24,
   "id": "d27b6dfa-00c4-4bb3-b706-e93b2d308dcc",
   "metadata": {},
   "outputs": [
    {
     "data": {
      "text/plain": [
       "['Hey', 'Hello', 'Pulkit', 'Resource', 'Datascience']"
      ]
     },
     "execution_count": 24,
     "metadata": {},
     "output_type": "execute_result"
    }
   ],
   "source": [
    "x= [\"Hello\",\"Datascience\",\"Pulkit\",\"Resource\",\"Hey\"]\n",
    "sorted_words = sorted(x,key=lambda x: len(x))\n",
    "sorted_words"
   ]
  },
  {
   "cell_type": "code",
   "execution_count": 28,
   "id": "c1136e03-653e-4b87-9dc0-e8b22dcf2e4d",
   "metadata": {},
   "outputs": [
    {
     "data": {
      "text/plain": [
       "{0, 1, 2, 3, 5, 8, 13, 21, 34}"
      ]
     },
     "execution_count": 28,
     "metadata": {},
     "output_type": "execute_result"
    }
   ],
   "source": [
    "fib= lambda n:n if n<=1 else fib(n-1)+fib(n-2)\n",
    "{fib(i) for i in range(10)}"
   ]
  },
  {
   "cell_type": "code",
   "execution_count": 37,
   "id": "a3720321-d661-4a39-956a-ad4818581ef4",
   "metadata": {},
   "outputs": [
    {
     "data": {
      "text/plain": [
       "120"
      ]
     },
     "execution_count": 37,
     "metadata": {},
     "output_type": "execute_result"
    }
   ],
   "source": [
    "# factorial\n",
    "def factorial(n):\n",
    "    p=1\n",
    "    i=1\n",
    "    while i < (n+1):\n",
    "        p = p*i \n",
    "        i= i+1\n",
    "    return p\n",
    "\n",
    "\n",
    "factorial(5)"
   ]
  },
  {
   "cell_type": "code",
   "execution_count": 50,
   "id": "93cd76f6-e619-43c4-b47b-e94f1cf2d164",
   "metadata": {},
   "outputs": [
    {
     "data": {
      "text/plain": [
       "120"
      ]
     },
     "execution_count": 50,
     "metadata": {},
     "output_type": "execute_result"
    }
   ],
   "source": [
    "def factoriall(n):\n",
    "    p=1\n",
    "    for i in range(1,n+1):\n",
    "        p=p*i\n",
    "        i=i+1\n",
    "    return p\n",
    "\n",
    "factoriall(5)"
   ]
  },
  {
   "cell_type": "code",
   "execution_count": 47,
   "id": "909e185e-fa76-4513-bd64-7296ecce0bed",
   "metadata": {},
   "outputs": [
    {
     "data": {
      "text/plain": [
       "120"
      ]
     },
     "execution_count": 47,
     "metadata": {},
     "output_type": "execute_result"
    }
   ],
   "source": [
    "def fact_no(n):\n",
    "    if n == 0:\n",
    "        return 1\n",
    "    else:\n",
    "        return n*fact_no(n-1)\n",
    "    \n",
    "fact_no(5)"
   ]
  },
  {
   "cell_type": "code",
   "execution_count": 52,
   "id": "f9678b38-4b5a-44da-873e-2c8919255aec",
   "metadata": {},
   "outputs": [
    {
     "data": {
      "text/plain": [
       "120"
      ]
     },
     "execution_count": 52,
     "metadata": {},
     "output_type": "execute_result"
    }
   ],
   "source": [
    "aa= lambda n:1 if n==0 else n*aa(n-1)\n",
    "aa(5)"
   ]
  },
  {
   "cell_type": "code",
   "execution_count": 53,
   "id": "659d8313-b853-4dfd-9bec-913c5e707eb1",
   "metadata": {},
   "outputs": [],
   "source": [
    "# map: executes a specified function for each of the time of iterable.\n",
    "# syntax: map(function,iteration)"
   ]
  },
  {
   "cell_type": "code",
   "execution_count": 57,
   "id": "3c7d23b0-d8c2-479d-b185-35add60b252c",
   "metadata": {},
   "outputs": [
    {
     "name": "stdout",
     "output_type": "stream",
     "text": [
      "Help on class map in module builtins:\n",
      "\n",
      "class map(object)\n",
      " |  map(func, *iterables) --> map object\n",
      " |  \n",
      " |  Make an iterator that computes the function using arguments from\n",
      " |  each of the iterables.  Stops when the shortest iterable is exhausted.\n",
      " |  \n",
      " |  Methods defined here:\n",
      " |  \n",
      " |  __getattribute__(self, name, /)\n",
      " |      Return getattr(self, name).\n",
      " |  \n",
      " |  __iter__(self, /)\n",
      " |      Implement iter(self).\n",
      " |  \n",
      " |  __next__(self, /)\n",
      " |      Implement next(self).\n",
      " |  \n",
      " |  __reduce__(...)\n",
      " |      Return state information for pickling.\n",
      " |  \n",
      " |  ----------------------------------------------------------------------\n",
      " |  Static methods defined here:\n",
      " |  \n",
      " |  __new__(*args, **kwargs) from builtins.type\n",
      " |      Create and return a new object.  See help(type) for accurate signature.\n",
      "\n"
     ]
    }
   ],
   "source": [
    "help(map)"
   ]
  },
  {
   "cell_type": "code",
   "execution_count": 59,
   "id": "6da5f361-14c2-4ecd-83c6-5627ebb766ab",
   "metadata": {},
   "outputs": [
    {
     "data": {
      "text/plain": [
       "[1, 4, 9, 16, 25, 36]"
      ]
     },
     "execution_count": 59,
     "metadata": {},
     "output_type": "execute_result"
    }
   ],
   "source": [
    "l =[1,2,3,4,5,6]\n",
    "def square(l):\n",
    "    sq=[]\n",
    "    for i in l:\n",
    "        sq.append(i**2)\n",
    "    return sq\n",
    "\n",
    "square(l)\n",
    "\n",
    "# def square(x):\n",
    "#      return x**2"
   ]
  },
  {
   "cell_type": "code",
   "execution_count": 61,
   "id": "884a038e-76cb-40c0-8ace-537fe6a41aab",
   "metadata": {},
   "outputs": [
    {
     "data": {
      "text/plain": [
       "[1,\n",
       " 4,\n",
       " 9,\n",
       " 16,\n",
       " 25,\n",
       " 36,\n",
       " 49,\n",
       " 64,\n",
       " 81,\n",
       " 100,\n",
       " 121,\n",
       " 144,\n",
       " 169,\n",
       " 196,\n",
       " 225,\n",
       " 256,\n",
       " 289,\n",
       " 324,\n",
       " 361]"
      ]
     },
     "execution_count": 61,
     "metadata": {},
     "output_type": "execute_result"
    }
   ],
   "source": [
    "square(range(1,20))"
   ]
  },
  {
   "cell_type": "code",
   "execution_count": 63,
   "id": "7d69147a-9993-4812-b8fd-afb552d2445e",
   "metadata": {},
   "outputs": [
    {
     "data": {
      "text/plain": [
       "[1, 4, 9, 16, 25, 36]"
      ]
     },
     "execution_count": 63,
     "metadata": {},
     "output_type": "execute_result"
    }
   ],
   "source": [
    "#map with function\n",
    "l =[1,2,3,4,5,6]\n",
    "def sq(n):\n",
    "    return n**2\n",
    "\n",
    "list(map(sq,l))"
   ]
  },
  {
   "cell_type": "code",
   "execution_count": 65,
   "id": "69df6410-b4c0-4365-99e1-d36e44c77c5e",
   "metadata": {},
   "outputs": [
    {
     "data": {
      "text/plain": [
       "[1, 4, 9, 16, 25, 36]"
      ]
     },
     "execution_count": 65,
     "metadata": {},
     "output_type": "execute_result"
    }
   ],
   "source": [
    "# map with lambda \n",
    "list(map(lambda x: x**2, l))"
   ]
  },
  {
   "cell_type": "code",
   "execution_count": 66,
   "id": "487f6fdb-872e-4f43-b1fc-6f8d7c8dfbaa",
   "metadata": {},
   "outputs": [
    {
     "data": {
      "text/plain": [
       "[11, 12, 13, 14, 15, 16]"
      ]
     },
     "execution_count": 66,
     "metadata": {},
     "output_type": "execute_result"
    }
   ],
   "source": [
    "list(map(lambda x:x+10,l))"
   ]
  },
  {
   "cell_type": "code",
   "execution_count": 70,
   "id": "73aba189-7020-470c-8f86-85f08b635bc0",
   "metadata": {},
   "outputs": [
    {
     "data": {
      "text/plain": [
       "[1, 4, 9]"
      ]
     },
     "execution_count": 70,
     "metadata": {},
     "output_type": "execute_result"
    }
   ],
   "source": [
    "ll= ['1','2','3']\n",
    "list(map(lambda x: int(x)**2, ll))"
   ]
  },
  {
   "cell_type": "code",
   "execution_count": 75,
   "id": "adba65db-f0ca-43a4-96cd-724a13f5f89a",
   "metadata": {},
   "outputs": [
    {
     "data": {
      "text/plain": [
       "[4, 3, 2, 2]"
      ]
     },
     "execution_count": 75,
     "metadata": {},
     "output_type": "execute_result"
    }
   ],
   "source": [
    "grades= [\"A\",\"B\",\"C\",\"D\"]\n",
    "list(map(lambda grades: 4 if grades==\"A\" else(3 if grades ==\"B\" else 2),grades))"
   ]
  },
  {
   "cell_type": "code",
   "execution_count": 77,
   "id": "d25d6e87-0ab2-4556-a5ee-11591ccc1995",
   "metadata": {},
   "outputs": [],
   "source": [
    "# reduce : reduction i.e. is a process reduce a list of item to single value.\n",
    "from functools import reduce"
   ]
  },
  {
   "cell_type": "code",
   "execution_count": 79,
   "id": "dd0dcf3a-bb9d-4974-a624-dcc75bb3629a",
   "metadata": {},
   "outputs": [
    {
     "data": {
      "text/plain": [
       "28"
      ]
     },
     "execution_count": 79,
     "metadata": {},
     "output_type": "execute_result"
    }
   ],
   "source": [
    "l = [1,2,3,4,5,6,7]\n",
    "reduce(lambda x,y: x+y, l)"
   ]
  },
  {
   "cell_type": "code",
   "execution_count": 82,
   "id": "66b15c16-5121-4797-9c3f-048c3d9f5abd",
   "metadata": {},
   "outputs": [
    {
     "data": {
      "text/plain": [
       "28"
      ]
     },
     "execution_count": 82,
     "metadata": {},
     "output_type": "execute_result"
    }
   ],
   "source": [
    "def add(x,y):\n",
    "    return x+y\n",
    "reduce(add,l)"
   ]
  },
  {
   "cell_type": "code",
   "execution_count": 83,
   "id": "06aa319c-184e-4d69-b053-7e51f8704e41",
   "metadata": {},
   "outputs": [
    {
     "data": {
      "text/plain": [
       "5040"
      ]
     },
     "execution_count": 83,
     "metadata": {},
     "output_type": "execute_result"
    }
   ],
   "source": [
    "l = [1,2,3,4,5,6,7]\n",
    "reduce(lambda x,y: x*y, l)"
   ]
  },
  {
   "cell_type": "code",
   "execution_count": 86,
   "id": "6ebb0ca2-4e50-46a4-88f7-84802855f9af",
   "metadata": {},
   "outputs": [
    {
     "data": {
      "text/plain": [
       "'Data Science Courses'"
      ]
     },
     "execution_count": 86,
     "metadata": {},
     "output_type": "execute_result"
    }
   ],
   "source": [
    "words = [\"Data\",\"Science\",\"Courses\"]\n",
    "reduce(lambda x,y: x+' '+y, words)"
   ]
  },
  {
   "cell_type": "code",
   "execution_count": 88,
   "id": "2b404d51-3ced-4464-bf8e-cc5241f09016",
   "metadata": {},
   "outputs": [
    {
     "data": {
      "text/plain": [
       "1889"
      ]
     },
     "execution_count": 88,
     "metadata": {},
     "output_type": "execute_result"
    }
   ],
   "source": [
    "# Q. use reduce function to find greatest number in the list\n",
    "\n",
    "p = [1,25,36,75,179,129,1889]\n",
    "reduce(lambda  x,y : x if x> y else y, p)"
   ]
  },
  {
   "cell_type": "code",
   "execution_count": 90,
   "id": "2140b116-12ae-446e-b9d9-a49e862c25d7",
   "metadata": {},
   "outputs": [
    {
     "data": {
      "text/plain": [
       "120"
      ]
     },
     "execution_count": 90,
     "metadata": {},
     "output_type": "execute_result"
    }
   ],
   "source": [
    "# Q. find factorial using reduce\n",
    "\n",
    "def factorialll(n):\n",
    "    return reduce(lambda x,y: x*y, range(1,n+1))\n",
    "\n",
    "factorialll(5)"
   ]
  },
  {
   "cell_type": "code",
   "execution_count": 91,
   "id": "8c3f9ebf-821f-49b3-9437-3fdefeb9adbd",
   "metadata": {},
   "outputs": [],
   "source": [
    "# filter : to filter elements froma iterable based on certain condition\n",
    "#syntax: filter(function,iterable)"
   ]
  },
  {
   "cell_type": "code",
   "execution_count": 96,
   "id": "b7aa2456-8898-4889-a30d-d5f297f42465",
   "metadata": {},
   "outputs": [
    {
     "data": {
      "text/plain": [
       "[2, 4, 6]"
      ]
     },
     "execution_count": 96,
     "metadata": {},
     "output_type": "execute_result"
    }
   ],
   "source": [
    "l = [1,2,3,4,5,6,7]\n",
    "list(filter(lambda x: x%2 == 0,l))"
   ]
  },
  {
   "cell_type": "code",
   "execution_count": 97,
   "id": "c3643cae-671a-442a-a0ca-17914bc285cf",
   "metadata": {},
   "outputs": [
    {
     "data": {
      "text/plain": [
       "[-5, -8, -85]"
      ]
     },
     "execution_count": 97,
     "metadata": {},
     "output_type": "execute_result"
    }
   ],
   "source": [
    "l1=[-5,-8,2,36,-85]\n",
    "list(filter(lambda x: x< 0,l1))"
   ]
  },
  {
   "cell_type": "code",
   "execution_count": 6,
   "id": "589c1396-c603-48c4-869d-116c559557e7",
   "metadata": {},
   "outputs": [],
   "source": [
    "# iteration\n",
    "\n",
    "# for i in \"PWSKILLS\":\n",
    "#    print(i)"
   ]
  },
  {
   "cell_type": "code",
   "execution_count": null,
   "id": "6f6776f4-b717-428a-99ad-7ef54d0d6ea3",
   "metadata": {},
   "outputs": [],
   "source": [
    "# iterator: is a object that is used to iterate over iterable objects.\n",
    "# iterable object: list, tuple, string, sets, etc"
   ]
  },
  {
   "cell_type": "code",
   "execution_count": null,
   "id": "74712610-400f-4f07-a982-f5b375e0d970",
   "metadata": {},
   "outputs": [],
   "source": [
    "s = \"PWSKILLS\"\n",
    "\n",
    "print(iter(s))   # iter function used to know object is iterable or not.\n",
    "# iter(5)        #  not iterable"
   ]
  },
  {
   "cell_type": "code",
   "execution_count": 4,
   "id": "335d208b-b7cc-4912-8a8a-242c51d3687a",
   "metadata": {},
   "outputs": [],
   "source": [
    "a = iter(s)"
   ]
  },
  {
   "cell_type": "code",
   "execution_count": 5,
   "id": "d29ac9f6-6c2c-4ac1-9997-0a6dac589f56",
   "metadata": {},
   "outputs": [
    {
     "data": {
      "text/plain": [
       "'P'"
      ]
     },
     "execution_count": 5,
     "metadata": {},
     "output_type": "execute_result"
    }
   ],
   "source": [
    "next(a)"
   ]
  },
  {
   "cell_type": "code",
   "execution_count": 7,
   "id": "31c24b28-7599-4ba0-8a76-23ec23c0b731",
   "metadata": {},
   "outputs": [
    {
     "data": {
      "text/plain": [
       "'S'"
      ]
     },
     "execution_count": 7,
     "metadata": {},
     "output_type": "execute_result"
    }
   ],
   "source": [
    "next(a)"
   ]
  },
  {
   "cell_type": "code",
   "execution_count": 1,
   "id": "437ae580-97d7-42a0-af6f-5f1250571ef1",
   "metadata": {},
   "outputs": [
    {
     "ename": "NameError",
     "evalue": "name 's' is not defined",
     "output_type": "error",
     "traceback": [
      "\u001b[0;31m---------------------------------------------------------------------------\u001b[0m",
      "\u001b[0;31mNameError\u001b[0m                                 Traceback (most recent call last)",
      "Cell \u001b[0;32mIn[1], line 3\u001b[0m\n\u001b[1;32m      1\u001b[0m \u001b[38;5;28;01mwhile\u001b[39;00m \u001b[38;5;28;01mTrue\u001b[39;00m:\n\u001b[1;32m      2\u001b[0m     \u001b[38;5;28;01mtry\u001b[39;00m:\n\u001b[0;32m----> 3\u001b[0m         a \u001b[38;5;241m=\u001b[39m \u001b[38;5;28miter\u001b[39m(\u001b[43ms\u001b[49m)\n\u001b[1;32m      4\u001b[0m         item \u001b[38;5;241m=\u001b[39m \u001b[38;5;28mnext\u001b[39m(a)\n\u001b[1;32m      5\u001b[0m         \u001b[38;5;28mprint\u001b[39m(item)\n",
      "\u001b[0;31mNameError\u001b[0m: name 's' is not defined"
     ]
    }
   ],
   "source": [
    "while True:\n",
    "    try:\n",
    "        a = iter(s)\n",
    "        item = next(a)\n",
    "        print(item)\n",
    "    except StopIteration:\n",
    "        break"
   ]
  },
  {
   "cell_type": "code",
   "execution_count": null,
   "id": "d34b4de9-b9a6-4a38-bc64-21ca0048703f",
   "metadata": {},
   "outputs": [],
   "source": []
  },
  {
   "cell_type": "code",
   "execution_count": null,
   "id": "48e84fbf-984c-449f-b751-cfafc3960cde",
   "metadata": {},
   "outputs": [],
   "source": []
  },
  {
   "cell_type": "code",
   "execution_count": null,
   "id": "81680a29-716a-494e-9629-99cc30c595d7",
   "metadata": {},
   "outputs": [],
   "source": []
  }
 ],
 "metadata": {
  "kernelspec": {
   "display_name": "Python 3 (ipykernel)",
   "language": "python",
   "name": "python3"
  },
  "language_info": {
   "codemirror_mode": {
    "name": "ipython",
    "version": 3
   },
   "file_extension": ".py",
   "mimetype": "text/x-python",
   "name": "python",
   "nbconvert_exporter": "python",
   "pygments_lexer": "ipython3",
   "version": "3.10.8"
  }
 },
 "nbformat": 4,
 "nbformat_minor": 5
}
