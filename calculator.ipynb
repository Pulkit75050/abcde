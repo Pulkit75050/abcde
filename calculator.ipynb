{
 "cells": [
  {
   "cell_type": "code",
   "execution_count": 2,
   "id": "27ba1829-4906-4ce0-97d4-a061de5465a9",
   "metadata": {},
   "outputs": [],
   "source": [
    "def calculator(x,y,operation):\n",
    "    result = 0\n",
    "    if operation == \"+\" :\n",
    "        result = x + y\n",
    "    elif operation == \"-\" : \n",
    "        result = x - y \n",
    "    elif operation == \"*\":\n",
    "        result = x * y\n",
    "    else:\n",
    "        result = x / y\n",
    "    return result"
   ]
  },
  {
   "cell_type": "code",
   "execution_count": 4,
   "id": "613085de-926a-4a1b-b8db-0689a5ba0e25",
   "metadata": {},
   "outputs": [
    {
     "data": {
      "text/plain": [
       "9"
      ]
     },
     "execution_count": 5,
     "metadata": {},
     "output_type": "execute_result"
    }
   ],
   "source": [
    "calculator(4,5 ,\"+\")"
   ]
  },
  {
   "cell_type": "code",
   "execution_count": null,
   "id": "2e80a252-7314-40fb-a4e1-e216f37badf3",
   "metadata": {},
   "outputs": [
    {
     "name": "stdin",
     "output_type": "stream",
     "text": [
      "Enter the value: 8\n",
      "Enter the operation: +\n",
      "Enter the second value: 9\n"
     ]
    },
    {
     "name": "stdout",
     "output_type": "stream",
     "text": [
      "17.0\n"
     ]
    },
    {
     "name": "stdin",
     "output_type": "stream",
     "text": [
      "Enter the operation: -\n",
      "Enter the second value: 7\n"
     ]
    },
    {
     "name": "stdout",
     "output_type": "stream",
     "text": [
      "10.0\n"
     ]
    },
    {
     "name": "stdin",
     "output_type": "stream",
     "text": [
      "Enter the operation: +\n",
      "Enter the second value: 89\n"
     ]
    },
    {
     "name": "stdout",
     "output_type": "stream",
     "text": [
      "99.0\n"
     ]
    }
   ],
   "source": [
    "x = float(input(\"Enter the value:\"))\n",
    "while True:\n",
    "    operation = input(\"Enter the operation:\")\n",
    "    y = float(input(\"Enter the second value:\"))\n",
    "    if operation == \"+\" :\n",
    "        a = x + y\n",
    "        print(a)\n",
    "        x = a\n",
    "    elif operation == \"-\" : \n",
    "        a = x - y\n",
    "        print(a)\n",
    "        x = a\n",
    "    elif operation == \"*\":\n",
    "        a = x * y\n",
    "        print(a)\n",
    "        x = a\n",
    "    elif operation == \"/\":\n",
    "        a = x / y\n",
    "        print(a)\n",
    "        x = a\n",
    "    else:\n",
    "        break\n"
   ]
  },
  {
   "cell_type": "code",
   "execution_count": null,
   "id": "d0144a85-44e6-49e2-98c3-bda4b6824773",
   "metadata": {},
   "outputs": [],
   "source": [
    "\n",
    "\n",
    "    "
   ]
  }
 ],
 "metadata": {
  "kernelspec": {
   "display_name": "Python 3 (ipykernel)",
   "language": "python",
   "name": "python3"
  },
  "language_info": {
   "codemirror_mode": {
    "name": "ipython",
    "version": 3
   },
   "file_extension": ".py",
   "mimetype": "text/x-python",
   "name": "python",
   "nbconvert_exporter": "python",
   "pygments_lexer": "ipython3",
   "version": "3.10.8"
  }
 },
 "nbformat": 4,
 "nbformat_minor": 5
}
