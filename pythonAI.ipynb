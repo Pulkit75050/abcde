{
 "cells": [
  {
   "cell_type": "code",
   "execution_count": null,
   "id": "ef3b1b5b-5d26-42d7-95e3-a83932cdf940",
   "metadata": {},
   "outputs": [],
   "source": [
    "## operators\n",
    "# Airthmatic\n",
    "# logical\n",
    "# bitwise\n",
    "# membership\n",
    "# Assignment\n",
    "# comparison\n",
    "# identity"
   ]
  },
  {
   "cell_type": "code",
   "execution_count": 3,
   "id": "59beb6aa-8dd5-40bb-8686-dd4bfb93a368",
   "metadata": {},
   "outputs": [],
   "source": [
    "# bitwise\n",
    "# print 5 as binary value as 101 i.e. formula 1*2**n\n",
    "# print 101 as number as b*2**n where b is the binary value i.e. it start from right to left."
   ]
  },
  {
   "cell_type": "code",
   "execution_count": null,
   "id": "acba0bbb-c403-4443-8597-ce42dc1b31f9",
   "metadata": {},
   "outputs": [],
   "source": []
  },
  {
   "cell_type": "code",
   "execution_count": null,
   "id": "a34acf6e-c073-495b-b117-2b89cdb66448",
   "metadata": {},
   "outputs": [],
   "source": []
  },
  {
   "cell_type": "code",
   "execution_count": null,
   "id": "c4de3595-a05f-48ca-8311-f46064c6ba8c",
   "metadata": {},
   "outputs": [],
   "source": []
  },
  {
   "cell_type": "code",
   "execution_count": null,
   "id": "cd46a0c4-ca04-429d-b71e-268f6c747ddc",
   "metadata": {},
   "outputs": [],
   "source": []
  }
 ],
 "metadata": {
  "kernelspec": {
   "display_name": "Python 3 (ipykernel)",
   "language": "python",
   "name": "python3"
  },
  "language_info": {
   "codemirror_mode": {
    "name": "ipython",
    "version": 3
   },
   "file_extension": ".py",
   "mimetype": "text/x-python",
   "name": "python",
   "nbconvert_exporter": "python",
   "pygments_lexer": "ipython3",
   "version": "3.10.8"
  }
 },
 "nbformat": 4,
 "nbformat_minor": 5
}
