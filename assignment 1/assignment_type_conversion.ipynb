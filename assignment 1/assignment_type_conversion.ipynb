{
 "cells": [
  {
   "cell_type": "code",
   "execution_count": 25,
   "id": "a5bc78f9-6e0e-401d-b020-e1a9f2296592",
   "metadata": {},
   "outputs": [
    {
     "data": {
      "text/plain": [
       "52.0"
      ]
     },
     "execution_count": 25,
     "metadata": {},
     "output_type": "execute_result"
    }
   ],
   "source": [
    "\"\"\" Q1. Convert an integer to a floatig-point number.\"\"\"\n",
    "good = 52\n",
    "\n",
    "good1 = float(good)\n",
    "type(good1)\n",
    "good1"
   ]
  },
  {
   "cell_type": "code",
   "execution_count": 44,
   "id": "9660ef9f-eefe-472b-8feb-5b4936f59051",
   "metadata": {},
   "outputs": [
    {
     "data": {
      "text/plain": [
       "5"
      ]
     },
     "execution_count": 44,
     "metadata": {},
     "output_type": "execute_result"
    }
   ],
   "source": [
    "\"\"\" Q2. Convert a float to an integer.\"\"\"\n",
    "hello = 5.1\n",
    "\n",
    "hello1 = int(hello)\n",
    "type(hello1)\n",
    "hello1"
   ]
  },
  {
   "cell_type": "code",
   "execution_count": 32,
   "id": "dc17c38a-3e0a-4022-97a2-b69d8ab08530",
   "metadata": {},
   "outputs": [
    {
     "data": {
      "text/plain": [
       "'5'"
      ]
     },
     "execution_count": 32,
     "metadata": {},
     "output_type": "execute_result"
    }
   ],
   "source": [
    "\"\"\" Q3. Convert an integer to a string.\"\"\"\n",
    "go = 5\n",
    "\n",
    "go2 = str(go)\n",
    "type(go2)\n",
    "go2"
   ]
  },
  {
   "cell_type": "code",
   "execution_count": 33,
   "id": "9b8104b0-6458-42ac-a3fc-7e32a95b7ad1",
   "metadata": {},
   "outputs": [
    {
     "data": {
      "text/plain": [
       "(1, 2, 3, 4, 5, 6)"
      ]
     },
     "execution_count": 33,
     "metadata": {},
     "output_type": "execute_result"
    }
   ],
   "source": [
    "\"\"\" O4. Convert a list to a tuple. \"\"\"\n",
    "home = [1,2,3,4,5,6]\n",
    "\n",
    "home1 = tuple(home)\n",
    "type(home1)\n",
    "home1"
   ]
  },
  {
   "cell_type": "code",
   "execution_count": 14,
   "id": "81e171df-4f96-4d70-8fb4-ed9117d24f90",
   "metadata": {},
   "outputs": [
    {
     "data": {
      "text/plain": [
       "[1, 2, 3, 4, 5, 6, 7, 8, 9]"
      ]
     },
     "execution_count": 14,
     "metadata": {},
     "output_type": "execute_result"
    }
   ],
   "source": [
    "\"\"\" Q5. Convert a tuple to a list. \"\"\"\n",
    "hut = (1,2,3,4,5,6,7,8,9)\n",
    "\n",
    "hut1 = list(hut)\n",
    "type(hut1)\n",
    "hut1"
   ]
  },
  {
   "cell_type": "code",
   "execution_count": 13,
   "id": "bffa1d04-a4a9-41c0-9a88-dcf1ef310a19",
   "metadata": {},
   "outputs": [
    {
     "data": {
      "text/plain": [
       "[1, 0, 1]"
      ]
     },
     "execution_count": 13,
     "metadata": {},
     "output_type": "execute_result"
    }
   ],
   "source": [
    "\"\"\" Q6. Convert a decimal number to binary. \"\"\"\n",
    "n = int(5.0)\n",
    "l = []\n",
    "while n != 0:\n",
    "    i = n%2\n",
    "    l.append(i)\n",
    "    n = n//2\n",
    "l"
   ]
  },
  {
   "cell_type": "code",
   "execution_count": 42,
   "id": "b52de2ee-3079-4895-a8a1-506717306a6d",
   "metadata": {},
   "outputs": [
    {
     "data": {
      "text/plain": [
       "True"
      ]
     },
     "execution_count": 42,
     "metadata": {},
     "output_type": "execute_result"
    }
   ],
   "source": [
    "\"\"\" Q7. Convert a non zero number to boolean. \"\"\"\n",
    "have= 36\n",
    "\n",
    "have1 = bool(have)\n",
    "type(have1)\n",
    "have1"
   ]
  }
 ],
 "metadata": {
  "kernelspec": {
   "display_name": "Python 3 (ipykernel)",
   "language": "python",
   "name": "python3"
  },
  "language_info": {
   "codemirror_mode": {
    "name": "ipython",
    "version": 3
   },
   "file_extension": ".py",
   "mimetype": "text/x-python",
   "name": "python",
   "nbconvert_exporter": "python",
   "pygments_lexer": "ipython3",
   "version": "3.10.8"
  }
 },
 "nbformat": 4,
 "nbformat_minor": 5
}
